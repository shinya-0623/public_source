{
 "metadata": {
  "language_info": {
   "codemirror_mode": {
    "name": "ipython",
    "version": 3
   },
   "file_extension": ".py",
   "mimetype": "text/x-python",
   "name": "python",
   "nbconvert_exporter": "python",
   "pygments_lexer": "ipython3",
   "version": "3.7.3-final"
  },
  "orig_nbformat": 2,
  "kernelspec": {
   "name": "Python 3.7.3 64-bit ('test3': conda)",
   "display_name": "Python 3.7.3 64-bit ('test3': conda)",
   "metadata": {
    "interpreter": {
     "hash": "a29c3b94c6321d7b98d5bed2ef5e4ecf59a55548a69f735368a30792f7f3d2c9"
    }
   }
  }
 },
 "nbformat": 4,
 "nbformat_minor": 2,
 "cells": [
  {
   "source": [
    "## 「pythonについて」\n",
    "### 　機械学習をプログラムするうえで必要な機能が整っているプログラミング言語\n",
    "### 　webアプリ、ゲームなども開発可能（スマホアプリは向いてない）\n",
    "### 　DataRobotに投入するデータに対して前処理、可視化/分析に利用できる\n"
   ],
   "cell_type": "markdown",
   "metadata": {}
  },
  {
   "source": [
    "## 「コメント、実行結果の表示」"
   ],
   "cell_type": "markdown",
   "metadata": {}
  },
  {
   "cell_type": "code",
   "execution_count": 20,
   "metadata": {},
   "outputs": [
    {
     "output_type": "stream",
     "name": "stdout",
     "text": [
      "Hello, Python\n"
     ]
    },
    {
     "output_type": "execute_result",
     "data": {
      "text/plain": [
       "'\\n\\nここはコメントです。\\nここはコメントです。\\nここはコメントです。\\n\\n'"
      ]
     },
     "metadata": {},
     "execution_count": 20
    }
   ],
   "source": [
    "print(\"Hello, Python\") #実行結果を表示 \n",
    "\n",
    "\n",
    "\n",
    "# この行はコメントです。この行は実行されません。\n",
    "\n",
    "\"\"\"\n",
    "\n",
    "ここはコメントです。\n",
    "ここはコメントです。\n",
    "ここはコメントです。\n",
    "\n",
    "\"\"\""
   ]
  },
  {
   "source": [
    "## 「プログラムの処理の流れ」\n",
    "### 　プログラムは基本的に上から下に流れていく"
   ],
   "cell_type": "markdown",
   "metadata": {}
  },
  {
   "cell_type": "code",
   "execution_count": 14,
   "metadata": {},
   "outputs": [
    {
     "output_type": "stream",
     "name": "stdout",
     "text": [
      "最初の処理\n次の処理\n最後の処理\n"
     ]
    }
   ],
   "source": [
    "print(\"最初の処理\") \n",
    "print(\"次の処理\") \n",
    "print(\"最後の処理\") "
   ]
  },
  {
   "source": [
    "## 「数値の取り扱い」"
   ],
   "cell_type": "markdown",
   "metadata": {}
  },
  {
   "cell_type": "code",
   "execution_count": 4,
   "metadata": {},
   "outputs": [
    {
     "output_type": "stream",
     "name": "stdout",
     "text": [
      "15\n3\n3.3333333333333335\n1\n"
     ]
    }
   ],
   "source": [
    "print(10 + 5) # 足している\n",
    "print(5 - 2)  # 引いている\n",
    "print(10 / 3)   # 割っている\n",
    "print(10 % 3)   # あまりを求めている"
   ]
  },
  {
   "source": [
    "## 「文字列の取り扱い」\n",
    "### 　文字列はシングルクォーテーション「'」、またはダブルクォーテーション「\"」で囲む必要がある"
   ],
   "cell_type": "markdown",
   "metadata": {}
  },
  {
   "cell_type": "code",
   "execution_count": 6,
   "metadata": {},
   "outputs": [
    {
     "output_type": "stream",
     "name": "stdout",
     "text": [
      "Hello, Python\n"
     ]
    }
   ],
   "source": [
    "print(\"Hello, Python\") "
   ]
  },
  {
   "source": [
    "## 「変数の取り扱い」\n",
    "### 　プログラムの値を保持するため入れ物\n",
    "### 　変数名にはどのような名称をつけてもよいが何を表しているのかがわかるとよい\n",
    "### 　[禁止事項]　変数名の頭に数字を入れてはいけない"
   ],
   "cell_type": "markdown",
   "metadata": {}
  },
  {
   "cell_type": "code",
   "execution_count": 11,
   "metadata": {},
   "outputs": [
    {
     "output_type": "stream",
     "name": "stdout",
     "text": [
      "Hello\nHelloPython\n"
     ]
    }
   ],
   "source": [
    "var_string1 = \"Hello\"\n",
    "print(var_string1)\n",
    "\n",
    "var_string2 = \"Python\"\n",
    "print(var_string1 + var_string2)"
   ]
  },
  {
   "cell_type": "code",
   "execution_count": 12,
   "metadata": {},
   "outputs": [
    {
     "output_type": "stream",
     "name": "stdout",
     "text": [
      "4\n9\n"
     ]
    }
   ],
   "source": [
    "var_integer1 = 4\n",
    "print(var_integer1)\n",
    "\n",
    "var_integer2 = 5\n",
    "print(var_integer1 + var_integer2)"
   ]
  },
  {
   "source": [
    "## 「リスト(配列)の取り扱い」\n",
    "### 　複数のデータ(変数)を管理するための入れ物"
   ],
   "cell_type": "markdown",
   "metadata": {}
  },
  {
   "cell_type": "code",
   "execution_count": 27,
   "metadata": {},
   "outputs": [
    {
     "output_type": "stream",
     "name": "stdout",
     "text": [
      "x\ny\nz\n"
     ]
    }
   ],
   "source": [
    "var_list = [\"x\",\"y\",\"z\"] #3つの文字列を格納\n",
    "\n",
    "print(var_list[0])\n",
    "print(var_list[1])\n",
    "print(var_list[2])"
   ]
  },
  {
   "source": [
    "## 「条件分岐処理 (if文)」\n",
    "### 　ある条件にあてはまっているかどうかで処理を分けることが出来る"
   ],
   "cell_type": "markdown",
   "metadata": {}
  },
  {
   "cell_type": "code",
   "execution_count": 24,
   "metadata": {},
   "outputs": [
    {
     "output_type": "execute_result",
     "data": {
      "text/plain": [
       "'\\nif 条件A:\\n    条件Aあてはまるなら実行\\nelif 条件B:\\n    条件Aにあてはならなくて条件Bあてはまるなら実行\\nelse:\\n    条件AもBもあてはまらないなら実行\\n'"
      ]
     },
     "metadata": {},
     "execution_count": 24
    }
   ],
   "source": [
    "\"\"\"\n",
    "if 条件A:\n",
    "    条件Aあてはまるなら実行\n",
    "elif 条件B:\n",
    "    条件Aにあてはならなくて条件Bあてはまるなら実行\n",
    "else:\n",
    "    条件AもBもあてはまらないなら実行\n",
    "\"\"\""
   ]
  },
  {
   "cell_type": "code",
   "execution_count": 23,
   "metadata": {},
   "outputs": [
    {
     "output_type": "stream",
     "name": "stdout",
     "text": [
      "合格！\n"
     ]
    }
   ],
   "source": [
    "score = 90\n",
    "if score == 100:\n",
    "    print(\"満点\")\n",
    "elif score > 85:\n",
    "    print(\"合格！\")\n",
    "else:\n",
    "    print(\"不合格\")"
   ]
  },
  {
   "source": [
    "## 「ループ処理」\n",
    "### 　複数回同じプログラムを実行するための処理"
   ],
   "cell_type": "markdown",
   "metadata": {}
  },
  {
   "cell_type": "code",
   "execution_count": 28,
   "metadata": {},
   "outputs": [
    {
     "output_type": "stream",
     "name": "stdout",
     "text": [
      "apple\nbanana\nmelon\n"
     ]
    }
   ],
   "source": [
    "for i in [\"apple\", \"banana\", \"melon\"]:\n",
    "    print(i)"
   ]
  },
  {
   "cell_type": "code",
   "execution_count": null,
   "metadata": {},
   "outputs": [],
   "source": []
  }
 ]
}