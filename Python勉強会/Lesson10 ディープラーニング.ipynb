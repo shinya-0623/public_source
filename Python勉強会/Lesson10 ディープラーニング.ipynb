{
 "metadata": {
  "language_info": {
   "codemirror_mode": {
    "name": "ipython",
    "version": 3
   },
   "file_extension": ".py",
   "mimetype": "text/x-python",
   "name": "python",
   "nbconvert_exporter": "python",
   "pygments_lexer": "ipython3",
   "version": "3.7.3-final"
  },
  "orig_nbformat": 2,
  "kernelspec": {
   "name": "python3",
   "display_name": "Python 3",
   "language": "python"
  }
 },
 "nbformat": 4,
 "nbformat_minor": 2,
 "cells": [
  {
   "cell_type": "code",
   "execution_count": 3,
   "metadata": {},
   "outputs": [],
   "source": [
    "import numpy as np\n",
    "import matplotlib.pyplot as plt\n",
    "import pandas as pd\n",
    "\n",
    "# Keras\n",
    "from tensorflow import keras\n",
    "from tensorflow.keras.layers import Dense, Activation\n",
    "\n",
    "# データの分割\n",
    "from sklearn.model_selection import train_test_split\n",
    "\n",
    "# MSE\n",
    "from sklearn.metrics import mean_squared_error\n",
    "\n",
    "# JupyterNotebook上でグラフを表示する設定\n",
    "%matplotlib inline\n",
    "# DataFrameで全ての列を表示する設定\n",
    "pd.options.display.max_columns = None"
   ]
  },
  {
   "cell_type": "code",
   "execution_count": 5,
   "metadata": {},
   "outputs": [
    {
     "output_type": "execute_result",
     "data": {
      "text/plain": [
       "  球団   推定年俸   守備  年数  年齢   身長   体重  血液型  投打     年     打率   試合  打席数   打数   安打  \\\n",
       "0  c  21000  外野手  11  29  177   90  AB型  右左  2017  0.308  143  651  556  171   \n",
       "1  c  19000  内野手   7  28  171   72   A型  右右  2017  0.271  138  629  565  153   \n",
       "2  c  14000  内野手   5  29  171   85   A型  右左  2017  0.290  143  679  565  164   \n",
       "3  c  11500  内野手   7  38  196  126   不明  右右  2017  0.265  116  405  344   91   \n",
       "4  c  11000  内野手  20  41  189  102   B型  右右  2017  0.292  100  288  243   71   \n",
       "\n",
       "   本塁打  打点  盗塁  四球  死球   三振  犠打  併殺打    出塁率    長打率    OPS  RC27  XR27   球団勝率  \\\n",
       "0   23  92  13  83   4  113   2    6  0.398  0.505  0.903  7.70  7.52  0.633   \n",
       "1   14  56   8  32   1  107  30    9  0.311  0.405  0.716  4.10  4.01  0.633   \n",
       "2    8  60  35  89  15  120   6    5  0.398  0.407  0.805  6.41  6.26  0.633   \n",
       "3   27  78   0  50   8  111   0    8  0.368  0.532  0.900  6.80  6.90  0.633   \n",
       "4    9  48   2  40   1   56   0    7  0.389  0.461  0.850  6.55  6.54  0.633   \n",
       "\n",
       "   プレーオフ  球団平均得点   球団打率  \n",
       "0      2    5.15  0.273  \n",
       "1      2    5.15  0.273  \n",
       "2      2    5.15  0.273  \n",
       "3      2    5.15  0.273  \n",
       "4      2    5.15  0.273  "
      ],
      "text/html": "<div>\n<style scoped>\n    .dataframe tbody tr th:only-of-type {\n        vertical-align: middle;\n    }\n\n    .dataframe tbody tr th {\n        vertical-align: top;\n    }\n\n    .dataframe thead th {\n        text-align: right;\n    }\n</style>\n<table border=\"1\" class=\"dataframe\">\n  <thead>\n    <tr style=\"text-align: right;\">\n      <th></th>\n      <th>球団</th>\n      <th>推定年俸</th>\n      <th>守備</th>\n      <th>年数</th>\n      <th>年齢</th>\n      <th>身長</th>\n      <th>体重</th>\n      <th>血液型</th>\n      <th>投打</th>\n      <th>年</th>\n      <th>打率</th>\n      <th>試合</th>\n      <th>打席数</th>\n      <th>打数</th>\n      <th>安打</th>\n      <th>本塁打</th>\n      <th>打点</th>\n      <th>盗塁</th>\n      <th>四球</th>\n      <th>死球</th>\n      <th>三振</th>\n      <th>犠打</th>\n      <th>併殺打</th>\n      <th>出塁率</th>\n      <th>長打率</th>\n      <th>OPS</th>\n      <th>RC27</th>\n      <th>XR27</th>\n      <th>球団勝率</th>\n      <th>プレーオフ</th>\n      <th>球団平均得点</th>\n      <th>球団打率</th>\n    </tr>\n  </thead>\n  <tbody>\n    <tr>\n      <th>0</th>\n      <td>c</td>\n      <td>21000</td>\n      <td>外野手</td>\n      <td>11</td>\n      <td>29</td>\n      <td>177</td>\n      <td>90</td>\n      <td>AB型</td>\n      <td>右左</td>\n      <td>2017</td>\n      <td>0.308</td>\n      <td>143</td>\n      <td>651</td>\n      <td>556</td>\n      <td>171</td>\n      <td>23</td>\n      <td>92</td>\n      <td>13</td>\n      <td>83</td>\n      <td>4</td>\n      <td>113</td>\n      <td>2</td>\n      <td>6</td>\n      <td>0.398</td>\n      <td>0.505</td>\n      <td>0.903</td>\n      <td>7.70</td>\n      <td>7.52</td>\n      <td>0.633</td>\n      <td>2</td>\n      <td>5.15</td>\n      <td>0.273</td>\n    </tr>\n    <tr>\n      <th>1</th>\n      <td>c</td>\n      <td>19000</td>\n      <td>内野手</td>\n      <td>7</td>\n      <td>28</td>\n      <td>171</td>\n      <td>72</td>\n      <td>A型</td>\n      <td>右右</td>\n      <td>2017</td>\n      <td>0.271</td>\n      <td>138</td>\n      <td>629</td>\n      <td>565</td>\n      <td>153</td>\n      <td>14</td>\n      <td>56</td>\n      <td>8</td>\n      <td>32</td>\n      <td>1</td>\n      <td>107</td>\n      <td>30</td>\n      <td>9</td>\n      <td>0.311</td>\n      <td>0.405</td>\n      <td>0.716</td>\n      <td>4.10</td>\n      <td>4.01</td>\n      <td>0.633</td>\n      <td>2</td>\n      <td>5.15</td>\n      <td>0.273</td>\n    </tr>\n    <tr>\n      <th>2</th>\n      <td>c</td>\n      <td>14000</td>\n      <td>内野手</td>\n      <td>5</td>\n      <td>29</td>\n      <td>171</td>\n      <td>85</td>\n      <td>A型</td>\n      <td>右左</td>\n      <td>2017</td>\n      <td>0.290</td>\n      <td>143</td>\n      <td>679</td>\n      <td>565</td>\n      <td>164</td>\n      <td>8</td>\n      <td>60</td>\n      <td>35</td>\n      <td>89</td>\n      <td>15</td>\n      <td>120</td>\n      <td>6</td>\n      <td>5</td>\n      <td>0.398</td>\n      <td>0.407</td>\n      <td>0.805</td>\n      <td>6.41</td>\n      <td>6.26</td>\n      <td>0.633</td>\n      <td>2</td>\n      <td>5.15</td>\n      <td>0.273</td>\n    </tr>\n    <tr>\n      <th>3</th>\n      <td>c</td>\n      <td>11500</td>\n      <td>内野手</td>\n      <td>7</td>\n      <td>38</td>\n      <td>196</td>\n      <td>126</td>\n      <td>不明</td>\n      <td>右右</td>\n      <td>2017</td>\n      <td>0.265</td>\n      <td>116</td>\n      <td>405</td>\n      <td>344</td>\n      <td>91</td>\n      <td>27</td>\n      <td>78</td>\n      <td>0</td>\n      <td>50</td>\n      <td>8</td>\n      <td>111</td>\n      <td>0</td>\n      <td>8</td>\n      <td>0.368</td>\n      <td>0.532</td>\n      <td>0.900</td>\n      <td>6.80</td>\n      <td>6.90</td>\n      <td>0.633</td>\n      <td>2</td>\n      <td>5.15</td>\n      <td>0.273</td>\n    </tr>\n    <tr>\n      <th>4</th>\n      <td>c</td>\n      <td>11000</td>\n      <td>内野手</td>\n      <td>20</td>\n      <td>41</td>\n      <td>189</td>\n      <td>102</td>\n      <td>B型</td>\n      <td>右右</td>\n      <td>2017</td>\n      <td>0.292</td>\n      <td>100</td>\n      <td>288</td>\n      <td>243</td>\n      <td>71</td>\n      <td>9</td>\n      <td>48</td>\n      <td>2</td>\n      <td>40</td>\n      <td>1</td>\n      <td>56</td>\n      <td>0</td>\n      <td>7</td>\n      <td>0.389</td>\n      <td>0.461</td>\n      <td>0.850</td>\n      <td>6.55</td>\n      <td>6.54</td>\n      <td>0.633</td>\n      <td>2</td>\n      <td>5.15</td>\n      <td>0.273</td>\n    </tr>\n  </tbody>\n</table>\n</div>"
     },
     "metadata": {},
     "execution_count": 5
    }
   ],
   "source": [
    "dataset_base = pd.read_csv(\"data/baseball_salary.csv\")\n",
    "dataset_base.head()"
   ]
  },
  {
   "cell_type": "code",
   "execution_count": 6,
   "metadata": {},
   "outputs": [
    {
     "output_type": "execute_result",
     "data": {
      "text/plain": [
       "   salary  points  years_exp  batting  homerun  team_win\n",
       "0   21000      92         11    0.308       23     0.633\n",
       "1   19000      56          7    0.271       14     0.633\n",
       "2   14000      60          5    0.290        8     0.633\n",
       "3   11500      78          7    0.265       27     0.633\n",
       "4   11000      48         20    0.292        9     0.633"
      ],
      "text/html": "<div>\n<style scoped>\n    .dataframe tbody tr th:only-of-type {\n        vertical-align: middle;\n    }\n\n    .dataframe tbody tr th {\n        vertical-align: top;\n    }\n\n    .dataframe thead th {\n        text-align: right;\n    }\n</style>\n<table border=\"1\" class=\"dataframe\">\n  <thead>\n    <tr style=\"text-align: right;\">\n      <th></th>\n      <th>salary</th>\n      <th>points</th>\n      <th>years_exp</th>\n      <th>batting</th>\n      <th>homerun</th>\n      <th>team_win</th>\n    </tr>\n  </thead>\n  <tbody>\n    <tr>\n      <th>0</th>\n      <td>21000</td>\n      <td>92</td>\n      <td>11</td>\n      <td>0.308</td>\n      <td>23</td>\n      <td>0.633</td>\n    </tr>\n    <tr>\n      <th>1</th>\n      <td>19000</td>\n      <td>56</td>\n      <td>7</td>\n      <td>0.271</td>\n      <td>14</td>\n      <td>0.633</td>\n    </tr>\n    <tr>\n      <th>2</th>\n      <td>14000</td>\n      <td>60</td>\n      <td>5</td>\n      <td>0.290</td>\n      <td>8</td>\n      <td>0.633</td>\n    </tr>\n    <tr>\n      <th>3</th>\n      <td>11500</td>\n      <td>78</td>\n      <td>7</td>\n      <td>0.265</td>\n      <td>27</td>\n      <td>0.633</td>\n    </tr>\n    <tr>\n      <th>4</th>\n      <td>11000</td>\n      <td>48</td>\n      <td>20</td>\n      <td>0.292</td>\n      <td>9</td>\n      <td>0.633</td>\n    </tr>\n  </tbody>\n</table>\n</div>"
     },
     "metadata": {},
     "execution_count": 6
    }
   ],
   "source": [
    "# 列の抜き出し\n",
    "dataset = dataset_base[['推定年俸', '打点', '年数', '打率', '本塁打', '球団勝率']]\n",
    "\n",
    "# 列名をリネームする\n",
    "dataset = dataset.rename(columns={'推定年俸': 'salary', '打点': 'points', '年数': 'years_exp', '打率': 'batting', '本塁打': 'homerun', '球団勝率': 'team_win'})\n",
    "\n",
    "dataset.head()"
   ]
  },
  {
   "cell_type": "code",
   "execution_count": 7,
   "metadata": {},
   "outputs": [
    {
     "output_type": "execute_result",
     "data": {
      "text/plain": [
       "(241, 6)"
      ]
     },
     "metadata": {},
     "execution_count": 7
    }
   ],
   "source": [
    "# MinMaxScalerで正規化を実施\n",
    "from sklearn.preprocessing import MinMaxScaler\n",
    "sc = MinMaxScaler()\n",
    "dataset_std = sc.fit_transform(dataset)\n",
    "dataset_std.shape"
   ]
  },
  {
   "cell_type": "code",
   "execution_count": 8,
   "metadata": {},
   "outputs": [
    {
     "output_type": "stream",
     "name": "stdout",
     "text": [
      "Y: (241,)\nX: (241, 5)\n"
     ]
    }
   ],
   "source": [
    "# 目的変数Y:dataset_stdの0列\n",
    "Y = dataset_std[:, 0]\n",
    "\n",
    "# 特徴量X:datastd_stdの1列目以降\n",
    "X = dataset_std[:, 1:]\n",
    "print(\"Y:\", Y.shape)\n",
    "print(\"X:\", X.shape)"
   ]
  },
  {
   "cell_type": "code",
   "execution_count": 9,
   "metadata": {},
   "outputs": [],
   "source": [
    "# データの分割\n",
    "X_train, X_test, Y_train, Y_test = train_test_split(X, Y, test_size=0.3, random_state=0)\n",
    "X_train, X_valid, Y_train, Y_valid = train_test_split(X_train, Y_train, test_size=0.3, random_state=0)\n"
   ]
  },
  {
   "cell_type": "code",
   "execution_count": 10,
   "metadata": {},
   "outputs": [
    {
     "output_type": "stream",
     "name": "stdout",
     "text": [
      "Y_train= (117,) , X_train= (117, 5)\nY_valid= (51,) , X_valid= (51, 5)\nY_test= (73,) , X_test= (73, 5)\n"
     ]
    }
   ],
   "source": [
    "# 形状を確認\n",
    "print(\"Y_train=\", Y_train.shape, \", X_train=\", X_train.shape)\n",
    "print(\"Y_valid=\", Y_valid.shape, \", X_valid=\", X_valid.shape)\n",
    "print(\"Y_test=\", Y_test.shape, \", X_test=\", X_test.shape)"
   ]
  },
  {
   "cell_type": "code",
   "execution_count": 11,
   "metadata": {},
   "outputs": [
    {
     "output_type": "stream",
     "name": "stdout",
     "text": [
      "WARNING:tensorflow:From C:\\Users\\s2441\\AppData\\Local\\Continuum\\anaconda3\\envs\\test3\\lib\\site-packages\\tensorflow\\python\\ops\\init_ops.py:1251: calling VarianceScaling.__init__ (from tensorflow.python.ops.init_ops) with dtype is deprecated and will be removed in a future version.\nInstructions for updating:\nCall initializer instance with the dtype argument instead of passing it to the constructor\n"
     ]
    }
   ],
   "source": [
    "# モデルの初期化\n",
    "model = keras.Sequential()\n",
    "# 入力層\n",
    "model.add(Dense(8, activation='relu', input_shape=(5,)))\n",
    "# 隠れ層\n",
    "model.add(Dense(8, activation='relu'))\n",
    "# 出力層\n",
    "model.add(Dense(1))\n",
    "# モデルの構築\n",
    "model.compile(optimizer = \"rmsprop\", loss='mse', metrics=['mae'])"
   ]
  },
  {
   "cell_type": "code",
   "execution_count": 12,
   "metadata": {},
   "outputs": [
    {
     "output_type": "stream",
     "name": "stdout",
     "text": [
      "Model: \"sequential\"\n_________________________________________________________________\nLayer (type)                 Output Shape              Param #   \n=================================================================\ndense (Dense)                (None, 8)                 48        \n_________________________________________________________________\ndense_1 (Dense)              (None, 8)                 72        \n_________________________________________________________________\ndense_2 (Dense)              (None, 1)                 9         \n=================================================================\nTotal params: 129\nTrainable params: 129\nNon-trainable params: 0\n_________________________________________________________________\n"
     ]
    }
   ],
   "source": [
    "# モデルの構造を表示\n",
    "model.summary()"
   ]
  },
  {
   "cell_type": "code",
   "execution_count": 13,
   "metadata": {
    "tags": [
     "outputPrepend"
    ]
   },
   "outputs": [
    {
     "output_type": "stream",
     "name": "stdout",
     "text": [
      "00 - mean_absolute_error: 0.0620 - val_loss: 0.0227 - val_mean_absolute_error: 0.0715\n",
      "Epoch 4886/5000\n",
      "117/117 [==============================] - 0s 214us/sample - loss: 0.0100 - mean_absolute_error: 0.0605 - val_loss: 0.0231 - val_mean_absolute_error: 0.0703\n",
      "Epoch 4887/5000\n",
      "117/117 [==============================] - 0s 163us/sample - loss: 0.0100 - mean_absolute_error: 0.0600 - val_loss: 0.0226 - val_mean_absolute_error: 0.0717\n",
      "Epoch 4888/5000\n",
      "117/117 [==============================] - 0s 171us/sample - loss: 0.0100 - mean_absolute_error: 0.0604 - val_loss: 0.0222 - val_mean_absolute_error: 0.0736\n",
      "Epoch 4889/5000\n",
      "117/117 [==============================] - 0s 154us/sample - loss: 0.0102 - mean_absolute_error: 0.0626 - val_loss: 0.0224 - val_mean_absolute_error: 0.0721\n",
      "Epoch 4890/5000\n",
      "117/117 [==============================] - 0s 291us/sample - loss: 0.0100 - mean_absolute_error: 0.0613 - val_loss: 0.0234 - val_mean_absolute_error: 0.0698\n",
      "Epoch 4891/5000\n",
      "117/117 [==============================] - 0s 171us/sample - loss: 0.0101 - mean_absolute_error: 0.0601 - val_loss: 0.0237 - val_mean_absolute_error: 0.0697\n",
      "Epoch 4892/5000\n",
      "117/117 [==============================] - 0s 94us/sample - loss: 0.0101 - mean_absolute_error: 0.0597 - val_loss: 0.0236 - val_mean_absolute_error: 0.0697\n",
      "Epoch 4893/5000\n",
      "117/117 [==============================] - 0s 178us/sample - loss: 0.0100 - mean_absolute_error: 0.0599 - val_loss: 0.0234 - val_mean_absolute_error: 0.0698\n",
      "Epoch 4894/5000\n",
      "117/117 [==============================] - 0s 182us/sample - loss: 0.0099 - mean_absolute_error: 0.0592 - val_loss: 0.0225 - val_mean_absolute_error: 0.0723\n",
      "Epoch 4895/5000\n",
      "117/117 [==============================] - 0s 149us/sample - loss: 0.0100 - mean_absolute_error: 0.0602 - val_loss: 0.0224 - val_mean_absolute_error: 0.0725\n",
      "Epoch 4896/5000\n",
      "117/117 [==============================] - 0s 270us/sample - loss: 0.0101 - mean_absolute_error: 0.0614 - val_loss: 0.0229 - val_mean_absolute_error: 0.0706\n",
      "Epoch 4897/5000\n",
      "117/117 [==============================] - 0s 137us/sample - loss: 0.0100 - mean_absolute_error: 0.0601 - val_loss: 0.0233 - val_mean_absolute_error: 0.0700\n",
      "Epoch 4898/5000\n",
      "117/117 [==============================] - 0s 319us/sample - loss: 0.0100 - mean_absolute_error: 0.0595 - val_loss: 0.0228 - val_mean_absolute_error: 0.0715\n",
      "Epoch 4899/5000\n",
      "117/117 [==============================] - 0s 137us/sample - loss: 0.0099 - mean_absolute_error: 0.0603 - val_loss: 0.0233 - val_mean_absolute_error: 0.0699\n",
      "Epoch 4900/5000\n",
      "117/117 [==============================] - 0s 146us/sample - loss: 0.0101 - mean_absolute_error: 0.0604 - val_loss: 0.0234 - val_mean_absolute_error: 0.0696\n",
      "Epoch 4901/5000\n",
      "117/117 [==============================] - 0s 139us/sample - loss: 0.0100 - mean_absolute_error: 0.0601 - val_loss: 0.0232 - val_mean_absolute_error: 0.0701\n",
      "Epoch 4902/5000\n",
      "117/117 [==============================] - 0s 137us/sample - loss: 0.0100 - mean_absolute_error: 0.0594 - val_loss: 0.0224 - val_mean_absolute_error: 0.0734\n",
      "Epoch 4903/5000\n",
      "117/117 [==============================] - 0s 180us/sample - loss: 0.0102 - mean_absolute_error: 0.0610 - val_loss: 0.0228 - val_mean_absolute_error: 0.0713\n",
      "Epoch 4904/5000\n",
      "117/117 [==============================] - 0s 172us/sample - loss: 0.0099 - mean_absolute_error: 0.0599 - val_loss: 0.0226 - val_mean_absolute_error: 0.0720\n",
      "Epoch 4905/5000\n",
      "117/117 [==============================] - 0s 188us/sample - loss: 0.0099 - mean_absolute_error: 0.0608 - val_loss: 0.0236 - val_mean_absolute_error: 0.0696\n",
      "Epoch 4906/5000\n",
      "117/117 [==============================] - 0s 146us/sample - loss: 0.0100 - mean_absolute_error: 0.0596 - val_loss: 0.0231 - val_mean_absolute_error: 0.0705\n",
      "Epoch 4907/5000\n",
      "117/117 [==============================] - 0s 120us/sample - loss: 0.0100 - mean_absolute_error: 0.0604 - val_loss: 0.0232 - val_mean_absolute_error: 0.0702\n",
      "Epoch 4908/5000\n",
      "117/117 [==============================] - 0s 111us/sample - loss: 0.0102 - mean_absolute_error: 0.0601 - val_loss: 0.0224 - val_mean_absolute_error: 0.0733\n",
      "Epoch 4909/5000\n",
      "117/117 [==============================] - 0s 165us/sample - loss: 0.0099 - mean_absolute_error: 0.0612 - val_loss: 0.0231 - val_mean_absolute_error: 0.0703\n",
      "Epoch 4910/5000\n",
      "117/117 [==============================] - 0s 146us/sample - loss: 0.0101 - mean_absolute_error: 0.0603 - val_loss: 0.0229 - val_mean_absolute_error: 0.0710\n",
      "Epoch 4911/5000\n",
      "117/117 [==============================] - 0s 154us/sample - loss: 0.0100 - mean_absolute_error: 0.0594 - val_loss: 0.0221 - val_mean_absolute_error: 0.0749\n",
      "Epoch 4912/5000\n",
      "117/117 [==============================] - 0s 163us/sample - loss: 0.0101 - mean_absolute_error: 0.0615 - val_loss: 0.0228 - val_mean_absolute_error: 0.0710\n",
      "Epoch 4913/5000\n",
      "117/117 [==============================] - 0s 147us/sample - loss: 0.0100 - mean_absolute_error: 0.0597 - val_loss: 0.0223 - val_mean_absolute_error: 0.0736\n",
      "Epoch 4914/5000\n",
      "117/117 [==============================] - 0s 137us/sample - loss: 0.0101 - mean_absolute_error: 0.0613 - val_loss: 0.0228 - val_mean_absolute_error: 0.0711\n",
      "Epoch 4915/5000\n",
      "117/117 [==============================] - 0s 146us/sample - loss: 0.0099 - mean_absolute_error: 0.0600 - val_loss: 0.0228 - val_mean_absolute_error: 0.0712\n",
      "Epoch 4916/5000\n",
      "117/117 [==============================] - 0s 146us/sample - loss: 0.0099 - mean_absolute_error: 0.0598 - val_loss: 0.0224 - val_mean_absolute_error: 0.0726\n",
      "Epoch 4917/5000\n",
      "117/117 [==============================] - 0s 184us/sample - loss: 0.0100 - mean_absolute_error: 0.0606 - val_loss: 0.0221 - val_mean_absolute_error: 0.0747\n",
      "Epoch 4918/5000\n",
      "117/117 [==============================] - 0s 144us/sample - loss: 0.0100 - mean_absolute_error: 0.0615 - val_loss: 0.0223 - val_mean_absolute_error: 0.0732\n",
      "Epoch 4919/5000\n",
      "117/117 [==============================] - 0s 111us/sample - loss: 0.0101 - mean_absolute_error: 0.0613 - val_loss: 0.0220 - val_mean_absolute_error: 0.0748\n",
      "Epoch 4920/5000\n",
      "117/117 [==============================] - 0s 156us/sample - loss: 0.0101 - mean_absolute_error: 0.0616 - val_loss: 0.0221 - val_mean_absolute_error: 0.0737\n",
      "Epoch 4921/5000\n",
      "117/117 [==============================] - 0s 171us/sample - loss: 0.0101 - mean_absolute_error: 0.0615 - val_loss: 0.0220 - val_mean_absolute_error: 0.0746\n",
      "Epoch 4922/5000\n",
      "117/117 [==============================] - 0s 164us/sample - loss: 0.0103 - mean_absolute_error: 0.0630 - val_loss: 0.0219 - val_mean_absolute_error: 0.0745\n",
      "Epoch 4923/5000\n",
      "117/117 [==============================] - 0s 139us/sample - loss: 0.0101 - mean_absolute_error: 0.0625 - val_loss: 0.0229 - val_mean_absolute_error: 0.0705\n",
      "Epoch 4924/5000\n",
      "117/117 [==============================] - 0s 153us/sample - loss: 0.0099 - mean_absolute_error: 0.0597 - val_loss: 0.0224 - val_mean_absolute_error: 0.0722\n",
      "Epoch 4925/5000\n",
      "117/117 [==============================] - 0s 178us/sample - loss: 0.0099 - mean_absolute_error: 0.0607 - val_loss: 0.0225 - val_mean_absolute_error: 0.0720\n",
      "Epoch 4926/5000\n",
      "117/117 [==============================] - 0s 144us/sample - loss: 0.0100 - mean_absolute_error: 0.0604 - val_loss: 0.0224 - val_mean_absolute_error: 0.0724\n",
      "Epoch 4927/5000\n",
      "117/117 [==============================] - 0s 138us/sample - loss: 0.0099 - mean_absolute_error: 0.0608 - val_loss: 0.0227 - val_mean_absolute_error: 0.0715\n",
      "Epoch 4928/5000\n",
      "117/117 [==============================] - 0s 167us/sample - loss: 0.0099 - mean_absolute_error: 0.0601 - val_loss: 0.0228 - val_mean_absolute_error: 0.0712\n",
      "Epoch 4929/5000\n",
      "117/117 [==============================] - 0s 161us/sample - loss: 0.0100 - mean_absolute_error: 0.0615 - val_loss: 0.0239 - val_mean_absolute_error: 0.0699\n",
      "Epoch 4930/5000\n",
      "117/117 [==============================] - 0s 137us/sample - loss: 0.0101 - mean_absolute_error: 0.0595 - val_loss: 0.0231 - val_mean_absolute_error: 0.0704\n",
      "Epoch 4931/5000\n",
      "117/117 [==============================] - 0s 128us/sample - loss: 0.0099 - mean_absolute_error: 0.0598 - val_loss: 0.0234 - val_mean_absolute_error: 0.0700\n",
      "Epoch 4932/5000\n",
      "117/117 [==============================] - 0s 198us/sample - loss: 0.0100 - mean_absolute_error: 0.0593 - val_loss: 0.0235 - val_mean_absolute_error: 0.0698\n",
      "Epoch 4933/5000\n",
      "117/117 [==============================] - 0s 162us/sample - loss: 0.0100 - mean_absolute_error: 0.0595 - val_loss: 0.0226 - val_mean_absolute_error: 0.0723\n",
      "Epoch 4934/5000\n",
      "117/117 [==============================] - 0s 155us/sample - loss: 0.0099 - mean_absolute_error: 0.0603 - val_loss: 0.0226 - val_mean_absolute_error: 0.0720\n",
      "Epoch 4935/5000\n",
      "117/117 [==============================] - 0s 163us/sample - loss: 0.0100 - mean_absolute_error: 0.0609 - val_loss: 0.0236 - val_mean_absolute_error: 0.0696\n",
      "Epoch 4936/5000\n",
      "117/117 [==============================] - 0s 120us/sample - loss: 0.0100 - mean_absolute_error: 0.0602 - val_loss: 0.0236 - val_mean_absolute_error: 0.0696\n",
      "Epoch 4937/5000\n",
      "117/117 [==============================] - 0s 172us/sample - loss: 0.0100 - mean_absolute_error: 0.0594 - val_loss: 0.0224 - val_mean_absolute_error: 0.0734\n",
      "Epoch 4938/5000\n",
      "117/117 [==============================] - 0s 130us/sample - loss: 0.0100 - mean_absolute_error: 0.0614 - val_loss: 0.0222 - val_mean_absolute_error: 0.0744\n",
      "Epoch 4939/5000\n",
      "117/117 [==============================] - 0s 141us/sample - loss: 0.0100 - mean_absolute_error: 0.0628 - val_loss: 0.0230 - val_mean_absolute_error: 0.0708\n",
      "Epoch 4940/5000\n",
      "117/117 [==============================] - 0s 135us/sample - loss: 0.0099 - mean_absolute_error: 0.0597 - val_loss: 0.0229 - val_mean_absolute_error: 0.0713\n",
      "Epoch 4941/5000\n",
      "117/117 [==============================] - 0s 158us/sample - loss: 0.0099 - mean_absolute_error: 0.0599 - val_loss: 0.0226 - val_mean_absolute_error: 0.0726\n",
      "Epoch 4942/5000\n",
      "117/117 [==============================] - 0s 203us/sample - loss: 0.0099 - mean_absolute_error: 0.0607 - val_loss: 0.0227 - val_mean_absolute_error: 0.0724\n",
      "Epoch 4943/5000\n",
      "117/117 [==============================] - 0s 307us/sample - loss: 0.0099 - mean_absolute_error: 0.0601 - val_loss: 0.0223 - val_mean_absolute_error: 0.0741\n",
      "Epoch 4944/5000\n",
      "117/117 [==============================] - 0s 179us/sample - loss: 0.0099 - mean_absolute_error: 0.0618 - val_loss: 0.0233 - val_mean_absolute_error: 0.0704\n",
      "Epoch 4945/5000\n",
      "117/117 [==============================] - 0s 132us/sample - loss: 0.0102 - mean_absolute_error: 0.0598 - val_loss: 0.0225 - val_mean_absolute_error: 0.0728\n",
      "Epoch 4946/5000\n",
      "117/117 [==============================] - 0s 146us/sample - loss: 0.0100 - mean_absolute_error: 0.0616 - val_loss: 0.0234 - val_mean_absolute_error: 0.0700\n",
      "Epoch 4947/5000\n",
      "117/117 [==============================] - 0s 161us/sample - loss: 0.0101 - mean_absolute_error: 0.0603 - val_loss: 0.0234 - val_mean_absolute_error: 0.0699\n",
      "Epoch 4948/5000\n",
      "117/117 [==============================] - 0s 154us/sample - loss: 0.0099 - mean_absolute_error: 0.0595 - val_loss: 0.0233 - val_mean_absolute_error: 0.0704\n",
      "Epoch 4949/5000\n",
      "117/117 [==============================] - 0s 145us/sample - loss: 0.0099 - mean_absolute_error: 0.0594 - val_loss: 0.0227 - val_mean_absolute_error: 0.0723\n",
      "Epoch 4950/5000\n",
      "117/117 [==============================] - 0s 153us/sample - loss: 0.0100 - mean_absolute_error: 0.0605 - val_loss: 0.0226 - val_mean_absolute_error: 0.0729\n",
      "Epoch 4951/5000\n",
      "117/117 [==============================] - 0s 134us/sample - loss: 0.0100 - mean_absolute_error: 0.0617 - val_loss: 0.0239 - val_mean_absolute_error: 0.0697\n",
      "Epoch 4952/5000\n",
      "117/117 [==============================] - 0s 147us/sample - loss: 0.0100 - mean_absolute_error: 0.0599 - val_loss: 0.0236 - val_mean_absolute_error: 0.0700\n",
      "Epoch 4953/5000\n",
      "117/117 [==============================] - 0s 135us/sample - loss: 0.0099 - mean_absolute_error: 0.0593 - val_loss: 0.0231 - val_mean_absolute_error: 0.0713\n",
      "Epoch 4954/5000\n",
      "117/117 [==============================] - 0s 144us/sample - loss: 0.0099 - mean_absolute_error: 0.0601 - val_loss: 0.0234 - val_mean_absolute_error: 0.0703\n",
      "Epoch 4955/5000\n",
      "117/117 [==============================] - 0s 128us/sample - loss: 0.0099 - mean_absolute_error: 0.0593 - val_loss: 0.0228 - val_mean_absolute_error: 0.0720\n",
      "Epoch 4956/5000\n",
      "117/117 [==============================] - 0s 137us/sample - loss: 0.0100 - mean_absolute_error: 0.0598 - val_loss: 0.0223 - val_mean_absolute_error: 0.0751\n",
      "Epoch 4957/5000\n",
      "117/117 [==============================] - 0s 146us/sample - loss: 0.0099 - mean_absolute_error: 0.0619 - val_loss: 0.0234 - val_mean_absolute_error: 0.0700\n",
      "Epoch 4958/5000\n",
      "117/117 [==============================] - 0s 182us/sample - loss: 0.0101 - mean_absolute_error: 0.0602 - val_loss: 0.0227 - val_mean_absolute_error: 0.0721\n",
      "Epoch 4959/5000\n",
      "117/117 [==============================] - 0s 175us/sample - loss: 0.0101 - mean_absolute_error: 0.0604 - val_loss: 0.0228 - val_mean_absolute_error: 0.0720\n",
      "Epoch 4960/5000\n",
      "117/117 [==============================] - 0s 120us/sample - loss: 0.0100 - mean_absolute_error: 0.0601 - val_loss: 0.0222 - val_mean_absolute_error: 0.0754\n",
      "Epoch 4961/5000\n",
      "117/117 [==============================] - 0s 126us/sample - loss: 0.0100 - mean_absolute_error: 0.0630 - val_loss: 0.0234 - val_mean_absolute_error: 0.0703\n",
      "Epoch 4962/5000\n",
      "117/117 [==============================] - 0s 111us/sample - loss: 0.0102 - mean_absolute_error: 0.0604 - val_loss: 0.0234 - val_mean_absolute_error: 0.0704\n",
      "Epoch 4963/5000\n",
      "117/117 [==============================] - 0s 149us/sample - loss: 0.0099 - mean_absolute_error: 0.0596 - val_loss: 0.0228 - val_mean_absolute_error: 0.0721\n",
      "Epoch 4964/5000\n",
      "117/117 [==============================] - 0s 141us/sample - loss: 0.0099 - mean_absolute_error: 0.0609 - val_loss: 0.0230 - val_mean_absolute_error: 0.0715\n",
      "Epoch 4965/5000\n",
      "117/117 [==============================] - 0s 141us/sample - loss: 0.0099 - mean_absolute_error: 0.0601 - val_loss: 0.0233 - val_mean_absolute_error: 0.0708\n",
      "Epoch 4966/5000\n",
      "117/117 [==============================] - 0s 144us/sample - loss: 0.0100 - mean_absolute_error: 0.0594 - val_loss: 0.0230 - val_mean_absolute_error: 0.0717\n",
      "Epoch 4967/5000\n",
      "117/117 [==============================] - 0s 145us/sample - loss: 0.0099 - mean_absolute_error: 0.0601 - val_loss: 0.0225 - val_mean_absolute_error: 0.0739\n",
      "Epoch 4968/5000\n",
      "117/117 [==============================] - 0s 160us/sample - loss: 0.0101 - mean_absolute_error: 0.0612 - val_loss: 0.0221 - val_mean_absolute_error: 0.0763\n",
      "Epoch 4969/5000\n",
      "117/117 [==============================] - 0s 186us/sample - loss: 0.0101 - mean_absolute_error: 0.0632 - val_loss: 0.0231 - val_mean_absolute_error: 0.0713\n",
      "Epoch 4970/5000\n",
      "117/117 [==============================] - 0s 128us/sample - loss: 0.0100 - mean_absolute_error: 0.0601 - val_loss: 0.0225 - val_mean_absolute_error: 0.0739\n",
      "Epoch 4971/5000\n",
      "117/117 [==============================] - 0s 178us/sample - loss: 0.0100 - mean_absolute_error: 0.0612 - val_loss: 0.0230 - val_mean_absolute_error: 0.0713\n",
      "Epoch 4972/5000\n",
      "117/117 [==============================] - 0s 171us/sample - loss: 0.0100 - mean_absolute_error: 0.0611 - val_loss: 0.0236 - val_mean_absolute_error: 0.0698\n",
      "Epoch 4973/5000\n",
      "117/117 [==============================] - 0s 133us/sample - loss: 0.0099 - mean_absolute_error: 0.0591 - val_loss: 0.0226 - val_mean_absolute_error: 0.0726\n",
      "Epoch 4974/5000\n",
      "117/117 [==============================] - 0s 144us/sample - loss: 0.0100 - mean_absolute_error: 0.0602 - val_loss: 0.0223 - val_mean_absolute_error: 0.0745\n",
      "Epoch 4975/5000\n",
      "117/117 [==============================] - 0s 127us/sample - loss: 0.0101 - mean_absolute_error: 0.0628 - val_loss: 0.0234 - val_mean_absolute_error: 0.0702\n",
      "Epoch 4976/5000\n",
      "117/117 [==============================] - 0s 149us/sample - loss: 0.0100 - mean_absolute_error: 0.0596 - val_loss: 0.0236 - val_mean_absolute_error: 0.0699\n",
      "Epoch 4977/5000\n",
      "117/117 [==============================] - 0s 197us/sample - loss: 0.0099 - mean_absolute_error: 0.0592 - val_loss: 0.0228 - val_mean_absolute_error: 0.0722\n",
      "Epoch 4978/5000\n",
      "117/117 [==============================] - 0s 150us/sample - loss: 0.0099 - mean_absolute_error: 0.0605 - val_loss: 0.0231 - val_mean_absolute_error: 0.0711\n",
      "Epoch 4979/5000\n",
      "117/117 [==============================] - 0s 146us/sample - loss: 0.0100 - mean_absolute_error: 0.0598 - val_loss: 0.0226 - val_mean_absolute_error: 0.0734\n",
      "Epoch 4980/5000\n",
      "117/117 [==============================] - 0s 163us/sample - loss: 0.0100 - mean_absolute_error: 0.0610 - val_loss: 0.0232 - val_mean_absolute_error: 0.0708\n",
      "Epoch 4981/5000\n",
      "117/117 [==============================] - 0s 150us/sample - loss: 0.0099 - mean_absolute_error: 0.0601 - val_loss: 0.0232 - val_mean_absolute_error: 0.0708\n",
      "Epoch 4982/5000\n",
      "117/117 [==============================] - 0s 154us/sample - loss: 0.0101 - mean_absolute_error: 0.0612 - val_loss: 0.0227 - val_mean_absolute_error: 0.0728\n",
      "Epoch 4983/5000\n",
      "117/117 [==============================] - 0s 167us/sample - loss: 0.0102 - mean_absolute_error: 0.0611 - val_loss: 0.0226 - val_mean_absolute_error: 0.0735\n",
      "Epoch 4984/5000\n",
      "117/117 [==============================] - 0s 144us/sample - loss: 0.0101 - mean_absolute_error: 0.0610 - val_loss: 0.0227 - val_mean_absolute_error: 0.0725\n",
      "Epoch 4985/5000\n",
      "117/117 [==============================] - 0s 154us/sample - loss: 0.0099 - mean_absolute_error: 0.0610 - val_loss: 0.0236 - val_mean_absolute_error: 0.0700\n",
      "Epoch 4986/5000\n",
      "117/117 [==============================] - 0s 199us/sample - loss: 0.0100 - mean_absolute_error: 0.0603 - val_loss: 0.0231 - val_mean_absolute_error: 0.0711\n",
      "Epoch 4987/5000\n",
      "117/117 [==============================] - 0s 154us/sample - loss: 0.0100 - mean_absolute_error: 0.0604 - val_loss: 0.0227 - val_mean_absolute_error: 0.0722\n",
      "Epoch 4988/5000\n",
      "117/117 [==============================] - 0s 163us/sample - loss: 0.0100 - mean_absolute_error: 0.0608 - val_loss: 0.0225 - val_mean_absolute_error: 0.0732\n",
      "Epoch 4989/5000\n",
      "117/117 [==============================] - 0s 115us/sample - loss: 0.0100 - mean_absolute_error: 0.0613 - val_loss: 0.0226 - val_mean_absolute_error: 0.0725\n",
      "Epoch 4990/5000\n",
      "117/117 [==============================] - 0s 163us/sample - loss: 0.0099 - mean_absolute_error: 0.0606 - val_loss: 0.0224 - val_mean_absolute_error: 0.0732\n",
      "Epoch 4991/5000\n",
      "117/117 [==============================] - 0s 154us/sample - loss: 0.0100 - mean_absolute_error: 0.0618 - val_loss: 0.0227 - val_mean_absolute_error: 0.0719\n",
      "Epoch 4992/5000\n",
      "117/117 [==============================] - 0s 176us/sample - loss: 0.0099 - mean_absolute_error: 0.0599 - val_loss: 0.0224 - val_mean_absolute_error: 0.0735\n",
      "Epoch 4993/5000\n",
      "117/117 [==============================] - 0s 171us/sample - loss: 0.0100 - mean_absolute_error: 0.0612 - val_loss: 0.0233 - val_mean_absolute_error: 0.0705\n",
      "Epoch 4994/5000\n",
      "117/117 [==============================] - 0s 142us/sample - loss: 0.0100 - mean_absolute_error: 0.0600 - val_loss: 0.0236 - val_mean_absolute_error: 0.0699\n",
      "Epoch 4995/5000\n",
      "117/117 [==============================] - 0s 158us/sample - loss: 0.0102 - mean_absolute_error: 0.0608 - val_loss: 0.0230 - val_mean_absolute_error: 0.0711\n",
      "Epoch 4996/5000\n",
      "117/117 [==============================] - 0s 266us/sample - loss: 0.0099 - mean_absolute_error: 0.0599 - val_loss: 0.0227 - val_mean_absolute_error: 0.0722\n",
      "Epoch 4997/5000\n",
      "117/117 [==============================] - 0s 137us/sample - loss: 0.0100 - mean_absolute_error: 0.0601 - val_loss: 0.0222 - val_mean_absolute_error: 0.0746\n",
      "Epoch 4998/5000\n",
      "117/117 [==============================] - 0s 129us/sample - loss: 0.0100 - mean_absolute_error: 0.0619 - val_loss: 0.0232 - val_mean_absolute_error: 0.0704\n",
      "Epoch 4999/5000\n",
      "117/117 [==============================] - 0s 120us/sample - loss: 0.0099 - mean_absolute_error: 0.0596 - val_loss: 0.0224 - val_mean_absolute_error: 0.0737\n",
      "Epoch 5000/5000\n",
      "117/117 [==============================] - 0s 166us/sample - loss: 0.0102 - mean_absolute_error: 0.0616 - val_loss: 0.0225 - val_mean_absolute_error: 0.0729\n",
      "Wall time: 2min 19s\n"
     ]
    }
   ],
   "source": [
    "%%time\n",
    "# 学習の実施（少々時間がかかります）\n",
    "log = model.fit(X_train, Y_train, epochs=500, batch_size=48, verbose=True,\n",
    "         validation_data=(X_valid, Y_valid))"
   ]
  },
  {
   "cell_type": "code",
   "execution_count": 15,
   "metadata": {},
   "outputs": [],
   "source": [
    "# 予測はpredict\n",
    "Y_pred = model.predict(X_test)"
   ]
  },
  {
   "cell_type": "code",
   "execution_count": 15,
   "metadata": {},
   "outputs": [],
   "source": [
    "# 正規化した値を元に戻すにはinverse_transformを使う\n",
    "# 行列の形はdataと一致している必要があるため、XとYを結合させる\n",
    "Y_test_ = sc.inverse_transform(np.hstack([Y_test.reshape(len(Y_test), 1), X_test]))[:, 0]\n",
    "Y_pred_ = sc.inverse_transform(np.hstack([Y_pred.reshape(len(Y_pred), 1), X_test]))[:, 0]"
   ]
  },
  {
   "cell_type": "code",
   "execution_count": 17,
   "metadata": {},
   "outputs": [
    {
     "output_type": "stream",
     "name": "stdout",
     "text": [
      "MSE(Keras回帰モデル): 71672943.01209971\n"
     ]
    }
   ],
   "source": [
    "# MSE(平均二条誤差)を算出\n",
    "mse = mean_squared_error(Y_test_, Y_pred_)\n",
    "print('MSE(Keras回帰モデル):', mse)"
   ]
  },
  {
   "cell_type": "code",
   "execution_count": 18,
   "metadata": {},
   "outputs": [
    {
     "output_type": "display_data",
     "data": {
      "text/plain": "<Figure size 432x288 with 1 Axes>",
      "image/svg+xml": "<?xml version=\"1.0\" encoding=\"utf-8\" standalone=\"no\"?>\r\n<!DOCTYPE svg PUBLIC \"-//W3C//DTD SVG 1.1//EN\"\r\n  \"http://www.w3.org/Graphics/SVG/1.1/DTD/svg11.dtd\">\r\n<!-- Created with matplotlib (https://matplotlib.org/) -->\r\n<svg height=\"265.69625pt\" version=\"1.1\" viewBox=\"0 0 405.190625 265.69625\" width=\"405.190625pt\" xmlns=\"http://www.w3.org/2000/svg\" xmlns:xlink=\"http://www.w3.org/1999/xlink\">\r\n <defs>\r\n  <style type=\"text/css\">\r\n*{stroke-linecap:butt;stroke-linejoin:round;}\r\n  </style>\r\n </defs>\r\n <g id=\"figure_1\">\r\n  <g id=\"patch_1\">\r\n   <path d=\"M 0 265.69625 \r\nL 405.190625 265.69625 \r\nL 405.190625 0 \r\nL 0 0 \r\nz\r\n\" style=\"fill:none;\"/>\r\n  </g>\r\n  <g id=\"axes_1\">\r\n   <g id=\"patch_2\">\r\n    <path d=\"M 59.690625 228.14 \r\nL 394.490625 228.14 \r\nL 394.490625 10.7 \r\nL 59.690625 10.7 \r\nz\r\n\" style=\"fill:#ffffff;\"/>\r\n   </g>\r\n   <g id=\"matplotlib.axis_1\">\r\n    <g id=\"xtick_1\">\r\n     <g id=\"line2d_1\">\r\n      <defs>\r\n       <path d=\"M 0 0 \r\nL 0 3.5 \r\n\" id=\"mf6747a6746\" style=\"stroke:#000000;stroke-width:0.8;\"/>\r\n      </defs>\r\n      <g>\r\n       <use style=\"stroke:#000000;stroke-width:0.8;\" x=\"70.978053\" xlink:href=\"#mf6747a6746\" y=\"228.14\"/>\r\n      </g>\r\n     </g>\r\n     <g id=\"text_1\">\r\n      <!-- 0 -->\r\n      <defs>\r\n       <path d=\"M 31.78125 66.40625 \r\nQ 24.171875 66.40625 20.328125 58.90625 \r\nQ 16.5 51.421875 16.5 36.375 \r\nQ 16.5 21.390625 20.328125 13.890625 \r\nQ 24.171875 6.390625 31.78125 6.390625 \r\nQ 39.453125 6.390625 43.28125 13.890625 \r\nQ 47.125 21.390625 47.125 36.375 \r\nQ 47.125 51.421875 43.28125 58.90625 \r\nQ 39.453125 66.40625 31.78125 66.40625 \r\nz\r\nM 31.78125 74.21875 \r\nQ 44.046875 74.21875 50.515625 64.515625 \r\nQ 56.984375 54.828125 56.984375 36.375 \r\nQ 56.984375 17.96875 50.515625 8.265625 \r\nQ 44.046875 -1.421875 31.78125 -1.421875 \r\nQ 19.53125 -1.421875 13.0625 8.265625 \r\nQ 6.59375 17.96875 6.59375 36.375 \r\nQ 6.59375 54.828125 13.0625 64.515625 \r\nQ 19.53125 74.21875 31.78125 74.21875 \r\nz\r\n\" id=\"DejaVuSans-48\"/>\r\n      </defs>\r\n      <g transform=\"translate(67.796803 242.738437)scale(0.1 -0.1)\">\r\n       <use xlink:href=\"#DejaVuSans-48\"/>\r\n      </g>\r\n     </g>\r\n    </g>\r\n    <g id=\"xtick_2\">\r\n     <g id=\"line2d_2\">\r\n      <g>\r\n       <use style=\"stroke:#000000;stroke-width:0.8;\" x=\"109.514852\" xlink:href=\"#mf6747a6746\" y=\"228.14\"/>\r\n      </g>\r\n     </g>\r\n     <g id=\"text_2\">\r\n      <!-- 5000 -->\r\n      <defs>\r\n       <path d=\"M 10.796875 72.90625 \r\nL 49.515625 72.90625 \r\nL 49.515625 64.59375 \r\nL 19.828125 64.59375 \r\nL 19.828125 46.734375 \r\nQ 21.96875 47.46875 24.109375 47.828125 \r\nQ 26.265625 48.1875 28.421875 48.1875 \r\nQ 40.625 48.1875 47.75 41.5 \r\nQ 54.890625 34.8125 54.890625 23.390625 \r\nQ 54.890625 11.625 47.5625 5.09375 \r\nQ 40.234375 -1.421875 26.90625 -1.421875 \r\nQ 22.3125 -1.421875 17.546875 -0.640625 \r\nQ 12.796875 0.140625 7.71875 1.703125 \r\nL 7.71875 11.625 \r\nQ 12.109375 9.234375 16.796875 8.0625 \r\nQ 21.484375 6.890625 26.703125 6.890625 \r\nQ 35.15625 6.890625 40.078125 11.328125 \r\nQ 45.015625 15.765625 45.015625 23.390625 \r\nQ 45.015625 31 40.078125 35.4375 \r\nQ 35.15625 39.890625 26.703125 39.890625 \r\nQ 22.75 39.890625 18.8125 39.015625 \r\nQ 14.890625 38.140625 10.796875 36.28125 \r\nz\r\n\" id=\"DejaVuSans-53\"/>\r\n      </defs>\r\n      <g transform=\"translate(96.789852 242.738437)scale(0.1 -0.1)\">\r\n       <use xlink:href=\"#DejaVuSans-53\"/>\r\n       <use x=\"63.623047\" xlink:href=\"#DejaVuSans-48\"/>\r\n       <use x=\"127.246094\" xlink:href=\"#DejaVuSans-48\"/>\r\n       <use x=\"190.869141\" xlink:href=\"#DejaVuSans-48\"/>\r\n      </g>\r\n     </g>\r\n    </g>\r\n    <g id=\"xtick_3\">\r\n     <g id=\"line2d_3\">\r\n      <g>\r\n       <use style=\"stroke:#000000;stroke-width:0.8;\" x=\"148.051651\" xlink:href=\"#mf6747a6746\" y=\"228.14\"/>\r\n      </g>\r\n     </g>\r\n     <g id=\"text_3\">\r\n      <!-- 10000 -->\r\n      <defs>\r\n       <path d=\"M 12.40625 8.296875 \r\nL 28.515625 8.296875 \r\nL 28.515625 63.921875 \r\nL 10.984375 60.40625 \r\nL 10.984375 69.390625 \r\nL 28.421875 72.90625 \r\nL 38.28125 72.90625 \r\nL 38.28125 8.296875 \r\nL 54.390625 8.296875 \r\nL 54.390625 0 \r\nL 12.40625 0 \r\nz\r\n\" id=\"DejaVuSans-49\"/>\r\n      </defs>\r\n      <g transform=\"translate(132.145401 242.738437)scale(0.1 -0.1)\">\r\n       <use xlink:href=\"#DejaVuSans-49\"/>\r\n       <use x=\"63.623047\" xlink:href=\"#DejaVuSans-48\"/>\r\n       <use x=\"127.246094\" xlink:href=\"#DejaVuSans-48\"/>\r\n       <use x=\"190.869141\" xlink:href=\"#DejaVuSans-48\"/>\r\n       <use x=\"254.492188\" xlink:href=\"#DejaVuSans-48\"/>\r\n      </g>\r\n     </g>\r\n    </g>\r\n    <g id=\"xtick_4\">\r\n     <g id=\"line2d_4\">\r\n      <g>\r\n       <use style=\"stroke:#000000;stroke-width:0.8;\" x=\"186.58845\" xlink:href=\"#mf6747a6746\" y=\"228.14\"/>\r\n      </g>\r\n     </g>\r\n     <g id=\"text_4\">\r\n      <!-- 15000 -->\r\n      <g transform=\"translate(170.6822 242.738437)scale(0.1 -0.1)\">\r\n       <use xlink:href=\"#DejaVuSans-49\"/>\r\n       <use x=\"63.623047\" xlink:href=\"#DejaVuSans-53\"/>\r\n       <use x=\"127.246094\" xlink:href=\"#DejaVuSans-48\"/>\r\n       <use x=\"190.869141\" xlink:href=\"#DejaVuSans-48\"/>\r\n       <use x=\"254.492188\" xlink:href=\"#DejaVuSans-48\"/>\r\n      </g>\r\n     </g>\r\n    </g>\r\n    <g id=\"xtick_5\">\r\n     <g id=\"line2d_5\">\r\n      <g>\r\n       <use style=\"stroke:#000000;stroke-width:0.8;\" x=\"225.125248\" xlink:href=\"#mf6747a6746\" y=\"228.14\"/>\r\n      </g>\r\n     </g>\r\n     <g id=\"text_5\">\r\n      <!-- 20000 -->\r\n      <defs>\r\n       <path d=\"M 19.1875 8.296875 \r\nL 53.609375 8.296875 \r\nL 53.609375 0 \r\nL 7.328125 0 \r\nL 7.328125 8.296875 \r\nQ 12.9375 14.109375 22.625 23.890625 \r\nQ 32.328125 33.6875 34.8125 36.53125 \r\nQ 39.546875 41.84375 41.421875 45.53125 \r\nQ 43.3125 49.21875 43.3125 52.78125 \r\nQ 43.3125 58.59375 39.234375 62.25 \r\nQ 35.15625 65.921875 28.609375 65.921875 \r\nQ 23.96875 65.921875 18.8125 64.3125 \r\nQ 13.671875 62.703125 7.8125 59.421875 \r\nL 7.8125 69.390625 \r\nQ 13.765625 71.78125 18.9375 73 \r\nQ 24.125 74.21875 28.421875 74.21875 \r\nQ 39.75 74.21875 46.484375 68.546875 \r\nQ 53.21875 62.890625 53.21875 53.421875 \r\nQ 53.21875 48.921875 51.53125 44.890625 \r\nQ 49.859375 40.875 45.40625 35.40625 \r\nQ 44.1875 33.984375 37.640625 27.21875 \r\nQ 31.109375 20.453125 19.1875 8.296875 \r\nz\r\n\" id=\"DejaVuSans-50\"/>\r\n      </defs>\r\n      <g transform=\"translate(209.218998 242.738437)scale(0.1 -0.1)\">\r\n       <use xlink:href=\"#DejaVuSans-50\"/>\r\n       <use x=\"63.623047\" xlink:href=\"#DejaVuSans-48\"/>\r\n       <use x=\"127.246094\" xlink:href=\"#DejaVuSans-48\"/>\r\n       <use x=\"190.869141\" xlink:href=\"#DejaVuSans-48\"/>\r\n       <use x=\"254.492188\" xlink:href=\"#DejaVuSans-48\"/>\r\n      </g>\r\n     </g>\r\n    </g>\r\n    <g id=\"xtick_6\">\r\n     <g id=\"line2d_6\">\r\n      <g>\r\n       <use style=\"stroke:#000000;stroke-width:0.8;\" x=\"263.662047\" xlink:href=\"#mf6747a6746\" y=\"228.14\"/>\r\n      </g>\r\n     </g>\r\n     <g id=\"text_6\">\r\n      <!-- 25000 -->\r\n      <g transform=\"translate(247.755797 242.738437)scale(0.1 -0.1)\">\r\n       <use xlink:href=\"#DejaVuSans-50\"/>\r\n       <use x=\"63.623047\" xlink:href=\"#DejaVuSans-53\"/>\r\n       <use x=\"127.246094\" xlink:href=\"#DejaVuSans-48\"/>\r\n       <use x=\"190.869141\" xlink:href=\"#DejaVuSans-48\"/>\r\n       <use x=\"254.492188\" xlink:href=\"#DejaVuSans-48\"/>\r\n      </g>\r\n     </g>\r\n    </g>\r\n    <g id=\"xtick_7\">\r\n     <g id=\"line2d_7\">\r\n      <g>\r\n       <use style=\"stroke:#000000;stroke-width:0.8;\" x=\"302.198846\" xlink:href=\"#mf6747a6746\" y=\"228.14\"/>\r\n      </g>\r\n     </g>\r\n     <g id=\"text_7\">\r\n      <!-- 30000 -->\r\n      <defs>\r\n       <path d=\"M 40.578125 39.3125 \r\nQ 47.65625 37.796875 51.625 33 \r\nQ 55.609375 28.21875 55.609375 21.1875 \r\nQ 55.609375 10.40625 48.1875 4.484375 \r\nQ 40.765625 -1.421875 27.09375 -1.421875 \r\nQ 22.515625 -1.421875 17.65625 -0.515625 \r\nQ 12.796875 0.390625 7.625 2.203125 \r\nL 7.625 11.71875 \r\nQ 11.71875 9.328125 16.59375 8.109375 \r\nQ 21.484375 6.890625 26.8125 6.890625 \r\nQ 36.078125 6.890625 40.9375 10.546875 \r\nQ 45.796875 14.203125 45.796875 21.1875 \r\nQ 45.796875 27.640625 41.28125 31.265625 \r\nQ 36.765625 34.90625 28.71875 34.90625 \r\nL 20.21875 34.90625 \r\nL 20.21875 43.015625 \r\nL 29.109375 43.015625 \r\nQ 36.375 43.015625 40.234375 45.921875 \r\nQ 44.09375 48.828125 44.09375 54.296875 \r\nQ 44.09375 59.90625 40.109375 62.90625 \r\nQ 36.140625 65.921875 28.71875 65.921875 \r\nQ 24.65625 65.921875 20.015625 65.03125 \r\nQ 15.375 64.15625 9.8125 62.3125 \r\nL 9.8125 71.09375 \r\nQ 15.4375 72.65625 20.34375 73.4375 \r\nQ 25.25 74.21875 29.59375 74.21875 \r\nQ 40.828125 74.21875 47.359375 69.109375 \r\nQ 53.90625 64.015625 53.90625 55.328125 \r\nQ 53.90625 49.265625 50.4375 45.09375 \r\nQ 46.96875 40.921875 40.578125 39.3125 \r\nz\r\n\" id=\"DejaVuSans-51\"/>\r\n      </defs>\r\n      <g transform=\"translate(286.292596 242.738437)scale(0.1 -0.1)\">\r\n       <use xlink:href=\"#DejaVuSans-51\"/>\r\n       <use x=\"63.623047\" xlink:href=\"#DejaVuSans-48\"/>\r\n       <use x=\"127.246094\" xlink:href=\"#DejaVuSans-48\"/>\r\n       <use x=\"190.869141\" xlink:href=\"#DejaVuSans-48\"/>\r\n       <use x=\"254.492188\" xlink:href=\"#DejaVuSans-48\"/>\r\n      </g>\r\n     </g>\r\n    </g>\r\n    <g id=\"xtick_8\">\r\n     <g id=\"line2d_8\">\r\n      <g>\r\n       <use style=\"stroke:#000000;stroke-width:0.8;\" x=\"340.735644\" xlink:href=\"#mf6747a6746\" y=\"228.14\"/>\r\n      </g>\r\n     </g>\r\n     <g id=\"text_8\">\r\n      <!-- 35000 -->\r\n      <g transform=\"translate(324.829394 242.738437)scale(0.1 -0.1)\">\r\n       <use xlink:href=\"#DejaVuSans-51\"/>\r\n       <use x=\"63.623047\" xlink:href=\"#DejaVuSans-53\"/>\r\n       <use x=\"127.246094\" xlink:href=\"#DejaVuSans-48\"/>\r\n       <use x=\"190.869141\" xlink:href=\"#DejaVuSans-48\"/>\r\n       <use x=\"254.492188\" xlink:href=\"#DejaVuSans-48\"/>\r\n      </g>\r\n     </g>\r\n    </g>\r\n    <g id=\"xtick_9\">\r\n     <g id=\"line2d_9\">\r\n      <g>\r\n       <use style=\"stroke:#000000;stroke-width:0.8;\" x=\"379.272443\" xlink:href=\"#mf6747a6746\" y=\"228.14\"/>\r\n      </g>\r\n     </g>\r\n     <g id=\"text_9\">\r\n      <!-- 40000 -->\r\n      <defs>\r\n       <path d=\"M 37.796875 64.3125 \r\nL 12.890625 25.390625 \r\nL 37.796875 25.390625 \r\nz\r\nM 35.203125 72.90625 \r\nL 47.609375 72.90625 \r\nL 47.609375 25.390625 \r\nL 58.015625 25.390625 \r\nL 58.015625 17.1875 \r\nL 47.609375 17.1875 \r\nL 47.609375 0 \r\nL 37.796875 0 \r\nL 37.796875 17.1875 \r\nL 4.890625 17.1875 \r\nL 4.890625 26.703125 \r\nz\r\n\" id=\"DejaVuSans-52\"/>\r\n      </defs>\r\n      <g transform=\"translate(363.366193 242.738437)scale(0.1 -0.1)\">\r\n       <use xlink:href=\"#DejaVuSans-52\"/>\r\n       <use x=\"63.623047\" xlink:href=\"#DejaVuSans-48\"/>\r\n       <use x=\"127.246094\" xlink:href=\"#DejaVuSans-48\"/>\r\n       <use x=\"190.869141\" xlink:href=\"#DejaVuSans-48\"/>\r\n       <use x=\"254.492188\" xlink:href=\"#DejaVuSans-48\"/>\r\n      </g>\r\n     </g>\r\n    </g>\r\n    <g id=\"text_10\">\r\n     <!-- true data -->\r\n     <defs>\r\n      <path d=\"M 18.3125 70.21875 \r\nL 18.3125 54.6875 \r\nL 36.8125 54.6875 \r\nL 36.8125 47.703125 \r\nL 18.3125 47.703125 \r\nL 18.3125 18.015625 \r\nQ 18.3125 11.328125 20.140625 9.421875 \r\nQ 21.96875 7.515625 27.59375 7.515625 \r\nL 36.8125 7.515625 \r\nL 36.8125 0 \r\nL 27.59375 0 \r\nQ 17.1875 0 13.234375 3.875 \r\nQ 9.28125 7.765625 9.28125 18.015625 \r\nL 9.28125 47.703125 \r\nL 2.6875 47.703125 \r\nL 2.6875 54.6875 \r\nL 9.28125 54.6875 \r\nL 9.28125 70.21875 \r\nz\r\n\" id=\"DejaVuSans-116\"/>\r\n      <path d=\"M 41.109375 46.296875 \r\nQ 39.59375 47.171875 37.8125 47.578125 \r\nQ 36.03125 48 33.890625 48 \r\nQ 26.265625 48 22.1875 43.046875 \r\nQ 18.109375 38.09375 18.109375 28.8125 \r\nL 18.109375 0 \r\nL 9.078125 0 \r\nL 9.078125 54.6875 \r\nL 18.109375 54.6875 \r\nL 18.109375 46.1875 \r\nQ 20.953125 51.171875 25.484375 53.578125 \r\nQ 30.03125 56 36.53125 56 \r\nQ 37.453125 56 38.578125 55.875 \r\nQ 39.703125 55.765625 41.0625 55.515625 \r\nz\r\n\" id=\"DejaVuSans-114\"/>\r\n      <path d=\"M 8.5 21.578125 \r\nL 8.5 54.6875 \r\nL 17.484375 54.6875 \r\nL 17.484375 21.921875 \r\nQ 17.484375 14.15625 20.5 10.265625 \r\nQ 23.53125 6.390625 29.59375 6.390625 \r\nQ 36.859375 6.390625 41.078125 11.03125 \r\nQ 45.3125 15.671875 45.3125 23.6875 \r\nL 45.3125 54.6875 \r\nL 54.296875 54.6875 \r\nL 54.296875 0 \r\nL 45.3125 0 \r\nL 45.3125 8.40625 \r\nQ 42.046875 3.421875 37.71875 1 \r\nQ 33.40625 -1.421875 27.6875 -1.421875 \r\nQ 18.265625 -1.421875 13.375 4.4375 \r\nQ 8.5 10.296875 8.5 21.578125 \r\nz\r\nM 31.109375 56 \r\nz\r\n\" id=\"DejaVuSans-117\"/>\r\n      <path d=\"M 56.203125 29.59375 \r\nL 56.203125 25.203125 \r\nL 14.890625 25.203125 \r\nQ 15.484375 15.921875 20.484375 11.0625 \r\nQ 25.484375 6.203125 34.421875 6.203125 \r\nQ 39.59375 6.203125 44.453125 7.46875 \r\nQ 49.3125 8.734375 54.109375 11.28125 \r\nL 54.109375 2.78125 \r\nQ 49.265625 0.734375 44.1875 -0.34375 \r\nQ 39.109375 -1.421875 33.890625 -1.421875 \r\nQ 20.796875 -1.421875 13.15625 6.1875 \r\nQ 5.515625 13.8125 5.515625 26.8125 \r\nQ 5.515625 40.234375 12.765625 48.109375 \r\nQ 20.015625 56 32.328125 56 \r\nQ 43.359375 56 49.78125 48.890625 \r\nQ 56.203125 41.796875 56.203125 29.59375 \r\nz\r\nM 47.21875 32.234375 \r\nQ 47.125 39.59375 43.09375 43.984375 \r\nQ 39.0625 48.390625 32.421875 48.390625 \r\nQ 24.90625 48.390625 20.390625 44.140625 \r\nQ 15.875 39.890625 15.1875 32.171875 \r\nz\r\n\" id=\"DejaVuSans-101\"/>\r\n      <path id=\"DejaVuSans-32\"/>\r\n      <path d=\"M 45.40625 46.390625 \r\nL 45.40625 75.984375 \r\nL 54.390625 75.984375 \r\nL 54.390625 0 \r\nL 45.40625 0 \r\nL 45.40625 8.203125 \r\nQ 42.578125 3.328125 38.25 0.953125 \r\nQ 33.9375 -1.421875 27.875 -1.421875 \r\nQ 17.96875 -1.421875 11.734375 6.484375 \r\nQ 5.515625 14.40625 5.515625 27.296875 \r\nQ 5.515625 40.1875 11.734375 48.09375 \r\nQ 17.96875 56 27.875 56 \r\nQ 33.9375 56 38.25 53.625 \r\nQ 42.578125 51.265625 45.40625 46.390625 \r\nz\r\nM 14.796875 27.296875 \r\nQ 14.796875 17.390625 18.875 11.75 \r\nQ 22.953125 6.109375 30.078125 6.109375 \r\nQ 37.203125 6.109375 41.296875 11.75 \r\nQ 45.40625 17.390625 45.40625 27.296875 \r\nQ 45.40625 37.203125 41.296875 42.84375 \r\nQ 37.203125 48.484375 30.078125 48.484375 \r\nQ 22.953125 48.484375 18.875 42.84375 \r\nQ 14.796875 37.203125 14.796875 27.296875 \r\nz\r\n\" id=\"DejaVuSans-100\"/>\r\n      <path d=\"M 34.28125 27.484375 \r\nQ 23.390625 27.484375 19.1875 25 \r\nQ 14.984375 22.515625 14.984375 16.5 \r\nQ 14.984375 11.71875 18.140625 8.90625 \r\nQ 21.296875 6.109375 26.703125 6.109375 \r\nQ 34.1875 6.109375 38.703125 11.40625 \r\nQ 43.21875 16.703125 43.21875 25.484375 \r\nL 43.21875 27.484375 \r\nz\r\nM 52.203125 31.203125 \r\nL 52.203125 0 \r\nL 43.21875 0 \r\nL 43.21875 8.296875 \r\nQ 40.140625 3.328125 35.546875 0.953125 \r\nQ 30.953125 -1.421875 24.3125 -1.421875 \r\nQ 15.921875 -1.421875 10.953125 3.296875 \r\nQ 6 8.015625 6 15.921875 \r\nQ 6 25.140625 12.171875 29.828125 \r\nQ 18.359375 34.515625 30.609375 34.515625 \r\nL 43.21875 34.515625 \r\nL 43.21875 35.40625 \r\nQ 43.21875 41.609375 39.140625 45 \r\nQ 35.0625 48.390625 27.6875 48.390625 \r\nQ 23 48.390625 18.546875 47.265625 \r\nQ 14.109375 46.140625 10.015625 43.890625 \r\nL 10.015625 52.203125 \r\nQ 14.9375 54.109375 19.578125 55.046875 \r\nQ 24.21875 56 28.609375 56 \r\nQ 40.484375 56 46.34375 49.84375 \r\nQ 52.203125 43.703125 52.203125 31.203125 \r\nz\r\n\" id=\"DejaVuSans-97\"/>\r\n     </defs>\r\n     <g transform=\"translate(203.978125 256.416562)scale(0.1 -0.1)\">\r\n      <use xlink:href=\"#DejaVuSans-116\"/>\r\n      <use x=\"39.208984\" xlink:href=\"#DejaVuSans-114\"/>\r\n      <use x=\"80.322266\" xlink:href=\"#DejaVuSans-117\"/>\r\n      <use x=\"143.701172\" xlink:href=\"#DejaVuSans-101\"/>\r\n      <use x=\"205.224609\" xlink:href=\"#DejaVuSans-32\"/>\r\n      <use x=\"237.011719\" xlink:href=\"#DejaVuSans-100\"/>\r\n      <use x=\"300.488281\" xlink:href=\"#DejaVuSans-97\"/>\r\n      <use x=\"361.767578\" xlink:href=\"#DejaVuSans-116\"/>\r\n      <use x=\"400.976562\" xlink:href=\"#DejaVuSans-97\"/>\r\n     </g>\r\n    </g>\r\n   </g>\r\n   <g id=\"matplotlib.axis_2\">\r\n    <g id=\"ytick_1\">\r\n     <g id=\"line2d_10\">\r\n      <defs>\r\n       <path d=\"M 0 0 \r\nL -3.5 0 \r\n\" id=\"me35fec45c3\" style=\"stroke:#000000;stroke-width:0.8;\"/>\r\n      </defs>\r\n      <g>\r\n       <use style=\"stroke:#000000;stroke-width:0.8;\" x=\"59.690625\" xlink:href=\"#me35fec45c3\" y=\"217.547657\"/>\r\n      </g>\r\n     </g>\r\n     <g id=\"text_11\">\r\n      <!-- 0 -->\r\n      <g transform=\"translate(46.328125 221.346876)scale(0.1 -0.1)\">\r\n       <use xlink:href=\"#DejaVuSans-48\"/>\r\n      </g>\r\n     </g>\r\n    </g>\r\n    <g id=\"ytick_2\">\r\n     <g id=\"line2d_11\">\r\n      <g>\r\n       <use style=\"stroke:#000000;stroke-width:0.8;\" x=\"59.690625\" xlink:href=\"#me35fec45c3\" y=\"180.687356\"/>\r\n      </g>\r\n     </g>\r\n     <g id=\"text_12\">\r\n      <!-- 10000 -->\r\n      <g transform=\"translate(20.878125 184.486574)scale(0.1 -0.1)\">\r\n       <use xlink:href=\"#DejaVuSans-49\"/>\r\n       <use x=\"63.623047\" xlink:href=\"#DejaVuSans-48\"/>\r\n       <use x=\"127.246094\" xlink:href=\"#DejaVuSans-48\"/>\r\n       <use x=\"190.869141\" xlink:href=\"#DejaVuSans-48\"/>\r\n       <use x=\"254.492188\" xlink:href=\"#DejaVuSans-48\"/>\r\n      </g>\r\n     </g>\r\n    </g>\r\n    <g id=\"ytick_3\">\r\n     <g id=\"line2d_12\">\r\n      <g>\r\n       <use style=\"stroke:#000000;stroke-width:0.8;\" x=\"59.690625\" xlink:href=\"#me35fec45c3\" y=\"143.827054\"/>\r\n      </g>\r\n     </g>\r\n     <g id=\"text_13\">\r\n      <!-- 20000 -->\r\n      <g transform=\"translate(20.878125 147.626273)scale(0.1 -0.1)\">\r\n       <use xlink:href=\"#DejaVuSans-50\"/>\r\n       <use x=\"63.623047\" xlink:href=\"#DejaVuSans-48\"/>\r\n       <use x=\"127.246094\" xlink:href=\"#DejaVuSans-48\"/>\r\n       <use x=\"190.869141\" xlink:href=\"#DejaVuSans-48\"/>\r\n       <use x=\"254.492188\" xlink:href=\"#DejaVuSans-48\"/>\r\n      </g>\r\n     </g>\r\n    </g>\r\n    <g id=\"ytick_4\">\r\n     <g id=\"line2d_13\">\r\n      <g>\r\n       <use style=\"stroke:#000000;stroke-width:0.8;\" x=\"59.690625\" xlink:href=\"#me35fec45c3\" y=\"106.966752\"/>\r\n      </g>\r\n     </g>\r\n     <g id=\"text_14\">\r\n      <!-- 30000 -->\r\n      <g transform=\"translate(20.878125 110.765971)scale(0.1 -0.1)\">\r\n       <use xlink:href=\"#DejaVuSans-51\"/>\r\n       <use x=\"63.623047\" xlink:href=\"#DejaVuSans-48\"/>\r\n       <use x=\"127.246094\" xlink:href=\"#DejaVuSans-48\"/>\r\n       <use x=\"190.869141\" xlink:href=\"#DejaVuSans-48\"/>\r\n       <use x=\"254.492188\" xlink:href=\"#DejaVuSans-48\"/>\r\n      </g>\r\n     </g>\r\n    </g>\r\n    <g id=\"ytick_5\">\r\n     <g id=\"line2d_14\">\r\n      <g>\r\n       <use style=\"stroke:#000000;stroke-width:0.8;\" x=\"59.690625\" xlink:href=\"#me35fec45c3\" y=\"70.10645\"/>\r\n      </g>\r\n     </g>\r\n     <g id=\"text_15\">\r\n      <!-- 40000 -->\r\n      <g transform=\"translate(20.878125 73.905669)scale(0.1 -0.1)\">\r\n       <use xlink:href=\"#DejaVuSans-52\"/>\r\n       <use x=\"63.623047\" xlink:href=\"#DejaVuSans-48\"/>\r\n       <use x=\"127.246094\" xlink:href=\"#DejaVuSans-48\"/>\r\n       <use x=\"190.869141\" xlink:href=\"#DejaVuSans-48\"/>\r\n       <use x=\"254.492188\" xlink:href=\"#DejaVuSans-48\"/>\r\n      </g>\r\n     </g>\r\n    </g>\r\n    <g id=\"ytick_6\">\r\n     <g id=\"line2d_15\">\r\n      <g>\r\n       <use style=\"stroke:#000000;stroke-width:0.8;\" x=\"59.690625\" xlink:href=\"#me35fec45c3\" y=\"33.246148\"/>\r\n      </g>\r\n     </g>\r\n     <g id=\"text_16\">\r\n      <!-- 50000 -->\r\n      <g transform=\"translate(20.878125 37.045367)scale(0.1 -0.1)\">\r\n       <use xlink:href=\"#DejaVuSans-53\"/>\r\n       <use x=\"63.623047\" xlink:href=\"#DejaVuSans-48\"/>\r\n       <use x=\"127.246094\" xlink:href=\"#DejaVuSans-48\"/>\r\n       <use x=\"190.869141\" xlink:href=\"#DejaVuSans-48\"/>\r\n       <use x=\"254.492188\" xlink:href=\"#DejaVuSans-48\"/>\r\n      </g>\r\n     </g>\r\n    </g>\r\n    <g id=\"text_17\">\r\n     <!-- prediction -->\r\n     <defs>\r\n      <path d=\"M 18.109375 8.203125 \r\nL 18.109375 -20.796875 \r\nL 9.078125 -20.796875 \r\nL 9.078125 54.6875 \r\nL 18.109375 54.6875 \r\nL 18.109375 46.390625 \r\nQ 20.953125 51.265625 25.265625 53.625 \r\nQ 29.59375 56 35.59375 56 \r\nQ 45.5625 56 51.78125 48.09375 \r\nQ 58.015625 40.1875 58.015625 27.296875 \r\nQ 58.015625 14.40625 51.78125 6.484375 \r\nQ 45.5625 -1.421875 35.59375 -1.421875 \r\nQ 29.59375 -1.421875 25.265625 0.953125 \r\nQ 20.953125 3.328125 18.109375 8.203125 \r\nz\r\nM 48.6875 27.296875 \r\nQ 48.6875 37.203125 44.609375 42.84375 \r\nQ 40.53125 48.484375 33.40625 48.484375 \r\nQ 26.265625 48.484375 22.1875 42.84375 \r\nQ 18.109375 37.203125 18.109375 27.296875 \r\nQ 18.109375 17.390625 22.1875 11.75 \r\nQ 26.265625 6.109375 33.40625 6.109375 \r\nQ 40.53125 6.109375 44.609375 11.75 \r\nQ 48.6875 17.390625 48.6875 27.296875 \r\nz\r\n\" id=\"DejaVuSans-112\"/>\r\n      <path d=\"M 9.421875 54.6875 \r\nL 18.40625 54.6875 \r\nL 18.40625 0 \r\nL 9.421875 0 \r\nz\r\nM 9.421875 75.984375 \r\nL 18.40625 75.984375 \r\nL 18.40625 64.59375 \r\nL 9.421875 64.59375 \r\nz\r\n\" id=\"DejaVuSans-105\"/>\r\n      <path d=\"M 48.78125 52.59375 \r\nL 48.78125 44.1875 \r\nQ 44.96875 46.296875 41.140625 47.34375 \r\nQ 37.3125 48.390625 33.40625 48.390625 \r\nQ 24.65625 48.390625 19.8125 42.84375 \r\nQ 14.984375 37.3125 14.984375 27.296875 \r\nQ 14.984375 17.28125 19.8125 11.734375 \r\nQ 24.65625 6.203125 33.40625 6.203125 \r\nQ 37.3125 6.203125 41.140625 7.25 \r\nQ 44.96875 8.296875 48.78125 10.40625 \r\nL 48.78125 2.09375 \r\nQ 45.015625 0.34375 40.984375 -0.53125 \r\nQ 36.96875 -1.421875 32.421875 -1.421875 \r\nQ 20.0625 -1.421875 12.78125 6.34375 \r\nQ 5.515625 14.109375 5.515625 27.296875 \r\nQ 5.515625 40.671875 12.859375 48.328125 \r\nQ 20.21875 56 33.015625 56 \r\nQ 37.15625 56 41.109375 55.140625 \r\nQ 45.0625 54.296875 48.78125 52.59375 \r\nz\r\n\" id=\"DejaVuSans-99\"/>\r\n      <path d=\"M 30.609375 48.390625 \r\nQ 23.390625 48.390625 19.1875 42.75 \r\nQ 14.984375 37.109375 14.984375 27.296875 \r\nQ 14.984375 17.484375 19.15625 11.84375 \r\nQ 23.34375 6.203125 30.609375 6.203125 \r\nQ 37.796875 6.203125 41.984375 11.859375 \r\nQ 46.1875 17.53125 46.1875 27.296875 \r\nQ 46.1875 37.015625 41.984375 42.703125 \r\nQ 37.796875 48.390625 30.609375 48.390625 \r\nz\r\nM 30.609375 56 \r\nQ 42.328125 56 49.015625 48.375 \r\nQ 55.71875 40.765625 55.71875 27.296875 \r\nQ 55.71875 13.875 49.015625 6.21875 \r\nQ 42.328125 -1.421875 30.609375 -1.421875 \r\nQ 18.84375 -1.421875 12.171875 6.21875 \r\nQ 5.515625 13.875 5.515625 27.296875 \r\nQ 5.515625 40.765625 12.171875 48.375 \r\nQ 18.84375 56 30.609375 56 \r\nz\r\n\" id=\"DejaVuSans-111\"/>\r\n      <path d=\"M 54.890625 33.015625 \r\nL 54.890625 0 \r\nL 45.90625 0 \r\nL 45.90625 32.71875 \r\nQ 45.90625 40.484375 42.875 44.328125 \r\nQ 39.84375 48.1875 33.796875 48.1875 \r\nQ 26.515625 48.1875 22.3125 43.546875 \r\nQ 18.109375 38.921875 18.109375 30.90625 \r\nL 18.109375 0 \r\nL 9.078125 0 \r\nL 9.078125 54.6875 \r\nL 18.109375 54.6875 \r\nL 18.109375 46.1875 \r\nQ 21.34375 51.125 25.703125 53.5625 \r\nQ 30.078125 56 35.796875 56 \r\nQ 45.21875 56 50.046875 50.171875 \r\nQ 54.890625 44.34375 54.890625 33.015625 \r\nz\r\n\" id=\"DejaVuSans-110\"/>\r\n     </defs>\r\n     <g transform=\"translate(14.798438 144.614531)rotate(-90)scale(0.1 -0.1)\">\r\n      <use xlink:href=\"#DejaVuSans-112\"/>\r\n      <use x=\"63.476562\" xlink:href=\"#DejaVuSans-114\"/>\r\n      <use x=\"104.558594\" xlink:href=\"#DejaVuSans-101\"/>\r\n      <use x=\"166.082031\" xlink:href=\"#DejaVuSans-100\"/>\r\n      <use x=\"229.558594\" xlink:href=\"#DejaVuSans-105\"/>\r\n      <use x=\"257.341797\" xlink:href=\"#DejaVuSans-99\"/>\r\n      <use x=\"312.322266\" xlink:href=\"#DejaVuSans-116\"/>\r\n      <use x=\"351.53125\" xlink:href=\"#DejaVuSans-105\"/>\r\n      <use x=\"379.314453\" xlink:href=\"#DejaVuSans-111\"/>\r\n      <use x=\"440.496094\" xlink:href=\"#DejaVuSans-110\"/>\r\n     </g>\r\n    </g>\r\n   </g>\r\n   <g id=\"line2d_16\">\r\n    <defs>\r\n     <path d=\"M 0 1.5 \r\nC 0.397805 1.5 0.77937 1.341951 1.06066 1.06066 \r\nC 1.341951 0.77937 1.5 0.397805 1.5 0 \r\nC 1.5 -0.397805 1.341951 -0.77937 1.06066 -1.06066 \r\nC 0.77937 -1.341951 0.397805 -1.5 0 -1.5 \r\nC -0.397805 -1.5 -0.77937 -1.341951 -1.06066 -1.06066 \r\nC -1.341951 -0.77937 -1.5 -0.397805 -1.5 0 \r\nC -1.5 0.397805 -1.341951 0.77937 -1.06066 1.06066 \r\nC -0.77937 1.341951 -0.397805 1.5 0 1.5 \r\nz\r\n\" id=\"m5077319cc3\" style=\"stroke:#000000;\"/>\r\n    </defs>\r\n    <g clip-path=\"url(#p79acc2f347)\">\r\n     <use style=\"stroke:#000000;\" x=\"148.051651\" xlink:href=\"#m5077319cc3\" y=\"206.960571\"/>\r\n     <use style=\"stroke:#000000;\" x=\"93.329397\" xlink:href=\"#m5077319cc3\" y=\"207.813842\"/>\r\n     <use style=\"stroke:#000000;\" x=\"83.309829\" xlink:href=\"#m5077319cc3\" y=\"206.067713\"/>\r\n     <use style=\"stroke:#000000;\" x=\"89.475717\" xlink:href=\"#m5077319cc3\" y=\"213.29997\"/>\r\n     <use style=\"stroke:#000000;\" x=\"155.759011\" xlink:href=\"#m5077319cc3\" y=\"213.169604\"/>\r\n     <use style=\"stroke:#000000;\" x=\"94.870869\" xlink:href=\"#m5077319cc3\" y=\"206.627615\"/>\r\n     <use style=\"stroke:#000000;\" x=\"101.807492\" xlink:href=\"#m5077319cc3\" y=\"209.219227\"/>\r\n     <use style=\"stroke:#000000;\" x=\"171.944466\" xlink:href=\"#m5077319cc3\" y=\"183.127143\"/>\r\n     <use style=\"stroke:#000000;\" x=\"171.17373\" xlink:href=\"#m5077319cc3\" y=\"138.959949\"/>\r\n     <use style=\"stroke:#000000;\" x=\"81.074695\" xlink:href=\"#m5077319cc3\" y=\"214.587367\"/>\r\n     <use style=\"stroke:#000000;\" x=\"84.851301\" xlink:href=\"#m5077319cc3\" y=\"211.114406\"/>\r\n     <use style=\"stroke:#000000;\" x=\"84.851301\" xlink:href=\"#m5077319cc3\" y=\"211.898779\"/>\r\n     <use style=\"stroke:#000000;\" x=\"163.46637\" xlink:href=\"#m5077319cc3\" y=\"195.996111\"/>\r\n     <use style=\"stroke:#000000;\" x=\"95.641605\" xlink:href=\"#m5077319cc3\" y=\"197.534876\"/>\r\n     <use style=\"stroke:#000000;\" x=\"163.46637\" xlink:href=\"#m5077319cc3\" y=\"166.36872\"/>\r\n     <use style=\"stroke:#000000;\" x=\"194.295809\" xlink:href=\"#m5077319cc3\" y=\"195.414435\"/>\r\n     <use style=\"stroke:#000000;\" x=\"86.392773\" xlink:href=\"#m5077319cc3\" y=\"203.889753\"/>\r\n     <use style=\"stroke:#000000;\" x=\"117.222212\" xlink:href=\"#m5077319cc3\" y=\"204.261462\"/>\r\n     <use style=\"stroke:#000000;\" x=\"155.759011\" xlink:href=\"#m5077319cc3\" y=\"154.777339\"/>\r\n     <use style=\"stroke:#000000;\" x=\"109.514852\" xlink:href=\"#m5077319cc3\" y=\"193.012744\"/>\r\n     <use style=\"stroke:#000000;\" x=\"77.914677\" xlink:href=\"#m5077319cc3\" y=\"211.047376\"/>\r\n     <use style=\"stroke:#000000;\" x=\"80.997621\" xlink:href=\"#m5077319cc3\" y=\"215.513164\"/>\r\n     <use style=\"stroke:#000000;\" x=\"91.017189\" xlink:href=\"#m5077319cc3\" y=\"208.588098\"/>\r\n     <use style=\"stroke:#000000;\" x=\"79.070781\" xlink:href=\"#m5077319cc3\" y=\"215.267258\"/>\r\n     <use style=\"stroke:#000000;\" x=\"140.344291\" xlink:href=\"#m5077319cc3\" y=\"191.195334\"/>\r\n     <use style=\"stroke:#000000;\" x=\"379.272443\" xlink:href=\"#m5077319cc3\" y=\"124.552904\"/>\r\n     <use style=\"stroke:#000000;\" x=\"75.987837\" xlink:href=\"#m5077319cc3\" y=\"211.988298\"/>\r\n     <use style=\"stroke:#000000;\" x=\"80.226885\" xlink:href=\"#m5077319cc3\" y=\"208.611561\"/>\r\n     <use style=\"stroke:#000000;\" x=\"87.934245\" xlink:href=\"#m5077319cc3\" y=\"203.549097\"/>\r\n     <use style=\"stroke:#000000;\" x=\"225.125248\" xlink:href=\"#m5077319cc3\" y=\"97.54093\"/>\r\n     <use style=\"stroke:#000000;\" x=\"87.163509\" xlink:href=\"#m5077319cc3\" y=\"212.965242\"/>\r\n     <use style=\"stroke:#000000;\" x=\"340.735644\" xlink:href=\"#m5077319cc3\" y=\"55.533911\"/>\r\n     <use style=\"stroke:#000000;\" x=\"286.784126\" xlink:href=\"#m5077319cc3\" y=\"35.039774\"/>\r\n     <use style=\"stroke:#000000;\" x=\"77.914677\" xlink:href=\"#m5077319cc3\" y=\"218.256364\"/>\r\n     <use style=\"stroke:#000000;\" x=\"80.226885\" xlink:href=\"#m5077319cc3\" y=\"218.024068\"/>\r\n     <use style=\"stroke:#000000;\" x=\"83.001535\" xlink:href=\"#m5077319cc3\" y=\"216.234854\"/>\r\n     <use style=\"stroke:#000000;\" x=\"79.841517\" xlink:href=\"#m5077319cc3\" y=\"217.543231\"/>\r\n     <use style=\"stroke:#000000;\" x=\"120.305156\" xlink:href=\"#m5077319cc3\" y=\"201.706815\"/>\r\n     <use style=\"stroke:#000000;\" x=\"275.993823\" xlink:href=\"#m5077319cc3\" y=\"117.447802\"/>\r\n     <use style=\"stroke:#000000;\" x=\"86.392773\" xlink:href=\"#m5077319cc3\" y=\"213.377443\"/>\r\n     <use style=\"stroke:#000000;\" x=\"109.514852\" xlink:href=\"#m5077319cc3\" y=\"202.918502\"/>\r\n     <use style=\"stroke:#000000;\" x=\"248.247328\" xlink:href=\"#m5077319cc3\" y=\"20.583636\"/>\r\n     <use style=\"stroke:#000000;\" x=\"104.1197\" xlink:href=\"#m5077319cc3\" y=\"189.26239\"/>\r\n     <use style=\"stroke:#000000;\" x=\"77.143941\" xlink:href=\"#m5077319cc3\" y=\"217.508101\"/>\r\n     <use style=\"stroke:#000000;\" x=\"327.633133\" xlink:href=\"#m5077319cc3\" y=\"179.827962\"/>\r\n     <use style=\"stroke:#000000;\" x=\"83.309829\" xlink:href=\"#m5077319cc3\" y=\"216.095484\"/>\r\n     <use style=\"stroke:#000000;\" x=\"75.987837\" xlink:href=\"#m5077319cc3\" y=\"214.200694\"/>\r\n     <use style=\"stroke:#000000;\" x=\"121.075892\" xlink:href=\"#m5077319cc3\" y=\"134.173827\"/>\r\n     <use style=\"stroke:#000000;\" x=\"117.222212\" xlink:href=\"#m5077319cc3\" y=\"207.43899\"/>\r\n     <use style=\"stroke:#000000;\" x=\"113.368532\" xlink:href=\"#m5077319cc3\" y=\"199.824759\"/>\r\n     <use style=\"stroke:#000000;\" x=\"302.198846\" xlink:href=\"#m5077319cc3\" y=\"190.55944\"/>\r\n     <use style=\"stroke:#000000;\" x=\"155.759011\" xlink:href=\"#m5077319cc3\" y=\"195.464824\"/>\r\n     <use style=\"stroke:#000000;\" x=\"81.382989\" xlink:href=\"#m5077319cc3\" y=\"209.574631\"/>\r\n     <use style=\"stroke:#000000;\" x=\"97.953812\" xlink:href=\"#m5077319cc3\" y=\"160.540354\"/>\r\n     <use style=\"stroke:#000000;\" x=\"80.997621\" xlink:href=\"#m5077319cc3\" y=\"209.121579\"/>\r\n     <use style=\"stroke:#000000;\" x=\"86.392773\" xlink:href=\"#m5077319cc3\" y=\"205.669223\"/>\r\n     <use style=\"stroke:#000000;\" x=\"84.388859\" xlink:href=\"#m5077319cc3\" y=\"203.753178\"/>\r\n     <use style=\"stroke:#000000;\" x=\"91.787925\" xlink:href=\"#m5077319cc3\" y=\"199.331561\"/>\r\n     <use style=\"stroke:#000000;\" x=\"84.080565\" xlink:href=\"#m5077319cc3\" y=\"214.713649\"/>\r\n     <use style=\"stroke:#000000;\" x=\"155.759011\" xlink:href=\"#m5077319cc3\" y=\"194.298883\"/>\r\n     <use style=\"stroke:#000000;\" x=\"86.392773\" xlink:href=\"#m5077319cc3\" y=\"203.120069\"/>\r\n     <use style=\"stroke:#000000;\" x=\"97.953812\" xlink:href=\"#m5077319cc3\" y=\"203.549097\"/>\r\n     <use style=\"stroke:#000000;\" x=\"87.163509\" xlink:href=\"#m5077319cc3\" y=\"212.971285\"/>\r\n     <use style=\"stroke:#000000;\" x=\"88.242539\" xlink:href=\"#m5077319cc3\" y=\"207.517991\"/>\r\n     <use style=\"stroke:#000000;\" x=\"225.125248\" xlink:href=\"#m5077319cc3\" y=\"132.523836\"/>\r\n     <use style=\"stroke:#000000;\" x=\"102.578228\" xlink:href=\"#m5077319cc3\" y=\"193.575565\"/>\r\n     <use style=\"stroke:#000000;\" x=\"82.539093\" xlink:href=\"#m5077319cc3\" y=\"210.762919\"/>\r\n     <use style=\"stroke:#000000;\" x=\"74.908807\" xlink:href=\"#m5077319cc3\" y=\"213.291204\"/>\r\n     <use style=\"stroke:#000000;\" x=\"379.272443\" xlink:href=\"#m5077319cc3\" y=\"185.881545\"/>\r\n     <use style=\"stroke:#000000;\" x=\"89.475717\" xlink:href=\"#m5077319cc3\" y=\"207.536064\"/>\r\n     <use style=\"stroke:#000000;\" x=\"155.759011\" xlink:href=\"#m5077319cc3\" y=\"117.559714\"/>\r\n     <use style=\"stroke:#000000;\" x=\"286.784126\" xlink:href=\"#m5077319cc3\" y=\"156.552409\"/>\r\n     <use style=\"stroke:#000000;\" x=\"75.140028\" xlink:href=\"#m5077319cc3\" y=\"215.279897\"/>\r\n    </g>\r\n   </g>\r\n   <g id=\"patch_3\">\r\n    <path d=\"M 59.690625 228.14 \r\nL 59.690625 10.7 \r\n\" style=\"fill:none;stroke:#000000;stroke-linecap:square;stroke-linejoin:miter;stroke-width:0.8;\"/>\r\n   </g>\r\n   <g id=\"patch_4\">\r\n    <path d=\"M 394.490625 228.14 \r\nL 394.490625 10.7 \r\n\" style=\"fill:none;stroke:#000000;stroke-linecap:square;stroke-linejoin:miter;stroke-width:0.8;\"/>\r\n   </g>\r\n   <g id=\"patch_5\">\r\n    <path d=\"M 59.690625 228.14 \r\nL 394.490625 228.14 \r\n\" style=\"fill:none;stroke:#000000;stroke-linecap:square;stroke-linejoin:miter;stroke-width:0.8;\"/>\r\n   </g>\r\n   <g id=\"patch_6\">\r\n    <path d=\"M 59.690625 10.7 \r\nL 394.490625 10.7 \r\n\" style=\"fill:none;stroke:#000000;stroke-linecap:square;stroke-linejoin:miter;stroke-width:0.8;\"/>\r\n   </g>\r\n  </g>\r\n </g>\r\n <defs>\r\n  <clipPath id=\"p79acc2f347\">\r\n   <rect height=\"217.44\" width=\"334.8\" x=\"59.690625\" y=\"10.7\"/>\r\n  </clipPath>\r\n </defs>\r\n</svg>\r\n",
      "image/png": "[encoded data removed]"
     },
     "metadata": {
      "needs_background": "light"
     }
    }
   ],
   "source": [
    "# 散布図の表示\n",
    "plt.plot(Y_test_, Y_pred_, 'k.')\n",
    "plt.xlabel(\"true data\")\n",
    "plt.ylabel(\"prediction\")\n",
    "plt.show()"
   ]
  },
  {
   "source": [
    "## ディープラーニングのモデルを作ってみよう！～二値分類モデル"
   ],
   "cell_type": "markdown",
   "metadata": {}
  },
  {
   "cell_type": "code",
   "execution_count": 25,
   "metadata": {},
   "outputs": [],
   "source": [
    "from sklearn.datasets import load_iris\n",
    "iris = load_iris()"
   ]
  },
  {
   "cell_type": "code",
   "execution_count": 26,
   "metadata": {},
   "outputs": [
    {
     "output_type": "execute_result",
     "data": {
      "text/plain": [
       "   sepal_length  sepal_width  petal_length  petal_width  species\n",
       "0           5.1          3.5           1.4          0.2        0\n",
       "1           4.9          3.0           1.4          0.2        0\n",
       "2           4.7          3.2           1.3          0.2        0\n",
       "3           4.6          3.1           1.5          0.2        0\n",
       "4           5.0          3.6           1.4          0.2        0"
      ],
      "text/html": "<div>\n<style scoped>\n    .dataframe tbody tr th:only-of-type {\n        vertical-align: middle;\n    }\n\n    .dataframe tbody tr th {\n        vertical-align: top;\n    }\n\n    .dataframe thead th {\n        text-align: right;\n    }\n</style>\n<table border=\"1\" class=\"dataframe\">\n  <thead>\n    <tr style=\"text-align: right;\">\n      <th></th>\n      <th>sepal_length</th>\n      <th>sepal_width</th>\n      <th>petal_length</th>\n      <th>petal_width</th>\n      <th>species</th>\n    </tr>\n  </thead>\n  <tbody>\n    <tr>\n      <th>0</th>\n      <td>5.1</td>\n      <td>3.5</td>\n      <td>1.4</td>\n      <td>0.2</td>\n      <td>0</td>\n    </tr>\n    <tr>\n      <th>1</th>\n      <td>4.9</td>\n      <td>3.0</td>\n      <td>1.4</td>\n      <td>0.2</td>\n      <td>0</td>\n    </tr>\n    <tr>\n      <th>2</th>\n      <td>4.7</td>\n      <td>3.2</td>\n      <td>1.3</td>\n      <td>0.2</td>\n      <td>0</td>\n    </tr>\n    <tr>\n      <th>3</th>\n      <td>4.6</td>\n      <td>3.1</td>\n      <td>1.5</td>\n      <td>0.2</td>\n      <td>0</td>\n    </tr>\n    <tr>\n      <th>4</th>\n      <td>5.0</td>\n      <td>3.6</td>\n      <td>1.4</td>\n      <td>0.2</td>\n      <td>0</td>\n    </tr>\n  </tbody>\n</table>\n</div>"
     },
     "metadata": {},
     "execution_count": 26
    }
   ],
   "source": [
    "# irisのfeature_namesは「sepal length(cm)」のように空白やカッコが付いていて扱いづらいので以下の列名を使用する\n",
    "feature_names = ['sepal_length', 'sepal_width', 'petal_length', 'petal_width']\n",
    "\n",
    "# datasetの作成\n",
    "dataset = pd.DataFrame(data = iris['data'], columns = feature_names)\n",
    "dataset['species'] = iris['target']\n",
    "dataset.head()"
   ]
  },
  {
   "cell_type": "code",
   "execution_count": 27,
   "metadata": {},
   "outputs": [
    {
     "output_type": "execute_result",
     "data": {
      "text/plain": [
       "   sepal_length  sepal_width  petal_length  petal_width  species  is_setosa\n",
       "0           5.1          3.5           1.4          0.2        0          1\n",
       "1           4.9          3.0           1.4          0.2        0          1\n",
       "2           4.7          3.2           1.3          0.2        0          1\n",
       "3           4.6          3.1           1.5          0.2        0          1\n",
       "4           5.0          3.6           1.4          0.2        0          1"
      ],
      "text/html": "<div>\n<style scoped>\n    .dataframe tbody tr th:only-of-type {\n        vertical-align: middle;\n    }\n\n    .dataframe tbody tr th {\n        vertical-align: top;\n    }\n\n    .dataframe thead th {\n        text-align: right;\n    }\n</style>\n<table border=\"1\" class=\"dataframe\">\n  <thead>\n    <tr style=\"text-align: right;\">\n      <th></th>\n      <th>sepal_length</th>\n      <th>sepal_width</th>\n      <th>petal_length</th>\n      <th>petal_width</th>\n      <th>species</th>\n      <th>is_setosa</th>\n    </tr>\n  </thead>\n  <tbody>\n    <tr>\n      <th>0</th>\n      <td>5.1</td>\n      <td>3.5</td>\n      <td>1.4</td>\n      <td>0.2</td>\n      <td>0</td>\n      <td>1</td>\n    </tr>\n    <tr>\n      <th>1</th>\n      <td>4.9</td>\n      <td>3.0</td>\n      <td>1.4</td>\n      <td>0.2</td>\n      <td>0</td>\n      <td>1</td>\n    </tr>\n    <tr>\n      <th>2</th>\n      <td>4.7</td>\n      <td>3.2</td>\n      <td>1.3</td>\n      <td>0.2</td>\n      <td>0</td>\n      <td>1</td>\n    </tr>\n    <tr>\n      <th>3</th>\n      <td>4.6</td>\n      <td>3.1</td>\n      <td>1.5</td>\n      <td>0.2</td>\n      <td>0</td>\n      <td>1</td>\n    </tr>\n    <tr>\n      <th>4</th>\n      <td>5.0</td>\n      <td>3.6</td>\n      <td>1.4</td>\n      <td>0.2</td>\n      <td>0</td>\n      <td>1</td>\n    </tr>\n  </tbody>\n</table>\n</div>"
     },
     "metadata": {},
     "execution_count": 27
    }
   ],
   "source": [
    "# setosaかそれ以外か\n",
    "is_setosa = (dataset['species'] == 0).astype(np.int64)\n",
    "\n",
    "# datasetに追加\n",
    "dataset['is_setosa'] = is_setosa\n",
    "dataset.head()"
   ]
  },
  {
   "cell_type": "code",
   "execution_count": 28,
   "metadata": {},
   "outputs": [],
   "source": [
    "# 目的変数（Y)：is_setosa、説明変数（X)：petal_widthとpetal_length\n",
    "Y = np.array(dataset['is_setosa'])\n",
    "X = np.array(dataset[['petal_width', 'petal_length']])"
   ]
  },
  {
   "cell_type": "code",
   "execution_count": 29,
   "metadata": {},
   "outputs": [
    {
     "output_type": "stream",
     "name": "stdout",
     "text": [
      "Y= (150,) , X= (150, 2)\n"
     ]
    }
   ],
   "source": [
    "# 形状を確認\n",
    "print(\"Y=\", Y.shape, \", X=\", X.shape)"
   ]
  },
  {
   "cell_type": "code",
   "execution_count": 30,
   "metadata": {},
   "outputs": [],
   "source": [
    "# データの分割\n",
    "X_train, X_test, Y_train, Y_test = train_test_split(X, Y, test_size=0.3, random_state=0)\n",
    "X_train, X_valid, Y_train, Y_valid = train_test_split(X_train, Y_train, test_size=0.3, random_state=0)"
   ]
  },
  {
   "cell_type": "code",
   "execution_count": 31,
   "metadata": {},
   "outputs": [
    {
     "output_type": "stream",
     "name": "stdout",
     "text": [
      "Y_train= (73,) , X_train= (73, 2)\nY_valid= (32,) , X_valid= (32, 2)\nY_test= (45,) , X_test= (45, 2)\n"
     ]
    }
   ],
   "source": [
    "# 形状を確認\n",
    "print(\"Y_train=\", Y_train.shape, \", X_train=\", X_train.shape)\n",
    "print(\"Y_valid=\", Y_valid.shape, \", X_valid=\", X_valid.shape)\n",
    "print(\"Y_test=\", Y_test.shape, \", X_test=\", X_test.shape)"
   ]
  },
  {
   "cell_type": "code",
   "execution_count": 32,
   "metadata": {},
   "outputs": [
    {
     "output_type": "stream",
     "name": "stdout",
     "text": [
      "WARNING:tensorflow:From C:\\Users\\s2441\\AppData\\Local\\Continuum\\anaconda3\\envs\\test3\\lib\\site-packages\\tensorflow\\python\\ops\\nn_impl.py:180: add_dispatch_support.<locals>.wrapper (from tensorflow.python.ops.array_ops) is deprecated and will be removed in a future version.\nInstructions for updating:\nUse tf.where in 2.0, which has the same broadcast rule as np.where\n"
     ]
    }
   ],
   "source": [
    "# モデルの初期化\n",
    "model = keras.Sequential()\n",
    "\n",
    "# 入力層\n",
    "model.add(Dense(8, activation='relu', input_shape=(2,)))\n",
    "# 隠れ層\n",
    "model.add(Dense(8, activation='relu'))\n",
    "# 出力層\n",
    "model.add(Dense(1, activation='sigmoid'))\n",
    "\n",
    "# モデルの構築\n",
    "model.compile(optimizer = \"rmsprop\", loss='binary_crossentropy', metrics=['accuracy'])"
   ]
  },
  {
   "cell_type": "code",
   "execution_count": 33,
   "metadata": {},
   "outputs": [
    {
     "output_type": "stream",
     "name": "stdout",
     "text": [
      "Model: \"sequential_1\"\n_________________________________________________________________\nLayer (type)                 Output Shape              Param #   \n=================================================================\ndense_3 (Dense)              (None, 8)                 24        \n_________________________________________________________________\ndense_4 (Dense)              (None, 8)                 72        \n_________________________________________________________________\ndense_5 (Dense)              (None, 1)                 9         \n=================================================================\nTotal params: 105\nTrainable params: 105\nNon-trainable params: 0\n_________________________________________________________________\n"
     ]
    }
   ],
   "source": [
    "# モデルの構造を表示\n",
    "model.summary()"
   ]
  },
  {
   "cell_type": "code",
   "execution_count": 34,
   "metadata": {
    "tags": [
     "outputPrepend"
    ]
   },
   "outputs": [
    {
     "output_type": "stream",
     "name": "stdout",
     "text": [
      " - acc: 1.0000 - val_loss: 0.0017 - val_acc: 1.0000\n",
      "Epoch 363/500\n",
      "73/73 [==============================] - 0s 165us/sample - loss: 4.9012e-04 - acc: 1.0000 - val_loss: 0.0016 - val_acc: 1.0000\n",
      "Epoch 364/500\n",
      "73/73 [==============================] - 0s 165us/sample - loss: 4.7151e-04 - acc: 1.0000 - val_loss: 0.0016 - val_acc: 1.0000\n",
      "Epoch 365/500\n",
      "73/73 [==============================] - 0s 179us/sample - loss: 4.6197e-04 - acc: 1.0000 - val_loss: 0.0017 - val_acc: 1.0000\n",
      "Epoch 366/500\n",
      "73/73 [==============================] - 0s 203us/sample - loss: 4.4847e-04 - acc: 1.0000 - val_loss: 0.0016 - val_acc: 1.0000\n",
      "Epoch 367/500\n",
      "73/73 [==============================] - 0s 255us/sample - loss: 4.3389e-04 - acc: 1.0000 - val_loss: 0.0016 - val_acc: 1.0000\n",
      "Epoch 368/500\n",
      "73/73 [==============================] - 0s 248us/sample - loss: 4.2196e-04 - acc: 1.0000 - val_loss: 0.0015 - val_acc: 1.0000\n",
      "Epoch 369/500\n",
      "73/73 [==============================] - 0s 244us/sample - loss: 4.1036e-04 - acc: 1.0000 - val_loss: 0.0013 - val_acc: 1.0000\n",
      "Epoch 370/500\n",
      "73/73 [==============================] - 0s 231us/sample - loss: 3.9823e-04 - acc: 1.0000 - val_loss: 0.0013 - val_acc: 1.0000\n",
      "Epoch 371/500\n",
      "73/73 [==============================] - 0s 216us/sample - loss: 3.8257e-04 - acc: 1.0000 - val_loss: 0.0013 - val_acc: 1.0000\n",
      "Epoch 372/500\n",
      "73/73 [==============================] - 0s 260us/sample - loss: 3.6921e-04 - acc: 1.0000 - val_loss: 0.0013 - val_acc: 1.0000\n",
      "Epoch 373/500\n",
      "73/73 [==============================] - 0s 220us/sample - loss: 3.5778e-04 - acc: 1.0000 - val_loss: 0.0014 - val_acc: 1.0000\n",
      "Epoch 374/500\n",
      "73/73 [==============================] - 0s 238us/sample - loss: 3.4591e-04 - acc: 1.0000 - val_loss: 0.0012 - val_acc: 1.0000\n",
      "Epoch 375/500\n",
      "73/73 [==============================] - 0s 258us/sample - loss: 3.3672e-04 - acc: 1.0000 - val_loss: 0.0011 - val_acc: 1.0000\n",
      "Epoch 376/500\n",
      "73/73 [==============================] - 0s 382us/sample - loss: 3.2578e-04 - acc: 1.0000 - val_loss: 0.0011 - val_acc: 1.0000\n",
      "Epoch 377/500\n",
      "73/73 [==============================] - 0s 267us/sample - loss: 3.1619e-04 - acc: 1.0000 - val_loss: 0.0012 - val_acc: 1.0000\n",
      "Epoch 378/500\n",
      "73/73 [==============================] - 0s 357us/sample - loss: 3.0267e-04 - acc: 1.0000 - val_loss: 0.0011 - val_acc: 1.0000\n",
      "Epoch 379/500\n",
      "73/73 [==============================] - 0s 192us/sample - loss: 2.9714e-04 - acc: 1.0000 - val_loss: 0.0011 - val_acc: 1.0000\n",
      "Epoch 380/500\n",
      "73/73 [==============================] - 0s 254us/sample - loss: 2.8849e-04 - acc: 1.0000 - val_loss: 0.0011 - val_acc: 1.0000\n",
      "Epoch 381/500\n",
      "73/73 [==============================] - 0s 192us/sample - loss: 2.7706e-04 - acc: 1.0000 - val_loss: 0.0011 - val_acc: 1.0000\n",
      "Epoch 382/500\n",
      "73/73 [==============================] - 0s 190us/sample - loss: 2.7296e-04 - acc: 1.0000 - val_loss: 0.0011 - val_acc: 1.0000\n",
      "Epoch 383/500\n",
      "73/73 [==============================] - 0s 179us/sample - loss: 2.5824e-04 - acc: 1.0000 - val_loss: 9.7624e-04 - val_acc: 1.0000\n",
      "Epoch 384/500\n",
      "73/73 [==============================] - 0s 261us/sample - loss: 2.5112e-04 - acc: 1.0000 - val_loss: 9.5339e-04 - val_acc: 1.0000\n",
      "Epoch 385/500\n",
      "73/73 [==============================] - 0s 210us/sample - loss: 2.4842e-04 - acc: 1.0000 - val_loss: 8.7965e-04 - val_acc: 1.0000\n",
      "Epoch 386/500\n",
      "73/73 [==============================] - 0s 275us/sample - loss: 2.3403e-04 - acc: 1.0000 - val_loss: 8.7715e-04 - val_acc: 1.0000\n",
      "Epoch 387/500\n",
      "73/73 [==============================] - 0s 214us/sample - loss: 2.2619e-04 - acc: 1.0000 - val_loss: 8.6920e-04 - val_acc: 1.0000\n",
      "Epoch 388/500\n",
      "73/73 [==============================] - 0s 192us/sample - loss: 2.1879e-04 - acc: 1.0000 - val_loss: 9.0365e-04 - val_acc: 1.0000\n",
      "Epoch 389/500\n",
      "73/73 [==============================] - 0s 261us/sample - loss: 2.0996e-04 - acc: 1.0000 - val_loss: 9.6028e-04 - val_acc: 1.0000\n",
      "Epoch 390/500\n",
      "73/73 [==============================] - 0s 192us/sample - loss: 2.0511e-04 - acc: 1.0000 - val_loss: 8.2275e-04 - val_acc: 1.0000\n",
      "Epoch 391/500\n",
      "73/73 [==============================] - 0s 182us/sample - loss: 1.9622e-04 - acc: 1.0000 - val_loss: 8.2037e-04 - val_acc: 1.0000\n",
      "Epoch 392/500\n",
      "73/73 [==============================] - 0s 192us/sample - loss: 1.9057e-04 - acc: 1.0000 - val_loss: 8.8041e-04 - val_acc: 1.0000\n",
      "Epoch 393/500\n",
      "73/73 [==============================] - 0s 269us/sample - loss: 1.8547e-04 - acc: 1.0000 - val_loss: 8.4611e-04 - val_acc: 1.0000\n",
      "Epoch 394/500\n",
      "73/73 [==============================] - 0s 165us/sample - loss: 1.7965e-04 - acc: 1.0000 - val_loss: 8.1324e-04 - val_acc: 1.0000\n",
      "Epoch 395/500\n",
      "73/73 [==============================] - 0s 137us/sample - loss: 1.7785e-04 - acc: 1.0000 - val_loss: 8.4946e-04 - val_acc: 1.0000\n",
      "Epoch 396/500\n",
      "73/73 [==============================] - 0s 132us/sample - loss: 1.6995e-04 - acc: 1.0000 - val_loss: 7.9095e-04 - val_acc: 1.0000\n",
      "Epoch 397/500\n",
      "73/73 [==============================] - 0s 189us/sample - loss: 1.6348e-04 - acc: 1.0000 - val_loss: 7.3805e-04 - val_acc: 1.0000\n",
      "Epoch 398/500\n",
      "73/73 [==============================] - 0s 192us/sample - loss: 1.5901e-04 - acc: 1.0000 - val_loss: 6.7220e-04 - val_acc: 1.0000\n",
      "Epoch 399/500\n",
      "73/73 [==============================] - 0s 206us/sample - loss: 1.5109e-04 - acc: 1.0000 - val_loss: 7.2695e-04 - val_acc: 1.0000\n",
      "Epoch 400/500\n",
      "73/73 [==============================] - 0s 206us/sample - loss: 1.4699e-04 - acc: 1.0000 - val_loss: 7.0194e-04 - val_acc: 1.0000\n",
      "Epoch 401/500\n",
      "73/73 [==============================] - 0s 225us/sample - loss: 1.4243e-04 - acc: 1.0000 - val_loss: 6.2063e-04 - val_acc: 1.0000\n",
      "Epoch 402/500\n",
      "73/73 [==============================] - 0s 222us/sample - loss: 1.3713e-04 - acc: 1.0000 - val_loss: 6.1809e-04 - val_acc: 1.0000\n",
      "Epoch 403/500\n",
      "73/73 [==============================] - 0s 178us/sample - loss: 1.3386e-04 - acc: 1.0000 - val_loss: 6.1305e-04 - val_acc: 1.0000\n",
      "Epoch 404/500\n",
      "73/73 [==============================] - 0s 206us/sample - loss: 1.2906e-04 - acc: 1.0000 - val_loss: 5.9807e-04 - val_acc: 1.0000\n",
      "Epoch 405/500\n",
      "73/73 [==============================] - 0s 206us/sample - loss: 1.2636e-04 - acc: 1.0000 - val_loss: 5.7163e-04 - val_acc: 1.0000\n",
      "Epoch 406/500\n",
      "73/73 [==============================] - 0s 228us/sample - loss: 1.2173e-04 - acc: 1.0000 - val_loss: 6.0480e-04 - val_acc: 1.0000\n",
      "Epoch 407/500\n",
      "73/73 [==============================] - 0s 206us/sample - loss: 1.1767e-04 - acc: 1.0000 - val_loss: 6.2290e-04 - val_acc: 1.0000\n",
      "Epoch 408/500\n",
      "73/73 [==============================] - 0s 220us/sample - loss: 1.1299e-04 - acc: 1.0000 - val_loss: 5.6615e-04 - val_acc: 1.0000\n",
      "Epoch 409/500\n",
      "73/73 [==============================] - 0s 182us/sample - loss: 1.0653e-04 - acc: 1.0000 - val_loss: 5.0267e-04 - val_acc: 1.0000\n",
      "Epoch 410/500\n",
      "73/73 [==============================] - 0s 179us/sample - loss: 1.0335e-04 - acc: 1.0000 - val_loss: 5.0821e-04 - val_acc: 1.0000\n",
      "Epoch 411/500\n",
      "73/73 [==============================] - 0s 228us/sample - loss: 9.9853e-05 - acc: 1.0000 - val_loss: 4.5182e-04 - val_acc: 1.0000\n",
      "Epoch 412/500\n",
      "73/73 [==============================] - 0s 179us/sample - loss: 9.6296e-05 - acc: 1.0000 - val_loss: 4.8471e-04 - val_acc: 1.0000\n",
      "Epoch 413/500\n",
      "73/73 [==============================] - 0s 179us/sample - loss: 9.2297e-05 - acc: 1.0000 - val_loss: 4.9309e-04 - val_acc: 1.0000\n",
      "Epoch 414/500\n",
      "73/73 [==============================] - 0s 220us/sample - loss: 9.0195e-05 - acc: 1.0000 - val_loss: 4.3131e-04 - val_acc: 1.0000\n",
      "Epoch 415/500\n",
      "73/73 [==============================] - 0s 155us/sample - loss: 8.7779e-05 - acc: 1.0000 - val_loss: 4.2986e-04 - val_acc: 1.0000\n",
      "Epoch 416/500\n",
      "73/73 [==============================] - 0s 137us/sample - loss: 8.3146e-05 - acc: 1.0000 - val_loss: 3.8704e-04 - val_acc: 1.0000\n",
      "Epoch 417/500\n",
      "73/73 [==============================] - 0s 151us/sample - loss: 8.1994e-05 - acc: 1.0000 - val_loss: 3.9574e-04 - val_acc: 1.0000\n",
      "Epoch 418/500\n",
      "73/73 [==============================] - 0s 324us/sample - loss: 7.8584e-05 - acc: 1.0000 - val_loss: 4.3710e-04 - val_acc: 1.0000\n",
      "Epoch 419/500\n",
      "73/73 [==============================] - 0s 220us/sample - loss: 7.6208e-05 - acc: 1.0000 - val_loss: 3.8291e-04 - val_acc: 1.0000\n",
      "Epoch 420/500\n",
      "73/73 [==============================] - 0s 205us/sample - loss: 7.3139e-05 - acc: 1.0000 - val_loss: 3.8431e-04 - val_acc: 1.0000\n",
      "Epoch 421/500\n",
      "73/73 [==============================] - 0s 151us/sample - loss: 7.1516e-05 - acc: 1.0000 - val_loss: 3.7567e-04 - val_acc: 1.0000\n",
      "Epoch 422/500\n",
      "73/73 [==============================] - 0s 151us/sample - loss: 6.9742e-05 - acc: 1.0000 - val_loss: 3.8874e-04 - val_acc: 1.0000\n",
      "Epoch 423/500\n",
      "73/73 [==============================] - 0s 151us/sample - loss: 6.7730e-05 - acc: 1.0000 - val_loss: 3.8597e-04 - val_acc: 1.0000\n",
      "Epoch 424/500\n",
      "73/73 [==============================] - 0s 213us/sample - loss: 6.5609e-05 - acc: 1.0000 - val_loss: 3.6870e-04 - val_acc: 1.0000\n",
      "Epoch 425/500\n",
      "73/73 [==============================] - 0s 234us/sample - loss: 6.2608e-05 - acc: 1.0000 - val_loss: 3.5952e-04 - val_acc: 1.0000\n",
      "Epoch 426/500\n",
      "73/73 [==============================] - 0s 225us/sample - loss: 6.0784e-05 - acc: 1.0000 - val_loss: 3.1260e-04 - val_acc: 1.0000\n",
      "Epoch 427/500\n",
      "73/73 [==============================] - 0s 179us/sample - loss: 5.8461e-05 - acc: 1.0000 - val_loss: 3.1589e-04 - val_acc: 1.0000\n",
      "Epoch 428/500\n",
      "73/73 [==============================] - 0s 206us/sample - loss: 5.6197e-05 - acc: 1.0000 - val_loss: 3.2141e-04 - val_acc: 1.0000\n",
      "Epoch 429/500\n",
      "73/73 [==============================] - 0s 137us/sample - loss: 5.5117e-05 - acc: 1.0000 - val_loss: 3.2332e-04 - val_acc: 1.0000\n",
      "Epoch 430/500\n",
      "73/73 [==============================] - 0s 316us/sample - loss: 5.3217e-05 - acc: 1.0000 - val_loss: 3.2028e-04 - val_acc: 1.0000\n",
      "Epoch 431/500\n",
      "73/73 [==============================] - 0s 206us/sample - loss: 5.0525e-05 - acc: 1.0000 - val_loss: 2.7850e-04 - val_acc: 1.0000\n",
      "Epoch 432/500\n",
      "73/73 [==============================] - 0s 192us/sample - loss: 4.8181e-05 - acc: 1.0000 - val_loss: 2.8255e-04 - val_acc: 1.0000\n",
      "Epoch 433/500\n",
      "73/73 [==============================] - 0s 197us/sample - loss: 4.7412e-05 - acc: 1.0000 - val_loss: 3.0704e-04 - val_acc: 1.0000\n",
      "Epoch 434/500\n",
      "73/73 [==============================] - 0s 179us/sample - loss: 4.5831e-05 - acc: 1.0000 - val_loss: 3.2642e-04 - val_acc: 1.0000\n",
      "Epoch 435/500\n",
      "73/73 [==============================] - 0s 192us/sample - loss: 4.3944e-05 - acc: 1.0000 - val_loss: 2.9105e-04 - val_acc: 1.0000\n",
      "Epoch 436/500\n",
      "73/73 [==============================] - 0s 246us/sample - loss: 4.2295e-05 - acc: 1.0000 - val_loss: 3.0678e-04 - val_acc: 1.0000\n",
      "Epoch 437/500\n",
      "73/73 [==============================] - 0s 234us/sample - loss: 4.1126e-05 - acc: 1.0000 - val_loss: 2.5192e-04 - val_acc: 1.0000\n",
      "Epoch 438/500\n",
      "73/73 [==============================] - 0s 151us/sample - loss: 3.9399e-05 - acc: 1.0000 - val_loss: 2.2524e-04 - val_acc: 1.0000\n",
      "Epoch 439/500\n",
      "73/73 [==============================] - 0s 233us/sample - loss: 3.8054e-05 - acc: 1.0000 - val_loss: 2.4677e-04 - val_acc: 1.0000\n",
      "Epoch 440/500\n",
      "73/73 [==============================] - 0s 218us/sample - loss: 3.6587e-05 - acc: 1.0000 - val_loss: 2.4866e-04 - val_acc: 1.0000\n",
      "Epoch 441/500\n",
      "73/73 [==============================] - 0s 179us/sample - loss: 3.6181e-05 - acc: 1.0000 - val_loss: 2.6689e-04 - val_acc: 1.0000\n",
      "Epoch 442/500\n",
      "73/73 [==============================] - 0s 151us/sample - loss: 3.5455e-05 - acc: 1.0000 - val_loss: 2.6880e-04 - val_acc: 1.0000\n",
      "Epoch 443/500\n",
      "73/73 [==============================] - 0s 137us/sample - loss: 3.3992e-05 - acc: 1.0000 - val_loss: 2.4891e-04 - val_acc: 1.0000\n",
      "Epoch 444/500\n",
      "73/73 [==============================] - 0s 865us/sample - loss: 3.2728e-05 - acc: 1.0000 - val_loss: 2.3596e-04 - val_acc: 1.0000\n",
      "Epoch 445/500\n",
      "73/73 [==============================] - 0s 165us/sample - loss: 3.1886e-05 - acc: 1.0000 - val_loss: 2.0244e-04 - val_acc: 1.0000\n",
      "Epoch 446/500\n",
      "73/73 [==============================] - 0s 206us/sample - loss: 3.0801e-05 - acc: 1.0000 - val_loss: 2.1753e-04 - val_acc: 1.0000\n",
      "Epoch 447/500\n",
      "73/73 [==============================] - 0s 234us/sample - loss: 3.0012e-05 - acc: 1.0000 - val_loss: 2.0872e-04 - val_acc: 1.0000\n",
      "Epoch 448/500\n",
      "73/73 [==============================] - 0s 247us/sample - loss: 2.9527e-05 - acc: 1.0000 - val_loss: 2.0028e-04 - val_acc: 1.0000\n",
      "Epoch 449/500\n",
      "73/73 [==============================] - 0s 165us/sample - loss: 2.7754e-05 - acc: 1.0000 - val_loss: 1.9811e-04 - val_acc: 1.0000\n",
      "Epoch 450/500\n",
      "73/73 [==============================] - 0s 241us/sample - loss: 2.7083e-05 - acc: 1.0000 - val_loss: 2.0348e-04 - val_acc: 1.0000\n",
      "Epoch 451/500\n",
      "73/73 [==============================] - 0s 165us/sample - loss: 2.6202e-05 - acc: 1.0000 - val_loss: 1.7128e-04 - val_acc: 1.0000\n",
      "Epoch 452/500\n",
      "73/73 [==============================] - 0s 151us/sample - loss: 2.5367e-05 - acc: 1.0000 - val_loss: 1.7542e-04 - val_acc: 1.0000\n",
      "Epoch 453/500\n",
      "73/73 [==============================] - 0s 123us/sample - loss: 2.4870e-05 - acc: 1.0000 - val_loss: 1.8694e-04 - val_acc: 1.0000\n",
      "Epoch 454/500\n",
      "73/73 [==============================] - 0s 220us/sample - loss: 2.3661e-05 - acc: 1.0000 - val_loss: 1.8182e-04 - val_acc: 1.0000\n",
      "Epoch 455/500\n",
      "73/73 [==============================] - 0s 179us/sample - loss: 2.3644e-05 - acc: 1.0000 - val_loss: 1.7294e-04 - val_acc: 1.0000\n",
      "Epoch 456/500\n",
      "73/73 [==============================] - 0s 165us/sample - loss: 2.2665e-05 - acc: 1.0000 - val_loss: 1.8960e-04 - val_acc: 1.0000\n",
      "Epoch 457/500\n",
      "73/73 [==============================] - 0s 179us/sample - loss: 2.1760e-05 - acc: 1.0000 - val_loss: 1.5691e-04 - val_acc: 1.0000\n",
      "Epoch 458/500\n",
      "73/73 [==============================] - 0s 192us/sample - loss: 2.0679e-05 - acc: 1.0000 - val_loss: 1.5642e-04 - val_acc: 1.0000\n",
      "Epoch 459/500\n",
      "73/73 [==============================] - 0s 234us/sample - loss: 1.9730e-05 - acc: 1.0000 - val_loss: 1.5346e-04 - val_acc: 1.0000\n",
      "Epoch 460/500\n",
      "73/73 [==============================] - 0s 247us/sample - loss: 1.9115e-05 - acc: 1.0000 - val_loss: 1.5014e-04 - val_acc: 1.0000\n",
      "Epoch 461/500\n",
      "73/73 [==============================] - 0s 220us/sample - loss: 1.8750e-05 - acc: 1.0000 - val_loss: 1.4875e-04 - val_acc: 1.0000\n",
      "Epoch 462/500\n",
      "73/73 [==============================] - 0s 165us/sample - loss: 1.8093e-05 - acc: 1.0000 - val_loss: 1.2595e-04 - val_acc: 1.0000\n",
      "Epoch 463/500\n",
      "73/73 [==============================] - 0s 179us/sample - loss: 1.7517e-05 - acc: 1.0000 - val_loss: 1.2774e-04 - val_acc: 1.0000\n",
      "Epoch 464/500\n",
      "73/73 [==============================] - 0s 206us/sample - loss: 1.7317e-05 - acc: 1.0000 - val_loss: 1.4774e-04 - val_acc: 1.0000\n",
      "Epoch 465/500\n",
      "73/73 [==============================] - 0s 137us/sample - loss: 1.6519e-05 - acc: 1.0000 - val_loss: 1.4248e-04 - val_acc: 1.0000\n",
      "Epoch 466/500\n",
      "73/73 [==============================] - 0s 178us/sample - loss: 1.5875e-05 - acc: 1.0000 - val_loss: 1.3595e-04 - val_acc: 1.0000\n",
      "Epoch 467/500\n",
      "73/73 [==============================] - 0s 275us/sample - loss: 1.5401e-05 - acc: 1.0000 - val_loss: 1.1719e-04 - val_acc: 1.0000\n",
      "Epoch 468/500\n",
      "73/73 [==============================] - 0s 165us/sample - loss: 1.4976e-05 - acc: 1.0000 - val_loss: 1.1760e-04 - val_acc: 1.0000\n",
      "Epoch 469/500\n",
      "73/73 [==============================] - 0s 192us/sample - loss: 1.4581e-05 - acc: 1.0000 - val_loss: 1.1797e-04 - val_acc: 1.0000\n",
      "Epoch 470/500\n",
      "73/73 [==============================] - 0s 220us/sample - loss: 1.4236e-05 - acc: 1.0000 - val_loss: 1.1895e-04 - val_acc: 1.0000\n",
      "Epoch 471/500\n",
      "73/73 [==============================] - 0s 151us/sample - loss: 1.3670e-05 - acc: 1.0000 - val_loss: 1.2448e-04 - val_acc: 1.0000\n",
      "Epoch 472/500\n",
      "73/73 [==============================] - 0s 165us/sample - loss: 1.3166e-05 - acc: 1.0000 - val_loss: 1.0581e-04 - val_acc: 1.0000\n",
      "Epoch 473/500\n",
      "73/73 [==============================] - 0s 261us/sample - loss: 1.2702e-05 - acc: 1.0000 - val_loss: 1.0312e-04 - val_acc: 1.0000\n",
      "Epoch 474/500\n",
      "73/73 [==============================] - 0s 228us/sample - loss: 1.2540e-05 - acc: 1.0000 - val_loss: 1.1258e-04 - val_acc: 1.0000\n",
      "Epoch 475/500\n",
      "73/73 [==============================] - 0s 192us/sample - loss: 1.1761e-05 - acc: 1.0000 - val_loss: 1.0702e-04 - val_acc: 1.0000\n",
      "Epoch 476/500\n",
      "73/73 [==============================] - 0s 151us/sample - loss: 1.1832e-05 - acc: 1.0000 - val_loss: 9.3644e-05 - val_acc: 1.0000\n",
      "Epoch 477/500\n",
      "73/73 [==============================] - 0s 163us/sample - loss: 1.0997e-05 - acc: 1.0000 - val_loss: 9.4695e-05 - val_acc: 1.0000\n",
      "Epoch 478/500\n",
      "73/73 [==============================] - 0s 179us/sample - loss: 1.0773e-05 - acc: 1.0000 - val_loss: 8.3821e-05 - val_acc: 1.0000\n",
      "Epoch 479/500\n",
      "73/73 [==============================] - 0s 206us/sample - loss: 1.0464e-05 - acc: 1.0000 - val_loss: 8.7401e-05 - val_acc: 1.0000\n",
      "Epoch 480/500\n",
      "73/73 [==============================] - 0s 293us/sample - loss: 1.0144e-05 - acc: 1.0000 - val_loss: 8.0159e-05 - val_acc: 1.0000\n",
      "Epoch 481/500\n",
      "73/73 [==============================] - 0s 226us/sample - loss: 9.6656e-06 - acc: 1.0000 - val_loss: 8.9287e-05 - val_acc: 1.0000\n",
      "Epoch 482/500\n",
      "73/73 [==============================] - 0s 259us/sample - loss: 9.0934e-06 - acc: 1.0000 - val_loss: 8.9530e-05 - val_acc: 1.0000\n",
      "Epoch 483/500\n",
      "73/73 [==============================] - 0s 206us/sample - loss: 8.8428e-06 - acc: 1.0000 - val_loss: 7.5309e-05 - val_acc: 1.0000\n",
      "Epoch 484/500\n",
      "73/73 [==============================] - 0s 302us/sample - loss: 8.5585e-06 - acc: 1.0000 - val_loss: 7.9106e-05 - val_acc: 1.0000\n",
      "Epoch 485/500\n",
      "73/73 [==============================] - 0s 145us/sample - loss: 8.2352e-06 - acc: 1.0000 - val_loss: 7.8438e-05 - val_acc: 1.0000\n",
      "Epoch 486/500\n",
      "73/73 [==============================] - 0s 233us/sample - loss: 8.1115e-06 - acc: 1.0000 - val_loss: 6.8111e-05 - val_acc: 1.0000\n",
      "Epoch 487/500\n",
      "73/73 [==============================] - 0s 173us/sample - loss: 7.8137e-06 - acc: 1.0000 - val_loss: 7.1201e-05 - val_acc: 1.0000\n",
      "Epoch 488/500\n",
      "73/73 [==============================] - 0s 137us/sample - loss: 7.6088e-06 - acc: 1.0000 - val_loss: 8.2111e-05 - val_acc: 1.0000\n",
      "Epoch 489/500\n",
      "73/73 [==============================] - 0s 220us/sample - loss: 7.5234e-06 - acc: 1.0000 - val_loss: 8.6454e-05 - val_acc: 1.0000\n",
      "Epoch 490/500\n",
      "73/73 [==============================] - 0s 192us/sample - loss: 7.1901e-06 - acc: 1.0000 - val_loss: 7.0083e-05 - val_acc: 1.0000\n",
      "Epoch 491/500\n",
      "73/73 [==============================] - 0s 165us/sample - loss: 6.7201e-06 - acc: 1.0000 - val_loss: 6.9627e-05 - val_acc: 1.0000\n",
      "Epoch 492/500\n",
      "73/73 [==============================] - 0s 178us/sample - loss: 6.5700e-06 - acc: 1.0000 - val_loss: 6.9203e-05 - val_acc: 1.0000\n",
      "Epoch 493/500\n",
      "73/73 [==============================] - 0s 376us/sample - loss: 6.3844e-06 - acc: 1.0000 - val_loss: 6.7001e-05 - val_acc: 1.0000\n",
      "Epoch 494/500\n",
      "73/73 [==============================] - 0s 179us/sample - loss: 6.3331e-06 - acc: 1.0000 - val_loss: 7.1118e-05 - val_acc: 1.0000\n",
      "Epoch 495/500\n",
      "73/73 [==============================] - 0s 171us/sample - loss: 6.0074e-06 - acc: 1.0000 - val_loss: 5.7369e-05 - val_acc: 1.0000\n",
      "Epoch 496/500\n",
      "73/73 [==============================] - 0s 192us/sample - loss: 5.7711e-06 - acc: 1.0000 - val_loss: 5.7868e-05 - val_acc: 1.0000\n",
      "Epoch 497/500\n",
      "73/73 [==============================] - 0s 177us/sample - loss: 5.5689e-06 - acc: 1.0000 - val_loss: 5.8238e-05 - val_acc: 1.0000\n",
      "Epoch 498/500\n",
      "73/73 [==============================] - 0s 161us/sample - loss: 5.5291e-06 - acc: 1.0000 - val_loss: 5.5880e-05 - val_acc: 1.0000\n",
      "Epoch 499/500\n",
      "73/73 [==============================] - 0s 165us/sample - loss: 5.3350e-06 - acc: 1.0000 - val_loss: 4.8764e-05 - val_acc: 1.0000\n",
      "Epoch 500/500\n",
      "73/73 [==============================] - 0s 179us/sample - loss: 5.2543e-06 - acc: 1.0000 - val_loss: 4.6094e-05 - val_acc: 1.0000\n",
      "Wall time: 12.9 s\n"
     ]
    }
   ],
   "source": [
    "%%time\n",
    "# 学習の実施\n",
    "log = model.fit(X_train, Y_train, epochs=500, batch_size=32, verbose=True,\n",
    "                callbacks=[keras.callbacks.EarlyStopping(monitor='val_loss',\n",
    "                                                         min_delta=0, patience=100,\n",
    "                                                         verbose=1)],\n",
    "         validation_data=(X_valid, Y_valid))"
   ]
  },
  {
   "cell_type": "code",
   "execution_count": 35,
   "metadata": {},
   "outputs": [
    {
     "output_type": "display_data",
     "data": {
      "text/plain": "<Figure size 432x288 with 1 Axes>",
      "image/svg+xml": "<?xml version=\"1.0\" encoding=\"utf-8\" standalone=\"no\"?>\r\n<!DOCTYPE svg PUBLIC \"-//W3C//DTD SVG 1.1//EN\"\r\n  \"http://www.w3.org/Graphics/SVG/1.1/DTD/svg11.dtd\">\r\n<!-- Created with matplotlib (https://matplotlib.org/) -->\r\n<svg height=\"261.62125pt\" version=\"1.1\" viewBox=\"0 0 384.829687 261.62125\" width=\"384.829687pt\" xmlns=\"http://www.w3.org/2000/svg\" xmlns:xlink=\"http://www.w3.org/1999/xlink\">\r\n <defs>\r\n  <style type=\"text/css\">\r\n*{stroke-linecap:butt;stroke-linejoin:round;white-space:pre;}\r\n  </style>\r\n </defs>\r\n <g id=\"figure_1\">\r\n  <g id=\"patch_1\">\r\n   <path d=\"M 0 261.62125 \r\nL 384.829687 261.62125 \r\nL 384.829687 0 \r\nL 0 0 \r\nz\r\n\" style=\"fill:none;\"/>\r\n  </g>\r\n  <g id=\"axes_1\">\r\n   <g id=\"patch_2\">\r\n    <path d=\"M 42.829688 224.64 \r\nL 377.629688 224.64 \r\nL 377.629688 7.2 \r\nL 42.829688 7.2 \r\nz\r\n\" style=\"fill:#ffffff;\"/>\r\n   </g>\r\n   <g id=\"matplotlib.axis_1\">\r\n    <g id=\"xtick_1\">\r\n     <g id=\"line2d_1\">\r\n      <defs>\r\n       <path d=\"M 0 0 \r\nL 0 3.5 \r\n\" id=\"m8b518bcc38\" style=\"stroke:#000000;stroke-width:0.8;\"/>\r\n      </defs>\r\n      <g>\r\n       <use style=\"stroke:#000000;stroke-width:0.8;\" x=\"58.047869\" xlink:href=\"#m8b518bcc38\" y=\"224.64\"/>\r\n      </g>\r\n     </g>\r\n     <g id=\"text_1\">\r\n      <!-- 0 -->\r\n      <defs>\r\n       <path d=\"M 31.84375 73.828125 \r\nQ 45.015625 73.828125 52.09375 61.625 \r\nQ 57.71875 51.953125 57.71875 36.625 \r\nQ 57.71875 21.4375 52.09375 11.578125 \r\nQ 45.125 -0.484375 31.5 -0.484375 \r\nQ 17.921875 -0.484375 10.9375 11.578125 \r\nQ 5.328125 21.4375 5.328125 36.71875 \r\nQ 5.328125 58.015625 15.625 67.71875 \r\nQ 22.171875 73.828125 31.84375 73.828125 \r\nz\r\nM 31.5 66.65625 \r\nQ 23.6875 66.65625 19.1875 58.734375 \r\nQ 14.59375 50.734375 14.59375 36.625 \r\nQ 14.59375 22.75 19.09375 14.796875 \r\nQ 23.640625 6.984375 31.5 6.984375 \r\nQ 40.921875 6.984375 45.453125 18.015625 \r\nQ 48.4375 25.34375 48.4375 37.109375 \r\nQ 48.4375 50.875 43.84375 58.734375 \r\nQ 39.203125 66.65625 31.5 66.65625 \r\nz\r\n\" id=\"IPAexGothic-48\"/>\r\n      </defs>\r\n      <g transform=\"translate(54.898651 239.130625)scale(0.1 -0.1)\">\r\n       <use xlink:href=\"#IPAexGothic-48\"/>\r\n      </g>\r\n     </g>\r\n    </g>\r\n    <g id=\"xtick_2\">\r\n     <g id=\"line2d_2\">\r\n      <g>\r\n       <use style=\"stroke:#000000;stroke-width:0.8;\" x=\"119.042586\" xlink:href=\"#m8b518bcc38\" y=\"224.64\"/>\r\n      </g>\r\n     </g>\r\n     <g id=\"text_2\">\r\n      <!-- 100 -->\r\n      <defs>\r\n       <path d=\"M 38.484375 0.984375 \r\nL 29.6875 0.984375 \r\nL 29.6875 64.109375 \r\nQ 21.4375 61.28125 12.3125 59.328125 \r\nL 10.6875 66.109375 \r\nQ 23.734375 69.390625 32.90625 73.921875 \r\nL 38.484375 73.921875 \r\nz\r\n\" id=\"IPAexGothic-49\"/>\r\n      </defs>\r\n      <g transform=\"translate(109.59493 239.130625)scale(0.1 -0.1)\">\r\n       <use xlink:href=\"#IPAexGothic-49\"/>\r\n       <use x=\"62.988281\" xlink:href=\"#IPAexGothic-48\"/>\r\n       <use x=\"125.976562\" xlink:href=\"#IPAexGothic-48\"/>\r\n      </g>\r\n     </g>\r\n    </g>\r\n    <g id=\"xtick_3\">\r\n     <g id=\"line2d_3\">\r\n      <g>\r\n       <use style=\"stroke:#000000;stroke-width:0.8;\" x=\"180.037303\" xlink:href=\"#m8b518bcc38\" y=\"224.64\"/>\r\n      </g>\r\n     </g>\r\n     <g id=\"text_3\">\r\n      <!-- 200 -->\r\n      <defs>\r\n       <path d=\"M 57.171875 0.984375 \r\nL 6.984375 0.984375 \r\nL 6.984375 9.28125 \r\nQ 12.890625 23.046875 29.59375 34.421875 \r\nL 32.375 36.28125 \r\nQ 40.921875 42.140625 43.609375 45.40625 \r\nQ 46.6875 49.265625 46.6875 53.8125 \r\nQ 46.6875 58.9375 43.0625 62.546875 \r\nQ 39.0625 66.546875 32.5625 66.546875 \r\nQ 19.53125 66.546875 15.484375 52 \r\nL 7.765625 54.78125 \r\nQ 13.328125 73.828125 33.0625 73.828125 \r\nQ 43.84375 73.828125 50.25 67.4375 \r\nQ 55.859375 61.671875 55.859375 53.515625 \r\nQ 55.859375 47.46875 52.25 42.53125 \r\nQ 48.921875 37.75 36.96875 30.28125 \r\nL 34.859375 29 \r\nQ 19.625 19.578125 15.28125 8.890625 \r\nL 57.171875 8.890625 \r\nz\r\n\" id=\"IPAexGothic-50\"/>\r\n      </defs>\r\n      <g transform=\"translate(170.589646 239.130625)scale(0.1 -0.1)\">\r\n       <use xlink:href=\"#IPAexGothic-50\"/>\r\n       <use x=\"62.988281\" xlink:href=\"#IPAexGothic-48\"/>\r\n       <use x=\"125.976562\" xlink:href=\"#IPAexGothic-48\"/>\r\n      </g>\r\n     </g>\r\n    </g>\r\n    <g id=\"xtick_4\">\r\n     <g id=\"line2d_4\">\r\n      <g>\r\n       <use style=\"stroke:#000000;stroke-width:0.8;\" x=\"241.032019\" xlink:href=\"#m8b518bcc38\" y=\"224.64\"/>\r\n      </g>\r\n     </g>\r\n     <g id=\"text_4\">\r\n      <!-- 300 -->\r\n      <defs>\r\n       <path d=\"M 37.203125 37.796875 \r\nQ 54.78125 34.625 54.78125 19.96875 \r\nQ 54.78125 11.1875 48.875 5.5625 \r\nQ 42.328125 -0.484375 30.375 -0.484375 \r\nQ 12.453125 -0.484375 4.5 13.765625 \r\nL 11.8125 17.671875 \r\nQ 17.328125 6.890625 30.28125 6.890625 \r\nQ 37.890625 6.890625 42.09375 10.796875 \r\nQ 46.09375 14.5 46.09375 20.171875 \r\nQ 46.09375 26.859375 40.09375 30.90625 \r\nQ 34.625 34.578125 25.6875 34.578125 \r\nL 21.296875 34.578125 \r\nL 21.296875 41.703125 \r\nL 25.875 41.703125 \r\nQ 34.859375 41.703125 39.59375 45.125 \r\nQ 44.671875 48.734375 44.671875 54.828125 \r\nQ 44.671875 61.46875 38.96875 64.65625 \r\nQ 35.296875 66.84375 30.171875 66.84375 \r\nQ 19.34375 66.84375 14.109375 55.90625 \r\nL 6.78125 59.421875 \r\nQ 14.015625 73.828125 30.28125 73.828125 \r\nQ 40.578125 73.828125 46.96875 68.65625 \r\nQ 53.375 63.578125 53.375 55.21875 \r\nQ 53.375 47.3125 47.171875 42.28125 \r\nQ 43.171875 39.0625 37.203125 38.1875 \r\nz\r\n\" id=\"IPAexGothic-51\"/>\r\n      </defs>\r\n      <g transform=\"translate(231.584363 239.130625)scale(0.1 -0.1)\">\r\n       <use xlink:href=\"#IPAexGothic-51\"/>\r\n       <use x=\"62.988281\" xlink:href=\"#IPAexGothic-48\"/>\r\n       <use x=\"125.976562\" xlink:href=\"#IPAexGothic-48\"/>\r\n      </g>\r\n     </g>\r\n    </g>\r\n    <g id=\"xtick_5\">\r\n     <g id=\"line2d_5\">\r\n      <g>\r\n       <use style=\"stroke:#000000;stroke-width:0.8;\" x=\"302.026736\" xlink:href=\"#m8b518bcc38\" y=\"224.64\"/>\r\n      </g>\r\n     </g>\r\n     <g id=\"text_5\">\r\n      <!-- 400 -->\r\n      <defs>\r\n       <path d=\"M 59.578125 18.109375 \r\nL 47.796875 18.109375 \r\nL 47.796875 0.984375 \r\nL 39.796875 0.984375 \r\nL 39.796875 18.109375 \r\nL 3.078125 18.109375 \r\nL 3.078125 26.125 \r\nL 38.375 73.09375 \r\nL 47.796875 73.09375 \r\nL 47.796875 25.53125 \r\nL 59.578125 25.53125 \r\nz\r\nM 40.28125 64.203125 \r\nL 39.984375 64.203125 \r\nQ 35.59375 57.125 31.296875 51.3125 \r\nL 11.859375 25.53125 \r\nL 39.796875 25.53125 \r\nL 39.796875 49.125 \r\nQ 39.796875 54.390625 40.28125 64.203125 \r\nz\r\n\" id=\"IPAexGothic-52\"/>\r\n      </defs>\r\n      <g transform=\"translate(292.57908 239.130625)scale(0.1 -0.1)\">\r\n       <use xlink:href=\"#IPAexGothic-52\"/>\r\n       <use x=\"62.988281\" xlink:href=\"#IPAexGothic-48\"/>\r\n       <use x=\"125.976562\" xlink:href=\"#IPAexGothic-48\"/>\r\n      </g>\r\n     </g>\r\n    </g>\r\n    <g id=\"xtick_6\">\r\n     <g id=\"line2d_6\">\r\n      <g>\r\n       <use style=\"stroke:#000000;stroke-width:0.8;\" x=\"363.021453\" xlink:href=\"#m8b518bcc38\" y=\"224.64\"/>\r\n      </g>\r\n     </g>\r\n     <g id=\"text_6\">\r\n      <!-- 500 -->\r\n      <defs>\r\n       <path d=\"M 18.40625 40.671875 \r\nQ 25.53125 46.296875 33.9375 46.296875 \r\nQ 44 46.296875 50.640625 39.5 \r\nQ 56.84375 33.015625 56.84375 23.390625 \r\nQ 56.84375 14.65625 51.515625 8.015625 \r\nQ 44.828125 -0.484375 31.734375 -0.484375 \r\nQ 14.984375 -0.484375 7.328125 12.25 \r\nL 14.65625 16.0625 \r\nQ 20.453125 6.78125 31.453125 6.78125 \r\nQ 38.53125 6.78125 43.265625 11.1875 \r\nQ 48.140625 15.828125 48.140625 23.484375 \r\nQ 48.140625 30.71875 43.84375 35.015625 \r\nQ 39.359375 39.5 32.125 39.5 \r\nQ 21.96875 39.5 16.75 31.6875 \r\nL 9.234375 32.671875 \r\nL 13.8125 72.40625 \r\nL 53.21875 72.40625 \r\nL 53.21875 64.890625 \r\nL 20.953125 64.890625 \r\nL 17.71875 40.671875 \r\nz\r\n\" id=\"IPAexGothic-53\"/>\r\n      </defs>\r\n      <g transform=\"translate(353.573797 239.130625)scale(0.1 -0.1)\">\r\n       <use xlink:href=\"#IPAexGothic-53\"/>\r\n       <use x=\"62.988281\" xlink:href=\"#IPAexGothic-48\"/>\r\n       <use x=\"125.976562\" xlink:href=\"#IPAexGothic-48\"/>\r\n      </g>\r\n     </g>\r\n    </g>\r\n    <g id=\"text_7\">\r\n     <!-- epochs -->\r\n     <defs>\r\n      <path d=\"M 13.484375 24.90625 \r\nQ 13.921875 16.265625 18.890625 11.28125 \r\nQ 23.96875 6.203125 31.203125 6.203125 \r\nQ 40.71875 6.203125 46.296875 15.09375 \r\nL 51.90625 11.375 \r\nQ 44.828125 -0.484375 30.171875 -0.484375 \r\nQ 19.09375 -0.484375 11.96875 6.59375 \r\nQ 4.78125 13.8125 4.78125 25.640625 \r\nQ 4.78125 38.1875 12.3125 45.703125 \r\nQ 19 52.390625 29 52.390625 \r\nQ 38.421875 52.390625 44.78125 46.1875 \r\nQ 51.90625 38.96875 51.90625 26.90625 \r\nL 51.90625 24.90625 \r\nz\r\nM 43.0625 31.203125 \r\nQ 42.328125 37.984375 38.28125 41.890625 \r\nQ 34.28125 45.90625 28.8125 45.90625 \r\nQ 22.46875 45.90625 17.96875 40.484375 \r\nQ 14.890625 36.8125 13.96875 31.203125 \r\nz\r\n\" id=\"IPAexGothic-101\"/>\r\n      <path d=\"M 16.796875 42 \r\nQ 23.828125 52.203125 34.46875 52.203125 \r\nQ 43.265625 52.203125 49.5625 45.90625 \r\nQ 56.890625 38.578125 56.890625 25.6875 \r\nQ 56.890625 13.140625 49.65625 5.8125 \r\nQ 43.359375 -0.484375 34.375 -0.484375 \r\nQ 24.515625 -0.484375 17.28125 7.765625 \r\nL 17.28125 -19 \r\nL 8.796875 -19 \r\nL 8.796875 50.78125 \r\nL 16.796875 50.78125 \r\nz\r\nM 17.28125 30.46875 \r\nL 17.28125 20.171875 \r\nQ 17.28125 14.015625 23.6875 9.375 \r\nQ 27.984375 6.296875 32.90625 6.296875 \r\nQ 38.578125 6.296875 42.578125 10.296875 \r\nQ 47.90625 15.578125 47.90625 25.484375 \r\nQ 47.90625 34.375 43.5 39.984375 \r\nQ 39.109375 45.3125 32.8125 45.3125 \r\nQ 25.875 45.3125 20.90625 38.8125 \r\nQ 17.28125 34.125 17.28125 30.46875 \r\nz\r\n\" id=\"IPAexGothic-112\"/>\r\n      <path d=\"M 29.984375 52.203125 \r\nQ 40.53125 52.203125 47.75 45.125 \r\nQ 55.171875 37.703125 55.171875 25.59375 \r\nQ 55.171875 13.875 47.90625 6.59375 \r\nQ 40.765625 -0.484375 29.984375 -0.484375 \r\nQ 19.1875 -0.484375 12.203125 6.5 \r\nQ 4.890625 13.765625 4.890625 25.875 \r\nQ 4.890625 37.703125 12.3125 45.125 \r\nQ 19.390625 52.203125 29.984375 52.203125 \r\nz\r\nM 29.984375 45.609375 \r\nQ 23.734375 45.609375 19.390625 41.109375 \r\nQ 13.875 35.59375 13.875 25.78125 \r\nQ 13.875 16.109375 19.28125 10.6875 \r\nQ 23.6875 6.296875 29.984375 6.296875 \r\nQ 36.421875 6.296875 40.765625 10.796875 \r\nQ 46.1875 16.21875 46.1875 26.125 \r\nQ 46.1875 35.453125 40.671875 41.109375 \r\nQ 36.1875 45.609375 29.984375 45.609375 \r\nz\r\n\" id=\"IPAexGothic-111\"/>\r\n      <path d=\"M 51.078125 12.25 \r\nQ 44.28125 -0.484375 29.6875 -0.484375 \r\nQ 19.1875 -0.484375 12.3125 6.390625 \r\nQ 4.890625 13.921875 4.890625 25.984375 \r\nQ 4.890625 37.9375 12.3125 45.515625 \r\nQ 19.09375 52.296875 29.390625 52.296875 \r\nQ 43.953125 52.296875 50.09375 39.703125 \r\nL 43.171875 36.078125 \r\nQ 38.8125 45.3125 29.6875 45.3125 \r\nQ 23.6875 45.3125 19.28125 40.921875 \r\nQ 13.765625 35.40625 13.765625 25.78125 \r\nQ 13.765625 16.703125 19.09375 11.375 \r\nQ 23.78125 6.6875 30.5625 6.6875 \r\nQ 39.796875 6.6875 44.484375 15.875 \r\nz\r\n\" id=\"IPAexGothic-99\"/>\r\n      <path d=\"M 52.296875 0.984375 \r\nL 43.703125 0.984375 \r\nL 43.703125 31.890625 \r\nQ 43.703125 44.578125 33.296875 44.578125 \r\nQ 22.609375 44.578125 17.671875 31.890625 \r\nL 17.671875 0.984375 \r\nL 9.078125 0.984375 \r\nL 9.078125 74.90625 \r\nL 17.671875 74.90625 \r\nL 17.671875 42.28125 \r\nQ 24.46875 51.8125 35.109375 51.8125 \r\nQ 52.296875 51.8125 52.296875 32.375 \r\nz\r\n\" id=\"IPAexGothic-104\"/>\r\n      <path d=\"M 34.90625 39.796875 \r\nQ 30.28125 45.796875 23.1875 45.796875 \r\nQ 13.921875 45.796875 13.921875 38.671875 \r\nQ 13.921875 33.640625 23.921875 30.375 \r\nL 27.203125 29.296875 \r\nQ 41.40625 24.65625 41.40625 13.96875 \r\nQ 41.40625 6.78125 35.5 2.6875 \r\nQ 30.8125 -0.484375 23.390625 -0.484375 \r\nQ 11.96875 -0.484375 4 7.859375 \r\nL 9.421875 12.796875 \r\nQ 15.578125 6.203125 23.6875 6.203125 \r\nQ 33.296875 6.203125 33.296875 13.671875 \r\nQ 33.296875 19.34375 22.703125 23.09375 \r\nL 19.28125 24.265625 \r\nQ 5.90625 28.953125 5.90625 37.984375 \r\nQ 5.90625 43.703125 9.8125 47.609375 \r\nQ 14.5 52.296875 22.703125 52.296875 \r\nQ 33.6875 52.296875 40.71875 44.671875 \r\nz\r\n\" id=\"IPAexGothic-115\"/>\r\n     </defs>\r\n     <g transform=\"translate(193.196094 252.52125)scale(0.1 -0.1)\">\r\n      <use xlink:href=\"#IPAexGothic-101\"/>\r\n      <use x=\"56.884766\" xlink:href=\"#IPAexGothic-112\"/>\r\n      <use x=\"118.994141\" xlink:href=\"#IPAexGothic-111\"/>\r\n      <use x=\"179.394531\" xlink:href=\"#IPAexGothic-99\"/>\r\n      <use x=\"233.789062\" xlink:href=\"#IPAexGothic-104\"/>\r\n      <use x=\"294.482422\" xlink:href=\"#IPAexGothic-115\"/>\r\n     </g>\r\n    </g>\r\n   </g>\r\n   <g id=\"matplotlib.axis_2\">\r\n    <g id=\"ytick_1\">\r\n     <g id=\"line2d_7\">\r\n      <defs>\r\n       <path d=\"M 0 0 \r\nL -3.5 0 \r\n\" id=\"mbdb466c5a3\" style=\"stroke:#000000;stroke-width:0.8;\"/>\r\n      </defs>\r\n      <g>\r\n       <use style=\"stroke:#000000;stroke-width:0.8;\" x=\"42.829688\" xlink:href=\"#mbdb466c5a3\" y=\"214.757584\"/>\r\n      </g>\r\n     </g>\r\n     <g id=\"text_8\">\r\n      <!-- 0.0 -->\r\n      <defs>\r\n       <path d=\"M 18.5 0.984375 \r\nL 7.71875 0.984375 \r\nL 7.71875 11.765625 \r\nL 18.5 11.765625 \r\nz\r\n\" id=\"IPAexGothic-46\"/>\r\n      </defs>\r\n      <g transform=\"translate(20.590625 218.502896)scale(0.1 -0.1)\">\r\n       <use xlink:href=\"#IPAexGothic-48\"/>\r\n       <use x=\"62.988281\" xlink:href=\"#IPAexGothic-46\"/>\r\n       <use x=\"89.404297\" xlink:href=\"#IPAexGothic-48\"/>\r\n      </g>\r\n     </g>\r\n    </g>\r\n    <g id=\"ytick_2\">\r\n     <g id=\"line2d_8\">\r\n      <g>\r\n       <use style=\"stroke:#000000;stroke-width:0.8;\" x=\"42.829688\" xlink:href=\"#mbdb466c5a3\" y=\"168.308694\"/>\r\n      </g>\r\n     </g>\r\n     <g id=\"text_9\">\r\n      <!-- 0.2 -->\r\n      <g transform=\"translate(20.590625 172.054007)scale(0.1 -0.1)\">\r\n       <use xlink:href=\"#IPAexGothic-48\"/>\r\n       <use x=\"62.988281\" xlink:href=\"#IPAexGothic-46\"/>\r\n       <use x=\"89.404297\" xlink:href=\"#IPAexGothic-50\"/>\r\n      </g>\r\n     </g>\r\n    </g>\r\n    <g id=\"ytick_3\">\r\n     <g id=\"line2d_9\">\r\n      <g>\r\n       <use style=\"stroke:#000000;stroke-width:0.8;\" x=\"42.829688\" xlink:href=\"#mbdb466c5a3\" y=\"121.859804\"/>\r\n      </g>\r\n     </g>\r\n     <g id=\"text_10\">\r\n      <!-- 0.4 -->\r\n      <g transform=\"translate(20.590625 125.605117)scale(0.1 -0.1)\">\r\n       <use xlink:href=\"#IPAexGothic-48\"/>\r\n       <use x=\"62.988281\" xlink:href=\"#IPAexGothic-46\"/>\r\n       <use x=\"89.404297\" xlink:href=\"#IPAexGothic-52\"/>\r\n      </g>\r\n     </g>\r\n    </g>\r\n    <g id=\"ytick_4\">\r\n     <g id=\"line2d_10\">\r\n      <g>\r\n       <use style=\"stroke:#000000;stroke-width:0.8;\" x=\"42.829688\" xlink:href=\"#mbdb466c5a3\" y=\"75.410914\"/>\r\n      </g>\r\n     </g>\r\n     <g id=\"text_11\">\r\n      <!-- 0.6 -->\r\n      <defs>\r\n       <path d=\"M 16.5 36.375 \r\nQ 23.578125 46.578125 34.90625 46.578125 \r\nQ 45.40625 46.578125 51.8125 39.265625 \r\nQ 57.421875 32.90625 57.421875 23.78125 \r\nQ 57.421875 13.8125 51.125 6.78125 \r\nQ 44.578125 -0.484375 34.03125 -0.484375 \r\nQ 21.484375 -0.484375 14.40625 9.078125 \r\nQ 7.515625 18.40625 7.515625 34.8125 \r\nQ 7.515625 53.515625 15.828125 64.203125 \r\nQ 23.34375 73.828125 35.5 73.828125 \r\nQ 49.859375 73.828125 56.390625 62.890625 \r\nL 49.21875 58.984375 \r\nQ 45.21875 66.65625 35.9375 66.65625 \r\nQ 17.484375 66.65625 16.109375 36.375 \r\nz\r\nM 33.453125 39.796875 \r\nQ 26.3125 39.796875 21.625 34.46875 \r\nQ 17.4375 29.6875 17.4375 24.078125 \r\nQ 17.4375 18.0625 21.140625 13.1875 \r\nQ 26.125 6.6875 33.734375 6.6875 \r\nQ 41.703125 6.6875 45.953125 13.1875 \r\nQ 48.828125 17.625 48.828125 23.484375 \r\nQ 48.828125 30.375 45.015625 34.8125 \r\nQ 40.625 39.796875 33.453125 39.796875 \r\nz\r\n\" id=\"IPAexGothic-54\"/>\r\n      </defs>\r\n      <g transform=\"translate(20.590625 79.156227)scale(0.1 -0.1)\">\r\n       <use xlink:href=\"#IPAexGothic-48\"/>\r\n       <use x=\"62.988281\" xlink:href=\"#IPAexGothic-46\"/>\r\n       <use x=\"89.404297\" xlink:href=\"#IPAexGothic-54\"/>\r\n      </g>\r\n     </g>\r\n    </g>\r\n    <g id=\"ytick_5\">\r\n     <g id=\"line2d_11\">\r\n      <g>\r\n       <use style=\"stroke:#000000;stroke-width:0.8;\" x=\"42.829688\" xlink:href=\"#mbdb466c5a3\" y=\"28.962024\"/>\r\n      </g>\r\n     </g>\r\n     <g id=\"text_12\">\r\n      <!-- 0.8 -->\r\n      <defs>\r\n       <path d=\"M 39.703125 37.890625 \r\nQ 57.8125 31.734375 57.8125 18.703125 \r\nQ 57.8125 8.453125 48.4375 3.078125 \r\nQ 41.609375 -0.875 31.5 -0.875 \r\nQ 21.34375 -0.875 14.5 3.078125 \r\nQ 5.421875 8.296875 5.421875 18.40625 \r\nQ 5.421875 31.0625 22.015625 37.203125 \r\nL 22.015625 37.5 \r\nQ 7.515625 42.71875 7.515625 54.828125 \r\nQ 7.515625 64.0625 15.328125 69.625 \r\nQ 21.96875 74.3125 31.546875 74.3125 \r\nQ 42.234375 74.3125 48.921875 68.796875 \r\nQ 55.515625 63.578125 55.515625 55.71875 \r\nQ 55.515625 42.28125 39.703125 38.1875 \r\nz\r\nM 31.59375 41.015625 \r\nQ 46.828125 44.625 46.828125 55.125 \r\nQ 46.828125 61.1875 41.796875 64.84375 \r\nQ 37.703125 67.921875 31.5 67.921875 \r\nQ 25.09375 67.921875 20.796875 64.5 \r\nQ 16.40625 60.890625 16.40625 55.03125 \r\nQ 16.40625 49.21875 21.09375 45.703125 \r\nQ 23.34375 43.890625 26.90625 42.53125 \r\nQ 31 40.875 31.59375 41.015625 \r\nz\r\nM 30.90625 34.515625 \r\nQ 14.40625 30.171875 14.40625 19 \r\nQ 14.40625 12.109375 20.515625 8.6875 \r\nQ 25.09375 6.109375 31.390625 6.109375 \r\nQ 40.234375 6.109375 45.015625 10.890625 \r\nQ 48.53125 14.40625 48.53125 19.53125 \r\nQ 48.53125 24.90625 43.65625 28.90625 \r\nQ 40.765625 31.15625 36.71875 32.8125 \r\nQ 31.984375 34.71875 30.90625 34.515625 \r\nz\r\n\" id=\"IPAexGothic-56\"/>\r\n      </defs>\r\n      <g transform=\"translate(20.590625 32.707337)scale(0.1 -0.1)\">\r\n       <use xlink:href=\"#IPAexGothic-48\"/>\r\n       <use x=\"62.988281\" xlink:href=\"#IPAexGothic-46\"/>\r\n       <use x=\"89.404297\" xlink:href=\"#IPAexGothic-56\"/>\r\n      </g>\r\n     </g>\r\n    </g>\r\n    <g id=\"text_13\">\r\n     <!-- crossentropy -->\r\n     <defs>\r\n      <path d=\"M 36.078125 51.8125 \r\nL 34.578125 43.265625 \r\nQ 32.90625 43.609375 31.59375 43.609375 \r\nQ 25.828125 43.609375 22.078125 38.1875 \r\nQ 17.390625 31.34375 17.390625 26.171875 \r\nL 17.390625 0.984375 \r\nL 8.796875 0.984375 \r\nL 8.796875 50.78125 \r\nL 16.890625 50.78125 \r\nL 16.5 35.984375 \r\nL 16.703125 35.984375 \r\nQ 22.21875 52.203125 32.765625 52.203125 \r\nQ 34.46875 52.203125 36.078125 51.8125 \r\nz\r\n\" id=\"IPAexGothic-114\"/>\r\n      <path d=\"M 52 0.984375 \r\nL 43.40625 0.984375 \r\nL 43.40625 31.890625 \r\nQ 43.40625 44.578125 32.90625 44.578125 \r\nQ 22.3125 44.578125 17.390625 31.890625 \r\nL 17.390625 0.984375 \r\nL 8.796875 0.984375 \r\nL 8.796875 50.78125 \r\nL 16.796875 50.78125 \r\nL 16.796875 41.796875 \r\nQ 23.828125 51.8125 34.71875 51.8125 \r\nQ 52 51.8125 52 32.375 \r\nz\r\n\" id=\"IPAexGothic-110\"/>\r\n      <path d=\"M 33.203125 3.765625 \r\nQ 27.640625 -0.09375 21.828125 -0.09375 \r\nQ 10.203125 -0.09375 10.203125 12.984375 \r\nL 10.203125 44.671875 \r\nL 3.421875 44.671875 \r\nL 3.421875 50.78125 \r\nL 10.203125 50.78125 \r\nL 10.203125 61.96875 \r\nL 18.40625 66.0625 \r\nL 18.40625 50.78125 \r\nL 32.234375 50.78125 \r\nL 32.234375 44.671875 \r\nL 18.40625 44.671875 \r\nL 18.40625 14.15625 \r\nQ 18.40625 6.5 23.640625 6.5 \r\nQ 27.15625 6.5 30.328125 9.1875 \r\nz\r\n\" id=\"IPAexGothic-116\"/>\r\n      <path d=\"M 48.78125 50.78125 \r\nL 24.609375 -7.625 \r\nQ 19.96875 -18.796875 8.59375 -18.796875 \r\nL 7.46875 -18.796875 \r\nL 5.375 -10.984375 \r\nL 6.984375 -10.984375 \r\nQ 15.140625 -10.984375 17.96875 -3.71875 \r\nL 21.1875 4.296875 \r\nL 0.59375 50.78125 \r\nL 10.296875 50.78125 \r\nL 21.296875 22.796875 \r\nQ 23.875 16.015625 25.09375 12.203125 \r\nL 25.390625 12.203125 \r\nQ 27.34375 18.265625 29.109375 22.796875 \r\nL 39.5 50.78125 \r\nz\r\n\" id=\"IPAexGothic-121\"/>\r\n     </defs>\r\n     <g transform=\"translate(14.690625 146.162969)rotate(-90)scale(0.1 -0.1)\">\r\n      <use xlink:href=\"#IPAexGothic-99\"/>\r\n      <use x=\"54.394531\" xlink:href=\"#IPAexGothic-114\"/>\r\n      <use x=\"91.40625\" xlink:href=\"#IPAexGothic-111\"/>\r\n      <use x=\"151.806641\" xlink:href=\"#IPAexGothic-115\"/>\r\n      <use x=\"197.998047\" xlink:href=\"#IPAexGothic-115\"/>\r\n      <use x=\"244.189453\" xlink:href=\"#IPAexGothic-101\"/>\r\n      <use x=\"301.074219\" xlink:href=\"#IPAexGothic-110\"/>\r\n      <use x=\"361.474609\" xlink:href=\"#IPAexGothic-116\"/>\r\n      <use x=\"396.09375\" xlink:href=\"#IPAexGothic-114\"/>\r\n      <use x=\"433.105469\" xlink:href=\"#IPAexGothic-111\"/>\r\n      <use x=\"493.505859\" xlink:href=\"#IPAexGothic-112\"/>\r\n      <use x=\"555.615234\" xlink:href=\"#IPAexGothic-121\"/>\r\n     </g>\r\n    </g>\r\n   </g>\r\n   <g id=\"line2d_12\">\r\n    <path clip-path=\"url(#p56c17bacec)\" d=\"M 58.047869 17.083636 \r\nL 58.657816 23.452695 \r\nL 59.267764 27.297842 \r\nL 60.487658 33.304481 \r\nL 62.317499 40.290329 \r\nL 63.537394 44.324462 \r\nL 64.757288 47.781819 \r\nL 66.58713 53.140761 \r\nL 68.416971 57.763317 \r\nL 69.636865 60.518829 \r\nL 71.466707 64.356639 \r\nL 73.906496 68.63723 \r\nL 75.736337 71.258675 \r\nL 77.566179 73.659985 \r\nL 80.615914 77.995127 \r\nL 84.885545 84.87762 \r\nL 89.155175 92.227349 \r\nL 90.985016 95.254791 \r\nL 94.034752 100.70483 \r\nL 97.084488 105.898906 \r\nL 98.91433 108.908495 \r\nL 101.354118 113.071549 \r\nL 113.553062 132.234847 \r\nL 118.432639 139.242964 \r\nL 120.26248 141.838175 \r\nL 124.532111 147.7586 \r\nL 125.752005 149.651695 \r\nL 126.361952 150.428126 \r\nL 127.581846 152.303795 \r\nL 131.241529 157.475681 \r\nL 137.341001 165.424251 \r\nL 139.78079 168.396558 \r\nL 140.390737 168.993669 \r\nL 142.830526 172.044037 \r\nL 144.05042 173.498509 \r\nL 145.880261 175.573419 \r\nL 151.369786 181.36601 \r\nL 158.079205 188.054323 \r\nL 164.178676 193.059682 \r\nL 164.788624 193.43747 \r\nL 166.008518 194.402154 \r\nL 174.547778 200.038401 \r\nL 176.987567 201.253041 \r\nL 178.817408 202.124506 \r\nL 184.306933 204.594894 \r\nL 186.746722 205.532393 \r\nL 188.576563 206.144338 \r\nL 191.016352 206.991334 \r\nL 194.676035 208.077149 \r\nL 202.605348 210.098914 \r\nL 206.874978 210.908283 \r\nL 209.924714 211.387283 \r\nL 213.584397 211.866528 \r\nL 220.293816 212.647261 \r\nL 226.393287 213.208226 \r\nL 234.932548 213.72482 \r\nL 245.911597 214.143034 \r\nL 256.890646 214.411205 \r\nL 280.068638 214.650293 \r\nL 319.715204 214.745225 \r\nL 362.411506 214.756364 \r\nL 362.411506 214.756364 \r\n\" style=\"fill:none;stroke:#1f77b4;stroke-linecap:square;stroke-width:1.5;\"/>\r\n   </g>\r\n   <g id=\"line2d_13\">\r\n    <path clip-path=\"url(#p56c17bacec)\" d=\"M 58.047869 34.175958 \r\nL 59.267764 38.775507 \r\nL 60.487658 42.313476 \r\nL 61.707552 45.548619 \r\nL 63.537394 49.421654 \r\nL 66.58713 55.192737 \r\nL 69.026918 59.092766 \r\nL 72.686601 63.933444 \r\nL 73.906496 65.218738 \r\nL 76.956231 68.214497 \r\nL 79.39602 70.373801 \r\nL 81.225862 72.157106 \r\nL 83.055703 74.407994 \r\nL 87.325333 79.232587 \r\nL 89.765122 82.341511 \r\nL 91.594964 84.561862 \r\nL 92.204911 85.24138 \r\nL 92.814858 85.705655 \r\nL 95.864594 89.261426 \r\nL 96.474541 90.231532 \r\nL 97.084488 90.774518 \r\nL 98.304382 92.25101 \r\nL 100.744171 94.745464 \r\nL 101.354118 95.702309 \r\nL 101.964065 96.235618 \r\nL 103.18396 97.707293 \r\nL 105.013801 100.20111 \r\nL 105.623748 100.800041 \r\nL 106.233696 101.719947 \r\nL 106.843643 102.378299 \r\nL 108.673484 105.057119 \r\nL 109.283431 105.70043 \r\nL 109.893379 106.008524 \r\nL 111.72322 108.124881 \r\nL 112.333167 108.896827 \r\nL 114.163009 111.97801 \r\nL 115.99285 113.57863 \r\nL 119.042586 117.983951 \r\nL 119.652533 119.214864 \r\nL 120.26248 119.793626 \r\nL 120.872428 120.965382 \r\nL 121.482375 121.574412 \r\nL 122.092322 122.426024 \r\nL 123.312216 124.553683 \r\nL 124.532111 126.119863 \r\nL 125.142058 127.193812 \r\nL 125.752005 128.03354 \r\nL 126.361952 129.434644 \r\nL 126.971899 130.276607 \r\nL 127.581846 131.557998 \r\nL 128.191794 132.114979 \r\nL 129.411688 134.882607 \r\nL 130.021635 136.058945 \r\nL 130.631582 136.806957 \r\nL 131.241529 137.946652 \r\nL 131.851477 138.537451 \r\nL 133.071371 141.179954 \r\nL 133.681318 141.891172 \r\nL 134.291265 142.880811 \r\nL 134.901212 143.270418 \r\nL 136.121107 145.815273 \r\nL 136.731054 146.378594 \r\nL 137.950948 148.66618 \r\nL 139.170843 149.862604 \r\nL 139.78079 150.311776 \r\nL 140.390737 151.287642 \r\nL 141.610631 153.804576 \r\nL 142.220578 154.701288 \r\nL 142.830526 155.156178 \r\nL 144.660367 158.708966 \r\nL 145.270314 158.926907 \r\nL 147.100156 161.745841 \r\nL 147.710103 162.048179 \r\nL 148.32005 162.653028 \r\nL 148.929997 163.928764 \r\nL 150.149892 165.599645 \r\nL 150.759839 166.861891 \r\nL 151.369786 167.578417 \r\nL 152.58968 169.663067 \r\nL 153.809575 171.120283 \r\nL 155.639416 172.729528 \r\nL 156.85931 175.204511 \r\nL 157.469258 175.692448 \r\nL 158.079205 176.364528 \r\nL 158.689152 177.54351 \r\nL 159.909046 178.759095 \r\nL 160.518993 179.568691 \r\nL 161.128941 180.583534 \r\nL 162.348835 181.565958 \r\nL 162.958782 181.910094 \r\nL 163.568729 182.848307 \r\nL 164.178676 183.102216 \r\nL 164.788624 184.086159 \r\nL 166.618465 186.17561 \r\nL 168.448307 187.312444 \r\nL 169.058254 188.271217 \r\nL 169.668201 188.846368 \r\nL 170.278148 189.574384 \r\nL 170.888095 190.044474 \r\nL 171.498042 190.662918 \r\nL 172.10799 191.005063 \r\nL 172.717937 191.644617 \r\nL 173.327884 192.081687 \r\nL 174.547778 193.352765 \r\nL 175.157725 193.338104 \r\nL 177.597514 194.305645 \r\nL 178.207461 195.061421 \r\nL 178.817408 195.412886 \r\nL 179.427356 196.130774 \r\nL 180.037303 196.475895 \r\nL 180.64725 197.162225 \r\nL 181.257197 197.28199 \r\nL 183.087039 198.094022 \r\nL 184.306933 199.427305 \r\nL 185.526827 199.963587 \r\nL 186.136774 200.484756 \r\nL 186.746722 200.482644 \r\nL 187.356669 200.922059 \r\nL 187.966616 201.082476 \r\nL 188.576563 201.569857 \r\nL 189.18651 201.812616 \r\nL 189.796457 202.204268 \r\nL 190.406405 202.225408 \r\nL 191.626299 203.160947 \r\nL 192.236246 203.19083 \r\nL 192.846193 203.356839 \r\nL 193.45614 203.645213 \r\nL 194.066088 204.062748 \r\nL 195.285982 204.436306 \r\nL 195.895929 204.74231 \r\nL 197.115823 204.907568 \r\nL 198.335718 205.599803 \r\nL 200.775506 206.209873 \r\nL 201.385454 206.317549 \r\nL 201.995401 206.774289 \r\nL 202.605348 207.063221 \r\nL 203.825242 207.311011 \r\nL 204.435189 207.688274 \r\nL 205.655084 207.759085 \r\nL 206.265031 207.733151 \r\nL 206.874978 207.94202 \r\nL 207.484925 208.007803 \r\nL 208.094872 208.400223 \r\nL 210.534661 209.099307 \r\nL 211.144608 209.02845 \r\nL 211.754555 209.348744 \r\nL 212.364503 209.283109 \r\nL 214.804291 209.814097 \r\nL 215.414238 210.041371 \r\nL 216.634133 210.116207 \r\nL 217.854027 210.474833 \r\nL 219.073921 210.768499 \r\nL 219.683869 210.803928 \r\nL 220.293816 210.999552 \r\nL 221.51371 211.089755 \r\nL 222.733604 211.252913 \r\nL 223.953499 211.266503 \r\nL 225.78334 211.530369 \r\nL 226.393287 211.518101 \r\nL 227.613182 211.923809 \r\nL 228.833076 212.007717 \r\nL 229.443023 212.163418 \r\nL 230.05297 212.148307 \r\nL 231.272865 212.386954 \r\nL 231.882812 212.318 \r\nL 234.322601 212.539433 \r\nL 234.932548 212.502086 \r\nL 236.762389 212.665524 \r\nL 237.982284 212.740374 \r\nL 238.592231 212.71189 \r\nL 239.202178 212.897562 \r\nL 240.422072 213.046279 \r\nL 242.251914 213.229501 \r\nL 242.861861 213.180717 \r\nL 243.471808 213.276266 \r\nL 245.30165 213.29013 \r\nL 253.84091 213.691546 \r\nL 255.670751 213.747435 \r\nL 256.890646 213.852253 \r\nL 261.160276 213.948464 \r\nL 268.479642 214.130941 \r\nL 269.699536 214.154817 \r\nL 270.919431 214.209754 \r\nL 292.877529 214.55387 \r\nL 362.411506 214.746879 \r\nL 362.411506 214.746879 \r\n\" style=\"fill:none;stroke:#ff7f0e;stroke-linecap:square;stroke-width:1.5;\"/>\r\n   </g>\r\n   <g id=\"patch_3\">\r\n    <path d=\"M 42.829688 224.64 \r\nL 42.829688 7.2 \r\n\" style=\"fill:none;stroke:#000000;stroke-linecap:square;stroke-linejoin:miter;stroke-width:0.8;\"/>\r\n   </g>\r\n   <g id=\"patch_4\">\r\n    <path d=\"M 377.629688 224.64 \r\nL 377.629688 7.2 \r\n\" style=\"fill:none;stroke:#000000;stroke-linecap:square;stroke-linejoin:miter;stroke-width:0.8;\"/>\r\n   </g>\r\n   <g id=\"patch_5\">\r\n    <path d=\"M 42.829688 224.64 \r\nL 377.629688 224.64 \r\n\" style=\"fill:none;stroke:#000000;stroke-linecap:square;stroke-linejoin:miter;stroke-width:0.8;\"/>\r\n   </g>\r\n   <g id=\"patch_6\">\r\n    <path d=\"M 42.829688 7.2 \r\nL 377.629688 7.2 \r\n\" style=\"fill:none;stroke:#000000;stroke-linecap:square;stroke-linejoin:miter;stroke-width:0.8;\"/>\r\n   </g>\r\n   <g id=\"legend_1\">\r\n    <g id=\"line2d_14\">\r\n     <path d=\"M 304.595313 20.190625 \r\nL 324.595313 20.190625 \r\n\" style=\"fill:none;stroke:#1f77b4;stroke-linecap:square;stroke-width:1.5;\"/>\r\n    </g>\r\n    <g id=\"line2d_15\"/>\r\n    <g id=\"text_14\">\r\n     <!-- loss -->\r\n     <defs>\r\n      <path d=\"M 17.671875 0.984375 \r\nL 9.078125 0.984375 \r\nL 9.078125 74.90625 \r\nL 17.671875 74.90625 \r\nz\r\n\" id=\"IPAexGothic-108\"/>\r\n     </defs>\r\n     <g transform=\"translate(332.595313 23.690625)scale(0.1 -0.1)\">\r\n      <use xlink:href=\"#IPAexGothic-108\"/>\r\n      <use x=\"27.001953\" xlink:href=\"#IPAexGothic-111\"/>\r\n      <use x=\"87.402344\" xlink:href=\"#IPAexGothic-115\"/>\r\n      <use x=\"133.59375\" xlink:href=\"#IPAexGothic-115\"/>\r\n     </g>\r\n    </g>\r\n    <g id=\"line2d_16\">\r\n     <path d=\"M 304.595313 34.58125 \r\nL 324.595313 34.58125 \r\n\" style=\"fill:none;stroke:#ff7f0e;stroke-linecap:square;stroke-width:1.5;\"/>\r\n    </g>\r\n    <g id=\"line2d_17\"/>\r\n    <g id=\"text_15\">\r\n     <!-- val_loss -->\r\n     <defs>\r\n      <path d=\"M 48.484375 50.78125 \r\nL 27.296875 0.09375 \r\nL 21.484375 0.09375 \r\nL 0.390625 50.78125 \r\nL 9.8125 50.78125 \r\nL 20.90625 21.6875 \r\nL 23.78125 13.1875 \r\nL 24.515625 10.984375 \r\nL 24.8125 10.984375 \r\nQ 25.640625 13.8125 28.46875 21.6875 \r\nL 39.3125 50.78125 \r\nz\r\n\" id=\"IPAexGothic-118\"/>\r\n      <path d=\"M 49.3125 0.984375 \r\nL 41.75 0.984375 \r\nQ 39.984375 4.734375 39.546875 8.6875 \r\nL 39.203125 8.6875 \r\nQ 33.546875 -0.390625 22.3125 -0.390625 \r\nQ 14.59375 -0.390625 9.71875 4.5 \r\nQ 5.421875 8.796875 5.421875 14.984375 \r\nQ 5.421875 30.421875 32.03125 31.203125 \r\nL 38.71875 31.390625 \r\nL 38.71875 33.984375 \r\nQ 38.71875 39.203125 35.75 42.1875 \r\nQ 32.625 45.3125 27.734375 45.3125 \r\nQ 19.34375 45.3125 15.140625 37.15625 \r\nL 7.71875 40.578125 \r\nQ 14.65625 52 27.9375 52 \r\nQ 37.109375 52 42.046875 46.875 \r\nQ 46.625 42.28125 46.625 33.890625 \r\nL 46.625 15.578125 \r\nQ 46.625 6.25 49.3125 0.984375 \r\nz\r\nM 38.921875 25.390625 \r\nL 33.453125 25.296875 \r\nQ 14.109375 24.859375 14.109375 14.890625 \r\nQ 14.109375 11.375 16.40625 9.078125 \r\nQ 19.234375 6.296875 23.828125 6.296875 \r\nQ 30.21875 6.296875 34.90625 10.984375 \r\nQ 38.921875 15.140625 38.921875 21 \r\nz\r\n\" id=\"IPAexGothic-97\"/>\r\n      <path d=\"M 50 -11.71875 \r\nL 0 -11.71875 \r\nL 0 -6.734375 \r\nL 50 -6.734375 \r\nz\r\n\" id=\"IPAexGothic-95\"/>\r\n     </defs>\r\n     <g transform=\"translate(332.595313 38.08125)scale(0.1 -0.1)\">\r\n      <use xlink:href=\"#IPAexGothic-118\"/>\r\n      <use x=\"48.583984\" xlink:href=\"#IPAexGothic-97\"/>\r\n      <use x=\"103.564453\" xlink:href=\"#IPAexGothic-108\"/>\r\n      <use x=\"130.566406\" xlink:href=\"#IPAexGothic-95\"/>\r\n      <use x=\"180.566406\" xlink:href=\"#IPAexGothic-108\"/>\r\n      <use x=\"207.568359\" xlink:href=\"#IPAexGothic-111\"/>\r\n      <use x=\"267.96875\" xlink:href=\"#IPAexGothic-115\"/>\r\n      <use x=\"314.160156\" xlink:href=\"#IPAexGothic-115\"/>\r\n     </g>\r\n    </g>\r\n   </g>\r\n  </g>\r\n </g>\r\n <defs>\r\n  <clipPath id=\"p56c17bacec\">\r\n   <rect height=\"217.44\" width=\"334.8\" x=\"42.829688\" y=\"7.2\"/>\r\n  </clipPath>\r\n </defs>\r\n</svg>\r\n",
      "image/png": "[encoded data removed]"
     },
     "metadata": {
      "needs_background": "light"
     }
    }
   ],
   "source": [
    "# グラフ表示\n",
    "plt.plot(log.history['loss'], label='loss')\n",
    "plt.plot(log.history['val_loss'], label='val_loss')\n",
    "plt.legend(frameon=False) # 凡例の表示\n",
    "plt.xlabel(\"epochs\")\n",
    "plt.ylabel(\"crossentropy\")\n",
    "plt.show()"
   ]
  },
  {
   "cell_type": "code",
   "execution_count": 56,
   "metadata": {},
   "outputs": [
    {
     "output_type": "execute_result",
     "data": {
      "text/plain": [
       "array([[1.3484350e-16, 2.7959052e-04, 9.9972039e-01],\n",
       "       [2.4048607e-06, 9.9916506e-01, 8.3253224e-04],\n",
       "       [9.9999571e-01, 4.2690631e-06, 9.0751093e-15],\n",
       "       [2.2498728e-16, 2.4163786e-03, 9.9758363e-01],\n",
       "       [9.9994934e-01, 5.0656359e-05, 1.4394102e-12],\n",
       "       [5.0127797e-19, 4.8920774e-05, 9.9995112e-01],\n",
       "       [9.9996030e-01, 3.9641684e-05, 9.5331165e-13],\n",
       "       [8.5867953e-08, 9.9737060e-01, 2.6292065e-03],\n",
       "       [1.9111370e-08, 9.9068928e-01, 9.3106944e-03],\n",
       "       [6.4863998e-06, 9.9973661e-01, 2.5691779e-04]], dtype=float32)"
      ]
     },
     "metadata": {},
     "execution_count": 56
    }
   ],
   "source": [
    "# predictで予測を行う\n",
    "Y_pred = model.predict(X_test)\n",
    "\n",
    "# 二値分類は予測結果の確率が0.5以下なら0,\n",
    "# それより大きければ1となる計算で求める\n",
    "Y_pred_cls = (Y_pred > 0.5).astype(\"int32\")\n",
    "\n",
    "Y_pred[:10]"
   ]
  },
  {
   "cell_type": "code",
   "execution_count": 38,
   "metadata": {},
   "outputs": [],
   "source": [
    "# 形状を正解（目的変数）に合わせる\n",
    "Y_pred_ = Y_pred_cls.reshape(-1)"
   ]
  },
  {
   "cell_type": "code",
   "execution_count": 39,
   "metadata": {},
   "outputs": [
    {
     "output_type": "stream",
     "name": "stdout",
     "text": [
      "              precision    recall  f1-score   support\n\n           0       1.00      1.00      1.00        29\n           1       1.00      1.00      1.00        16\n\n    accuracy                           1.00        45\n   macro avg       1.00      1.00      1.00        45\nweighted avg       1.00      1.00      1.00        45\n\n"
     ]
    }
   ],
   "source": [
    "# モデルの評価\n",
    "from sklearn.metrics import classification_report\n",
    "\n",
    "print(classification_report(Y_test, Y_pred_))"
   ]
  },
  {
   "source": [
    "## ディープラーニングのモデルを作ってみよう！～多クラス分類モデル"
   ],
   "cell_type": "markdown",
   "metadata": {}
  },
  {
   "cell_type": "code",
   "execution_count": 40,
   "metadata": {},
   "outputs": [
    {
     "output_type": "execute_result",
     "data": {
      "text/plain": [
       "   sepal_length  sepal_width  petal_length  petal_width  is_setosa  species_0  \\\n",
       "0           5.1          3.5           1.4          0.2          1          1   \n",
       "1           4.9          3.0           1.4          0.2          1          1   \n",
       "2           4.7          3.2           1.3          0.2          1          1   \n",
       "3           4.6          3.1           1.5          0.2          1          1   \n",
       "4           5.0          3.6           1.4          0.2          1          1   \n",
       "\n",
       "   species_1  species_2  \n",
       "0          0          0  \n",
       "1          0          0  \n",
       "2          0          0  \n",
       "3          0          0  \n",
       "4          0          0  "
      ],
      "text/html": "<div>\n<style scoped>\n    .dataframe tbody tr th:only-of-type {\n        vertical-align: middle;\n    }\n\n    .dataframe tbody tr th {\n        vertical-align: top;\n    }\n\n    .dataframe thead th {\n        text-align: right;\n    }\n</style>\n<table border=\"1\" class=\"dataframe\">\n  <thead>\n    <tr style=\"text-align: right;\">\n      <th></th>\n      <th>sepal_length</th>\n      <th>sepal_width</th>\n      <th>petal_length</th>\n      <th>petal_width</th>\n      <th>is_setosa</th>\n      <th>species_0</th>\n      <th>species_1</th>\n      <th>species_2</th>\n    </tr>\n  </thead>\n  <tbody>\n    <tr>\n      <th>0</th>\n      <td>5.1</td>\n      <td>3.5</td>\n      <td>1.4</td>\n      <td>0.2</td>\n      <td>1</td>\n      <td>1</td>\n      <td>0</td>\n      <td>0</td>\n    </tr>\n    <tr>\n      <th>1</th>\n      <td>4.9</td>\n      <td>3.0</td>\n      <td>1.4</td>\n      <td>0.2</td>\n      <td>1</td>\n      <td>1</td>\n      <td>0</td>\n      <td>0</td>\n    </tr>\n    <tr>\n      <th>2</th>\n      <td>4.7</td>\n      <td>3.2</td>\n      <td>1.3</td>\n      <td>0.2</td>\n      <td>1</td>\n      <td>1</td>\n      <td>0</td>\n      <td>0</td>\n    </tr>\n    <tr>\n      <th>3</th>\n      <td>4.6</td>\n      <td>3.1</td>\n      <td>1.5</td>\n      <td>0.2</td>\n      <td>1</td>\n      <td>1</td>\n      <td>0</td>\n      <td>0</td>\n    </tr>\n    <tr>\n      <th>4</th>\n      <td>5.0</td>\n      <td>3.6</td>\n      <td>1.4</td>\n      <td>0.2</td>\n      <td>1</td>\n      <td>1</td>\n      <td>0</td>\n      <td>0</td>\n    </tr>\n  </tbody>\n</table>\n</div>"
     },
     "metadata": {},
     "execution_count": 40
    }
   ],
   "source": [
    "# 目的変数をカテゴリー変数に展開する\n",
    "dataset2 = pd.get_dummies(data=dataset, columns=['species'])\n",
    "dataset2.head()"
   ]
  },
  {
   "cell_type": "code",
   "execution_count": 41,
   "metadata": {},
   "outputs": [],
   "source": [
    "# Y:目的変数、X:説明変数\n",
    "Y = np.array(dataset2[['species_0', 'species_1', 'species_2']])\n",
    "X = np.array(dataset2[['sepal_length', 'sepal_width', 'petal_length', 'petal_width']])"
   ]
  },
  {
   "cell_type": "code",
   "execution_count": 42,
   "metadata": {},
   "outputs": [],
   "source": [
    "# データの分割\n",
    "X_train, X_test, Y_train, Y_test = train_test_split(X, Y, test_size=0.3, random_state=0)\n",
    "X_train, X_valid, Y_train, Y_valid = train_test_split(X_train, Y_train, test_size=0.3, random_state=0)"
   ]
  },
  {
   "cell_type": "code",
   "execution_count": 43,
   "metadata": {},
   "outputs": [],
   "source": [
    "# モデルの初期化\n",
    "model = keras.Sequential()\n",
    "\n",
    "# 入力層\n",
    "model.add(Dense(16, activation='relu', input_shape=(4,)))\n",
    "# 隠れ層\n",
    "model.add(Dense(16, activation='relu'))\n",
    "# 出力層\n",
    "model.add(Dense(3, activation='softmax'))\n",
    "\n",
    "# モデルの構築\n",
    "model.compile(optimizer = \"rmsprop\", loss='categorical_crossentropy', metrics=['accuracy'])"
   ]
  },
  {
   "cell_type": "code",
   "execution_count": 44,
   "metadata": {
    "tags": [
     "outputPrepend"
    ]
   },
   "outputs": [
    {
     "output_type": "stream",
     "name": "stdout",
     "text": [
      "[==============================] - 0s 220us/sample - loss: 0.0765 - acc: 0.9589 - val_loss: 0.0277 - val_acc: 1.0000\n",
      "Epoch 356/500\n",
      "73/73 [==============================] - 0s 179us/sample - loss: 0.0704 - acc: 0.9726 - val_loss: 0.0217 - val_acc: 1.0000\n",
      "Epoch 357/500\n",
      "73/73 [==============================] - 0s 275us/sample - loss: 0.0829 - acc: 0.9315 - val_loss: 0.0170 - val_acc: 1.0000\n",
      "Epoch 358/500\n",
      "73/73 [==============================] - 0s 220us/sample - loss: 0.0682 - acc: 0.9726 - val_loss: 0.0160 - val_acc: 1.0000\n",
      "Epoch 359/500\n",
      "73/73 [==============================] - 0s 275us/sample - loss: 0.0771 - acc: 0.9589 - val_loss: 0.0168 - val_acc: 1.0000\n",
      "Epoch 360/500\n",
      "73/73 [==============================] - 0s 206us/sample - loss: 0.0672 - acc: 0.9726 - val_loss: 0.0436 - val_acc: 0.9688\n",
      "Epoch 361/500\n",
      "73/73 [==============================] - 0s 275us/sample - loss: 0.0843 - acc: 0.9452 - val_loss: 0.0229 - val_acc: 1.0000\n",
      "Epoch 362/500\n",
      "73/73 [==============================] - 0s 192us/sample - loss: 0.0633 - acc: 0.9863 - val_loss: 0.0190 - val_acc: 1.0000\n",
      "Epoch 363/500\n",
      "73/73 [==============================] - 0s 247us/sample - loss: 0.0640 - acc: 0.9726 - val_loss: 0.0234 - val_acc: 1.0000\n",
      "Epoch 364/500\n",
      "73/73 [==============================] - 0s 206us/sample - loss: 0.0631 - acc: 0.9589 - val_loss: 0.0212 - val_acc: 1.0000\n",
      "Epoch 365/500\n",
      "73/73 [==============================] - 0s 151us/sample - loss: 0.0622 - acc: 0.9726 - val_loss: 0.0174 - val_acc: 1.0000\n",
      "Epoch 366/500\n",
      "73/73 [==============================] - 0s 165us/sample - loss: 0.0622 - acc: 0.9726 - val_loss: 0.0267 - val_acc: 1.0000\n",
      "Epoch 367/500\n",
      "73/73 [==============================] - 0s 247us/sample - loss: 0.0642 - acc: 0.9726 - val_loss: 0.0163 - val_acc: 1.0000\n",
      "Epoch 368/500\n",
      "73/73 [==============================] - 0s 179us/sample - loss: 0.0722 - acc: 0.9726 - val_loss: 0.0336 - val_acc: 1.0000\n",
      "Epoch 369/500\n",
      "73/73 [==============================] - 0s 179us/sample - loss: 0.0828 - acc: 0.9452 - val_loss: 0.0407 - val_acc: 0.9688\n",
      "Epoch 370/500\n",
      "73/73 [==============================] - 0s 330us/sample - loss: 0.0774 - acc: 0.9726 - val_loss: 0.0167 - val_acc: 1.0000\n",
      "Epoch 371/500\n",
      "73/73 [==============================] - 0s 192us/sample - loss: 0.0695 - acc: 0.9726 - val_loss: 0.0156 - val_acc: 1.0000\n",
      "Epoch 372/500\n",
      "73/73 [==============================] - 0s 330us/sample - loss: 0.0711 - acc: 0.9726 - val_loss: 0.0151 - val_acc: 1.0000\n",
      "Epoch 373/500\n",
      "73/73 [==============================] - 0s 165us/sample - loss: 0.0694 - acc: 0.9726 - val_loss: 0.0161 - val_acc: 1.0000\n",
      "Epoch 374/500\n",
      "73/73 [==============================] - 0s 481us/sample - loss: 0.0627 - acc: 0.9726 - val_loss: 0.0260 - val_acc: 1.0000\n",
      "Epoch 375/500\n",
      "73/73 [==============================] - 0s 179us/sample - loss: 0.0654 - acc: 0.9863 - val_loss: 0.0344 - val_acc: 1.0000\n",
      "Epoch 376/500\n",
      "73/73 [==============================] - 0s 192us/sample - loss: 0.0744 - acc: 0.9589 - val_loss: 0.0405 - val_acc: 0.9688\n",
      "Epoch 377/500\n",
      "73/73 [==============================] - 0s 192us/sample - loss: 0.0729 - acc: 0.9589 - val_loss: 0.0223 - val_acc: 1.0000\n",
      "Epoch 378/500\n",
      "73/73 [==============================] - 0s 165us/sample - loss: 0.0728 - acc: 0.9726 - val_loss: 0.0308 - val_acc: 1.0000\n",
      "Epoch 379/500\n",
      "73/73 [==============================] - 0s 165us/sample - loss: 0.0648 - acc: 0.9863 - val_loss: 0.0157 - val_acc: 1.0000\n",
      "Epoch 380/500\n",
      "73/73 [==============================] - 0s 275us/sample - loss: 0.0657 - acc: 0.9726 - val_loss: 0.0163 - val_acc: 1.0000\n",
      "Epoch 381/500\n",
      "73/73 [==============================] - 0s 261us/sample - loss: 0.0627 - acc: 0.9726 - val_loss: 0.0346 - val_acc: 1.0000\n",
      "Epoch 382/500\n",
      "73/73 [==============================] - 0s 247us/sample - loss: 0.0672 - acc: 0.9726 - val_loss: 0.0147 - val_acc: 1.0000\n",
      "Epoch 383/500\n",
      "73/73 [==============================] - 0s 288us/sample - loss: 0.0772 - acc: 0.9589 - val_loss: 0.0147 - val_acc: 1.0000\n",
      "Epoch 384/500\n",
      "73/73 [==============================] - 0s 178us/sample - loss: 0.0698 - acc: 0.9726 - val_loss: 0.0215 - val_acc: 1.0000\n",
      "Epoch 385/500\n",
      "73/73 [==============================] - 0s 330us/sample - loss: 0.0635 - acc: 0.9726 - val_loss: 0.0189 - val_acc: 1.0000\n",
      "Epoch 386/500\n",
      "73/73 [==============================] - 0s 178us/sample - loss: 0.0620 - acc: 0.9726 - val_loss: 0.0199 - val_acc: 1.0000\n",
      "Epoch 387/500\n",
      "73/73 [==============================] - 0s 192us/sample - loss: 0.0618 - acc: 0.9589 - val_loss: 0.0173 - val_acc: 1.0000\n",
      "Epoch 388/500\n",
      "73/73 [==============================] - 0s 316us/sample - loss: 0.0636 - acc: 0.9589 - val_loss: 0.0149 - val_acc: 1.0000\n",
      "Epoch 389/500\n",
      "73/73 [==============================] - 0s 137us/sample - loss: 0.0728 - acc: 0.9726 - val_loss: 0.0168 - val_acc: 1.0000\n",
      "Epoch 390/500\n",
      "73/73 [==============================] - 0s 302us/sample - loss: 0.0604 - acc: 0.9726 - val_loss: 0.0184 - val_acc: 1.0000\n",
      "Epoch 391/500\n",
      "73/73 [==============================] - 0s 233us/sample - loss: 0.0611 - acc: 0.9726 - val_loss: 0.0381 - val_acc: 0.9688\n",
      "Epoch 392/500\n",
      "73/73 [==============================] - 0s 206us/sample - loss: 0.0851 - acc: 0.9589 - val_loss: 0.0226 - val_acc: 1.0000\n",
      "Epoch 393/500\n",
      "73/73 [==============================] - 0s 233us/sample - loss: 0.0605 - acc: 1.0000 - val_loss: 0.0166 - val_acc: 1.0000\n",
      "Epoch 394/500\n",
      "73/73 [==============================] - 0s 220us/sample - loss: 0.0596 - acc: 0.9726 - val_loss: 0.0231 - val_acc: 1.0000\n",
      "Epoch 395/500\n",
      "73/73 [==============================] - 0s 288us/sample - loss: 0.0630 - acc: 0.9863 - val_loss: 0.0160 - val_acc: 1.0000\n",
      "Epoch 396/500\n",
      "73/73 [==============================] - 0s 522us/sample - loss: 0.0691 - acc: 0.9726 - val_loss: 0.0296 - val_acc: 1.0000\n",
      "Epoch 397/500\n",
      "73/73 [==============================] - 0s 233us/sample - loss: 0.0666 - acc: 0.9726 - val_loss: 0.0284 - val_acc: 1.0000\n",
      "Epoch 398/500\n",
      "73/73 [==============================] - 0s 151us/sample - loss: 0.0669 - acc: 0.9726 - val_loss: 0.0155 - val_acc: 1.0000\n",
      "Epoch 399/500\n",
      "73/73 [==============================] - 0s 247us/sample - loss: 0.0640 - acc: 0.9863 - val_loss: 0.0149 - val_acc: 1.0000\n",
      "Epoch 400/500\n",
      "73/73 [==============================] - 0s 234us/sample - loss: 0.0734 - acc: 0.9726 - val_loss: 0.0141 - val_acc: 1.0000\n",
      "Epoch 401/500\n",
      "73/73 [==============================] - 0s 206us/sample - loss: 0.0641 - acc: 0.9726 - val_loss: 0.0153 - val_acc: 1.0000\n",
      "Epoch 402/500\n",
      "73/73 [==============================] - 0s 151us/sample - loss: 0.0605 - acc: 0.9726 - val_loss: 0.0171 - val_acc: 1.0000\n",
      "Epoch 403/500\n",
      "73/73 [==============================] - 0s 440us/sample - loss: 0.0655 - acc: 0.9726 - val_loss: 0.0198 - val_acc: 1.0000\n",
      "Epoch 404/500\n",
      "73/73 [==============================] - 0s 165us/sample - loss: 0.0596 - acc: 0.9863 - val_loss: 0.0209 - val_acc: 1.0000\n",
      "Epoch 405/500\n",
      "73/73 [==============================] - 0s 288us/sample - loss: 0.0649 - acc: 0.9726 - val_loss: 0.0137 - val_acc: 1.0000\n",
      "Epoch 406/500\n",
      "73/73 [==============================] - 0s 261us/sample - loss: 0.0761 - acc: 0.9589 - val_loss: 0.0180 - val_acc: 1.0000\n",
      "Epoch 407/500\n",
      "73/73 [==============================] - 0s 385us/sample - loss: 0.0607 - acc: 0.9726 - val_loss: 0.0304 - val_acc: 1.0000\n",
      "Epoch 408/500\n",
      "73/73 [==============================] - 0s 192us/sample - loss: 0.0716 - acc: 0.9726 - val_loss: 0.0169 - val_acc: 1.0000\n",
      "Epoch 409/500\n",
      "73/73 [==============================] - 0s 165us/sample - loss: 0.0617 - acc: 0.9726 - val_loss: 0.0402 - val_acc: 0.9688\n",
      "Epoch 410/500\n",
      "73/73 [==============================] - 0s 275us/sample - loss: 0.0778 - acc: 0.9726 - val_loss: 0.0160 - val_acc: 1.0000\n",
      "Epoch 411/500\n",
      "73/73 [==============================] - 0s 559us/sample - loss: 0.0587 - acc: 0.9726 - val_loss: 0.0151 - val_acc: 1.0000\n",
      "Epoch 412/500\n",
      "73/73 [==============================] - 0s 302us/sample - loss: 0.0611 - acc: 0.9726 - val_loss: 0.0259 - val_acc: 1.0000\n",
      "Epoch 413/500\n",
      "73/73 [==============================] - 0s 261us/sample - loss: 0.0668 - acc: 0.9726 - val_loss: 0.0163 - val_acc: 1.0000\n",
      "Epoch 414/500\n",
      "73/73 [==============================] - 0s 179us/sample - loss: 0.0581 - acc: 0.9726 - val_loss: 0.0229 - val_acc: 1.0000\n",
      "Epoch 415/500\n",
      "73/73 [==============================] - 0s 179us/sample - loss: 0.0605 - acc: 0.9863 - val_loss: 0.0156 - val_acc: 1.0000\n",
      "Epoch 416/500\n",
      "73/73 [==============================] - 0s 192us/sample - loss: 0.0604 - acc: 0.9726 - val_loss: 0.0129 - val_acc: 1.0000\n",
      "Epoch 417/500\n",
      "73/73 [==============================] - 0s 275us/sample - loss: 0.0634 - acc: 0.9726 - val_loss: 0.0335 - val_acc: 1.0000\n",
      "Epoch 418/500\n",
      "73/73 [==============================] - 0s 192us/sample - loss: 0.0718 - acc: 0.9589 - val_loss: 0.0299 - val_acc: 1.0000\n",
      "Epoch 419/500\n",
      "73/73 [==============================] - 0s 398us/sample - loss: 0.0675 - acc: 0.9726 - val_loss: 0.0354 - val_acc: 0.9688\n",
      "Epoch 420/500\n",
      "73/73 [==============================] - 0s 192us/sample - loss: 0.0643 - acc: 0.9863 - val_loss: 0.0151 - val_acc: 1.0000\n",
      "Epoch 421/500\n",
      "73/73 [==============================] - 0s 151us/sample - loss: 0.0603 - acc: 0.9726 - val_loss: 0.0136 - val_acc: 1.0000\n",
      "Epoch 422/500\n",
      "73/73 [==============================] - 0s 398us/sample - loss: 0.0623 - acc: 0.9726 - val_loss: 0.0171 - val_acc: 1.0000\n",
      "Epoch 423/500\n",
      "73/73 [==============================] - 0s 179us/sample - loss: 0.0605 - acc: 0.9589 - val_loss: 0.0154 - val_acc: 1.0000\n",
      "Epoch 424/500\n",
      "73/73 [==============================] - 0s 179us/sample - loss: 0.0637 - acc: 0.9726 - val_loss: 0.0262 - val_acc: 1.0000\n",
      "Epoch 425/500\n",
      "73/73 [==============================] - 0s 206us/sample - loss: 0.0586 - acc: 0.9863 - val_loss: 0.0144 - val_acc: 1.0000\n",
      "Epoch 426/500\n",
      "73/73 [==============================] - 0s 151us/sample - loss: 0.0623 - acc: 0.9726 - val_loss: 0.0129 - val_acc: 1.0000\n",
      "Epoch 427/500\n",
      "73/73 [==============================] - 0s 179us/sample - loss: 0.0718 - acc: 0.9589 - val_loss: 0.0124 - val_acc: 1.0000\n",
      "Epoch 428/500\n",
      "73/73 [==============================] - 0s 275us/sample - loss: 0.0605 - acc: 0.9726 - val_loss: 0.0233 - val_acc: 1.0000\n",
      "Epoch 429/500\n",
      "73/73 [==============================] - 0s 192us/sample - loss: 0.0608 - acc: 0.9863 - val_loss: 0.0303 - val_acc: 1.0000\n",
      "Epoch 430/500\n",
      "73/73 [==============================] - 0s 261us/sample - loss: 0.0716 - acc: 0.9589 - val_loss: 0.0160 - val_acc: 1.0000\n",
      "Epoch 431/500\n",
      "73/73 [==============================] - 0s 192us/sample - loss: 0.0575 - acc: 0.9726 - val_loss: 0.0202 - val_acc: 1.0000\n",
      "Epoch 432/500\n",
      "73/73 [==============================] - 0s 137us/sample - loss: 0.0640 - acc: 0.9726 - val_loss: 0.0229 - val_acc: 1.0000\n",
      "Epoch 433/500\n",
      "73/73 [==============================] - 0s 385us/sample - loss: 0.0584 - acc: 0.9863 - val_loss: 0.0123 - val_acc: 1.0000\n",
      "Epoch 434/500\n",
      "73/73 [==============================] - 0s 220us/sample - loss: 0.0600 - acc: 0.9726 - val_loss: 0.0389 - val_acc: 0.9688\n",
      "Epoch 435/500\n",
      "73/73 [==============================] - 0s 192us/sample - loss: 0.0743 - acc: 0.9726 - val_loss: 0.0217 - val_acc: 1.0000\n",
      "Epoch 436/500\n",
      "73/73 [==============================] - 0s 220us/sample - loss: 0.0660 - acc: 0.9589 - val_loss: 0.0132 - val_acc: 1.0000\n",
      "Epoch 437/500\n",
      "73/73 [==============================] - 0s 206us/sample - loss: 0.0586 - acc: 0.9726 - val_loss: 0.0175 - val_acc: 1.0000\n",
      "Epoch 438/500\n",
      "73/73 [==============================] - 0s 151us/sample - loss: 0.0595 - acc: 0.9589 - val_loss: 0.0122 - val_acc: 1.0000\n",
      "Epoch 439/500\n",
      "73/73 [==============================] - 0s 151us/sample - loss: 0.0665 - acc: 0.9726 - val_loss: 0.0167 - val_acc: 1.0000\n",
      "Epoch 440/500\n",
      "73/73 [==============================] - 0s 275us/sample - loss: 0.0578 - acc: 0.9726 - val_loss: 0.0311 - val_acc: 1.0000\n",
      "Epoch 441/500\n",
      "73/73 [==============================] - 0s 192us/sample - loss: 0.0658 - acc: 0.9726 - val_loss: 0.0239 - val_acc: 1.0000\n",
      "Epoch 442/500\n",
      "73/73 [==============================] - 0s 234us/sample - loss: 0.0606 - acc: 0.9863 - val_loss: 0.0122 - val_acc: 1.0000\n",
      "Epoch 443/500\n",
      "73/73 [==============================] - 0s 206us/sample - loss: 0.0650 - acc: 0.9726 - val_loss: 0.0120 - val_acc: 1.0000\n",
      "Epoch 444/500\n",
      "73/73 [==============================] - 0s 137us/sample - loss: 0.0588 - acc: 0.9726 - val_loss: 0.0295 - val_acc: 1.0000\n",
      "Epoch 445/500\n",
      "73/73 [==============================] - 0s 302us/sample - loss: 0.0604 - acc: 0.9726 - val_loss: 0.0171 - val_acc: 1.0000\n",
      "Epoch 446/500\n",
      "73/73 [==============================] - 0s 261us/sample - loss: 0.0576 - acc: 0.9726 - val_loss: 0.0337 - val_acc: 1.0000\n",
      "Epoch 447/500\n",
      "73/73 [==============================] - 0s 220us/sample - loss: 0.0637 - acc: 0.9726 - val_loss: 0.0160 - val_acc: 1.0000\n",
      "Epoch 448/500\n",
      "73/73 [==============================] - 0s 247us/sample - loss: 0.0558 - acc: 0.9726 - val_loss: 0.0165 - val_acc: 1.0000\n",
      "Epoch 449/500\n",
      "73/73 [==============================] - 0s 124us/sample - loss: 0.0555 - acc: 0.9726 - val_loss: 0.0162 - val_acc: 1.0000\n",
      "Epoch 450/500\n",
      "73/73 [==============================] - 0s 165us/sample - loss: 0.0559 - acc: 0.9726 - val_loss: 0.0185 - val_acc: 1.0000\n",
      "Epoch 451/500\n",
      "73/73 [==============================] - 0s 206us/sample - loss: 0.0607 - acc: 0.9726 - val_loss: 0.0380 - val_acc: 0.9688\n",
      "Epoch 452/500\n",
      "73/73 [==============================] - 0s 206us/sample - loss: 0.0781 - acc: 0.9452 - val_loss: 0.0164 - val_acc: 1.0000\n",
      "Epoch 453/500\n",
      "73/73 [==============================] - 0s 206us/sample - loss: 0.0574 - acc: 0.9726 - val_loss: 0.0306 - val_acc: 1.0000\n",
      "Epoch 454/500\n",
      "73/73 [==============================] - 0s 206us/sample - loss: 0.0668 - acc: 0.9726 - val_loss: 0.0250 - val_acc: 1.0000\n",
      "Epoch 455/500\n",
      "73/73 [==============================] - 0s 192us/sample - loss: 0.0632 - acc: 0.9589 - val_loss: 0.0352 - val_acc: 0.9688\n",
      "Epoch 456/500\n",
      "73/73 [==============================] - 0s 247us/sample - loss: 0.0661 - acc: 0.9726 - val_loss: 0.0142 - val_acc: 1.0000\n",
      "Epoch 457/500\n",
      "73/73 [==============================] - 0s 192us/sample - loss: 0.0581 - acc: 0.9726 - val_loss: 0.0185 - val_acc: 1.0000\n",
      "Epoch 458/500\n",
      "73/73 [==============================] - 0s 220us/sample - loss: 0.0551 - acc: 0.9863 - val_loss: 0.0110 - val_acc: 1.0000\n",
      "Epoch 459/500\n",
      "73/73 [==============================] - 0s 165us/sample - loss: 0.0641 - acc: 0.9589 - val_loss: 0.0257 - val_acc: 1.0000\n",
      "Epoch 460/500\n",
      "73/73 [==============================] - 0s 179us/sample - loss: 0.0568 - acc: 0.9863 - val_loss: 0.0132 - val_acc: 1.0000\n",
      "Epoch 461/500\n",
      "73/73 [==============================] - 0s 137us/sample - loss: 0.0566 - acc: 0.9726 - val_loss: 0.0387 - val_acc: 0.9688\n",
      "Epoch 462/500\n",
      "73/73 [==============================] - 0s 206us/sample - loss: 0.0632 - acc: 0.9863 - val_loss: 0.0118 - val_acc: 1.0000\n",
      "Epoch 463/500\n",
      "73/73 [==============================] - 0s 165us/sample - loss: 0.0578 - acc: 0.9726 - val_loss: 0.0284 - val_acc: 1.0000\n",
      "Epoch 464/500\n",
      "73/73 [==============================] - 0s 220us/sample - loss: 0.0818 - acc: 0.9589 - val_loss: 0.0228 - val_acc: 1.0000\n",
      "Epoch 465/500\n",
      "73/73 [==============================] - 0s 179us/sample - loss: 0.0569 - acc: 0.9863 - val_loss: 0.0171 - val_acc: 1.0000\n",
      "Epoch 466/500\n",
      "73/73 [==============================] - 0s 233us/sample - loss: 0.0557 - acc: 1.0000 - val_loss: 0.0150 - val_acc: 1.0000\n",
      "Epoch 467/500\n",
      "73/73 [==============================] - 0s 179us/sample - loss: 0.0643 - acc: 0.9589 - val_loss: 0.0108 - val_acc: 1.0000\n",
      "Epoch 468/500\n",
      "73/73 [==============================] - 0s 192us/sample - loss: 0.0738 - acc: 0.9589 - val_loss: 0.0153 - val_acc: 1.0000\n",
      "Epoch 469/500\n",
      "73/73 [==============================] - 0s 206us/sample - loss: 0.0616 - acc: 0.9726 - val_loss: 0.0420 - val_acc: 0.9688\n",
      "Epoch 470/500\n",
      "73/73 [==============================] - 0s 179us/sample - loss: 0.0686 - acc: 0.9863 - val_loss: 0.0120 - val_acc: 1.0000\n",
      "Epoch 471/500\n",
      "73/73 [==============================] - 0s 179us/sample - loss: 0.0574 - acc: 0.9726 - val_loss: 0.0150 - val_acc: 1.0000\n",
      "Epoch 472/500\n",
      "73/73 [==============================] - 0s 137us/sample - loss: 0.0602 - acc: 0.9726 - val_loss: 0.0139 - val_acc: 1.0000\n",
      "Epoch 473/500\n",
      "73/73 [==============================] - 0s 192us/sample - loss: 0.0550 - acc: 0.9726 - val_loss: 0.0177 - val_acc: 1.0000\n",
      "Epoch 474/500\n",
      "73/73 [==============================] - 0s 151us/sample - loss: 0.0542 - acc: 0.9863 - val_loss: 0.0160 - val_acc: 1.0000\n",
      "Epoch 475/500\n",
      "73/73 [==============================] - 0s 179us/sample - loss: 0.0664 - acc: 0.9589 - val_loss: 0.0105 - val_acc: 1.0000\n",
      "Epoch 476/500\n",
      "73/73 [==============================] - 0s 728us/sample - loss: 0.0657 - acc: 0.9589 - val_loss: 0.0160 - val_acc: 1.0000\n",
      "Epoch 477/500\n",
      "73/73 [==============================] - 0s 220us/sample - loss: 0.0539 - acc: 0.9726 - val_loss: 0.0150 - val_acc: 1.0000\n",
      "Epoch 478/500\n",
      "73/73 [==============================] - 0s 563us/sample - loss: 0.0582 - acc: 0.9726 - val_loss: 0.0402 - val_acc: 0.9688\n",
      "Epoch 479/500\n",
      "73/73 [==============================] - 0s 192us/sample - loss: 0.0736 - acc: 0.9589 - val_loss: 0.0361 - val_acc: 0.9688\n",
      "Epoch 480/500\n",
      "73/73 [==============================] - 0s 151us/sample - loss: 0.0658 - acc: 0.9726 - val_loss: 0.0161 - val_acc: 1.0000\n",
      "Epoch 481/500\n",
      "73/73 [==============================] - 0s 275us/sample - loss: 0.0533 - acc: 0.9726 - val_loss: 0.0154 - val_acc: 1.0000\n",
      "Epoch 482/500\n",
      "73/73 [==============================] - 0s 192us/sample - loss: 0.0542 - acc: 0.9726 - val_loss: 0.0226 - val_acc: 1.0000\n",
      "Epoch 483/500\n",
      "73/73 [==============================] - 0s 206us/sample - loss: 0.0552 - acc: 0.9863 - val_loss: 0.0154 - val_acc: 1.0000\n",
      "Epoch 484/500\n",
      "73/73 [==============================] - 0s 234us/sample - loss: 0.0559 - acc: 0.9726 - val_loss: 0.0115 - val_acc: 1.0000\n",
      "Epoch 485/500\n",
      "73/73 [==============================] - 0s 220us/sample - loss: 0.0555 - acc: 0.9726 - val_loss: 0.0158 - val_acc: 1.0000\n",
      "Epoch 486/500\n",
      "73/73 [==============================] - 0s 165us/sample - loss: 0.0531 - acc: 0.9726 - val_loss: 0.0332 - val_acc: 0.9688\n",
      "Epoch 487/500\n",
      "73/73 [==============================] - 0s 247us/sample - loss: 0.0568 - acc: 0.9863 - val_loss: 0.0107 - val_acc: 1.0000\n",
      "Epoch 488/500\n",
      "73/73 [==============================] - 0s 192us/sample - loss: 0.0589 - acc: 0.9589 - val_loss: 0.0409 - val_acc: 0.9688\n",
      "Epoch 489/500\n",
      "73/73 [==============================] - 0s 302us/sample - loss: 0.0613 - acc: 0.9726 - val_loss: 0.0105 - val_acc: 1.0000\n",
      "Epoch 490/500\n",
      "73/73 [==============================] - 0s 275us/sample - loss: 0.0591 - acc: 0.9726 - val_loss: 0.0123 - val_acc: 1.0000\n",
      "Epoch 491/500\n",
      "73/73 [==============================] - 0s 234us/sample - loss: 0.0786 - acc: 0.9589 - val_loss: 0.0153 - val_acc: 1.0000\n",
      "Epoch 492/500\n",
      "73/73 [==============================] - 0s 206us/sample - loss: 0.0527 - acc: 0.9726 - val_loss: 0.0169 - val_acc: 1.0000\n",
      "Epoch 493/500\n",
      "73/73 [==============================] - 0s 220us/sample - loss: 0.0639 - acc: 0.9726 - val_loss: 0.0220 - val_acc: 1.0000\n",
      "Epoch 494/500\n",
      "73/73 [==============================] - 0s 247us/sample - loss: 0.0593 - acc: 0.9726 - val_loss: 0.0311 - val_acc: 1.0000\n",
      "Epoch 495/500\n",
      "73/73 [==============================] - 0s 165us/sample - loss: 0.0601 - acc: 0.9863 - val_loss: 0.0163 - val_acc: 1.0000\n",
      "Epoch 496/500\n",
      "73/73 [==============================] - 0s 316us/sample - loss: 0.0529 - acc: 0.9726 - val_loss: 0.0129 - val_acc: 1.0000\n",
      "Epoch 497/500\n",
      "73/73 [==============================] - 0s 192us/sample - loss: 0.0619 - acc: 0.9726 - val_loss: 0.0398 - val_acc: 0.9688\n",
      "Epoch 498/500\n",
      "73/73 [==============================] - 0s 137us/sample - loss: 0.0778 - acc: 0.9589 - val_loss: 0.0269 - val_acc: 1.0000\n",
      "Epoch 499/500\n",
      "73/73 [==============================] - 0s 151us/sample - loss: 0.0618 - acc: 0.9726 - val_loss: 0.0158 - val_acc: 1.0000\n",
      "Epoch 500/500\n",
      "73/73 [==============================] - 0s 220us/sample - loss: 0.0549 - acc: 0.9726 - val_loss: 0.0126 - val_acc: 1.0000\n",
      "Wall time: 15.7 s\n"
     ]
    }
   ],
   "source": [
    "%%time\n",
    "# 学習の実施\n",
    "log = model.fit(X_train, Y_train, epochs=500, batch_size=32, verbose=True,\n",
    "                callbacks=[keras.callbacks.EarlyStopping(monitor='val_loss',\n",
    "                                                         min_delta=0, patience=100,\n",
    "                                                         verbose=1)],\n",
    "         validation_data=(X_valid, Y_valid))"
   ]
  },
  {
   "cell_type": "code",
   "execution_count": 45,
   "metadata": {},
   "outputs": [
    {
     "output_type": "display_data",
     "data": {
      "text/plain": "<Figure size 432x288 with 1 Axes>",
      "image/svg+xml": "<?xml version=\"1.0\" encoding=\"utf-8\" standalone=\"no\"?>\r\n<!DOCTYPE svg PUBLIC \"-//W3C//DTD SVG 1.1//EN\"\r\n  \"http://www.w3.org/Graphics/SVG/1.1/DTD/svg11.dtd\">\r\n<!-- Created with matplotlib (https://matplotlib.org/) -->\r\n<svg height=\"261.62125pt\" version=\"1.1\" viewBox=\"0 0 384.829687 261.62125\" width=\"384.829687pt\" xmlns=\"http://www.w3.org/2000/svg\" xmlns:xlink=\"http://www.w3.org/1999/xlink\">\r\n <defs>\r\n  <style type=\"text/css\">\r\n*{stroke-linecap:butt;stroke-linejoin:round;white-space:pre;}\r\n  </style>\r\n </defs>\r\n <g id=\"figure_1\">\r\n  <g id=\"patch_1\">\r\n   <path d=\"M 0 261.62125 \r\nL 384.829687 261.62125 \r\nL 384.829687 0 \r\nL 0 0 \r\nz\r\n\" style=\"fill:none;\"/>\r\n  </g>\r\n  <g id=\"axes_1\">\r\n   <g id=\"patch_2\">\r\n    <path d=\"M 42.829688 224.64 \r\nL 377.629688 224.64 \r\nL 377.629688 7.2 \r\nL 42.829688 7.2 \r\nz\r\n\" style=\"fill:#ffffff;\"/>\r\n   </g>\r\n   <g id=\"matplotlib.axis_1\">\r\n    <g id=\"xtick_1\">\r\n     <g id=\"line2d_1\">\r\n      <defs>\r\n       <path d=\"M 0 0 \r\nL 0 3.5 \r\n\" id=\"m8adec81617\" style=\"stroke:#000000;stroke-width:0.8;\"/>\r\n      </defs>\r\n      <g>\r\n       <use style=\"stroke:#000000;stroke-width:0.8;\" x=\"58.047869\" xlink:href=\"#m8adec81617\" y=\"224.64\"/>\r\n      </g>\r\n     </g>\r\n     <g id=\"text_1\">\r\n      <!-- 0 -->\r\n      <defs>\r\n       <path d=\"M 31.84375 73.828125 \r\nQ 45.015625 73.828125 52.09375 61.625 \r\nQ 57.71875 51.953125 57.71875 36.625 \r\nQ 57.71875 21.4375 52.09375 11.578125 \r\nQ 45.125 -0.484375 31.5 -0.484375 \r\nQ 17.921875 -0.484375 10.9375 11.578125 \r\nQ 5.328125 21.4375 5.328125 36.71875 \r\nQ 5.328125 58.015625 15.625 67.71875 \r\nQ 22.171875 73.828125 31.84375 73.828125 \r\nz\r\nM 31.5 66.65625 \r\nQ 23.6875 66.65625 19.1875 58.734375 \r\nQ 14.59375 50.734375 14.59375 36.625 \r\nQ 14.59375 22.75 19.09375 14.796875 \r\nQ 23.640625 6.984375 31.5 6.984375 \r\nQ 40.921875 6.984375 45.453125 18.015625 \r\nQ 48.4375 25.34375 48.4375 37.109375 \r\nQ 48.4375 50.875 43.84375 58.734375 \r\nQ 39.203125 66.65625 31.5 66.65625 \r\nz\r\n\" id=\"IPAexGothic-48\"/>\r\n      </defs>\r\n      <g transform=\"translate(54.898651 239.130625)scale(0.1 -0.1)\">\r\n       <use xlink:href=\"#IPAexGothic-48\"/>\r\n      </g>\r\n     </g>\r\n    </g>\r\n    <g id=\"xtick_2\">\r\n     <g id=\"line2d_2\">\r\n      <g>\r\n       <use style=\"stroke:#000000;stroke-width:0.8;\" x=\"119.042586\" xlink:href=\"#m8adec81617\" y=\"224.64\"/>\r\n      </g>\r\n     </g>\r\n     <g id=\"text_2\">\r\n      <!-- 100 -->\r\n      <defs>\r\n       <path d=\"M 38.484375 0.984375 \r\nL 29.6875 0.984375 \r\nL 29.6875 64.109375 \r\nQ 21.4375 61.28125 12.3125 59.328125 \r\nL 10.6875 66.109375 \r\nQ 23.734375 69.390625 32.90625 73.921875 \r\nL 38.484375 73.921875 \r\nz\r\n\" id=\"IPAexGothic-49\"/>\r\n      </defs>\r\n      <g transform=\"translate(109.59493 239.130625)scale(0.1 -0.1)\">\r\n       <use xlink:href=\"#IPAexGothic-49\"/>\r\n       <use x=\"62.988281\" xlink:href=\"#IPAexGothic-48\"/>\r\n       <use x=\"125.976562\" xlink:href=\"#IPAexGothic-48\"/>\r\n      </g>\r\n     </g>\r\n    </g>\r\n    <g id=\"xtick_3\">\r\n     <g id=\"line2d_3\">\r\n      <g>\r\n       <use style=\"stroke:#000000;stroke-width:0.8;\" x=\"180.037303\" xlink:href=\"#m8adec81617\" y=\"224.64\"/>\r\n      </g>\r\n     </g>\r\n     <g id=\"text_3\">\r\n      <!-- 200 -->\r\n      <defs>\r\n       <path d=\"M 57.171875 0.984375 \r\nL 6.984375 0.984375 \r\nL 6.984375 9.28125 \r\nQ 12.890625 23.046875 29.59375 34.421875 \r\nL 32.375 36.28125 \r\nQ 40.921875 42.140625 43.609375 45.40625 \r\nQ 46.6875 49.265625 46.6875 53.8125 \r\nQ 46.6875 58.9375 43.0625 62.546875 \r\nQ 39.0625 66.546875 32.5625 66.546875 \r\nQ 19.53125 66.546875 15.484375 52 \r\nL 7.765625 54.78125 \r\nQ 13.328125 73.828125 33.0625 73.828125 \r\nQ 43.84375 73.828125 50.25 67.4375 \r\nQ 55.859375 61.671875 55.859375 53.515625 \r\nQ 55.859375 47.46875 52.25 42.53125 \r\nQ 48.921875 37.75 36.96875 30.28125 \r\nL 34.859375 29 \r\nQ 19.625 19.578125 15.28125 8.890625 \r\nL 57.171875 8.890625 \r\nz\r\n\" id=\"IPAexGothic-50\"/>\r\n      </defs>\r\n      <g transform=\"translate(170.589646 239.130625)scale(0.1 -0.1)\">\r\n       <use xlink:href=\"#IPAexGothic-50\"/>\r\n       <use x=\"62.988281\" xlink:href=\"#IPAexGothic-48\"/>\r\n       <use x=\"125.976562\" xlink:href=\"#IPAexGothic-48\"/>\r\n      </g>\r\n     </g>\r\n    </g>\r\n    <g id=\"xtick_4\">\r\n     <g id=\"line2d_4\">\r\n      <g>\r\n       <use style=\"stroke:#000000;stroke-width:0.8;\" x=\"241.032019\" xlink:href=\"#m8adec81617\" y=\"224.64\"/>\r\n      </g>\r\n     </g>\r\n     <g id=\"text_4\">\r\n      <!-- 300 -->\r\n      <defs>\r\n       <path d=\"M 37.203125 37.796875 \r\nQ 54.78125 34.625 54.78125 19.96875 \r\nQ 54.78125 11.1875 48.875 5.5625 \r\nQ 42.328125 -0.484375 30.375 -0.484375 \r\nQ 12.453125 -0.484375 4.5 13.765625 \r\nL 11.8125 17.671875 \r\nQ 17.328125 6.890625 30.28125 6.890625 \r\nQ 37.890625 6.890625 42.09375 10.796875 \r\nQ 46.09375 14.5 46.09375 20.171875 \r\nQ 46.09375 26.859375 40.09375 30.90625 \r\nQ 34.625 34.578125 25.6875 34.578125 \r\nL 21.296875 34.578125 \r\nL 21.296875 41.703125 \r\nL 25.875 41.703125 \r\nQ 34.859375 41.703125 39.59375 45.125 \r\nQ 44.671875 48.734375 44.671875 54.828125 \r\nQ 44.671875 61.46875 38.96875 64.65625 \r\nQ 35.296875 66.84375 30.171875 66.84375 \r\nQ 19.34375 66.84375 14.109375 55.90625 \r\nL 6.78125 59.421875 \r\nQ 14.015625 73.828125 30.28125 73.828125 \r\nQ 40.578125 73.828125 46.96875 68.65625 \r\nQ 53.375 63.578125 53.375 55.21875 \r\nQ 53.375 47.3125 47.171875 42.28125 \r\nQ 43.171875 39.0625 37.203125 38.1875 \r\nz\r\n\" id=\"IPAexGothic-51\"/>\r\n      </defs>\r\n      <g transform=\"translate(231.584363 239.130625)scale(0.1 -0.1)\">\r\n       <use xlink:href=\"#IPAexGothic-51\"/>\r\n       <use x=\"62.988281\" xlink:href=\"#IPAexGothic-48\"/>\r\n       <use x=\"125.976562\" xlink:href=\"#IPAexGothic-48\"/>\r\n      </g>\r\n     </g>\r\n    </g>\r\n    <g id=\"xtick_5\">\r\n     <g id=\"line2d_5\">\r\n      <g>\r\n       <use style=\"stroke:#000000;stroke-width:0.8;\" x=\"302.026736\" xlink:href=\"#m8adec81617\" y=\"224.64\"/>\r\n      </g>\r\n     </g>\r\n     <g id=\"text_5\">\r\n      <!-- 400 -->\r\n      <defs>\r\n       <path d=\"M 59.578125 18.109375 \r\nL 47.796875 18.109375 \r\nL 47.796875 0.984375 \r\nL 39.796875 0.984375 \r\nL 39.796875 18.109375 \r\nL 3.078125 18.109375 \r\nL 3.078125 26.125 \r\nL 38.375 73.09375 \r\nL 47.796875 73.09375 \r\nL 47.796875 25.53125 \r\nL 59.578125 25.53125 \r\nz\r\nM 40.28125 64.203125 \r\nL 39.984375 64.203125 \r\nQ 35.59375 57.125 31.296875 51.3125 \r\nL 11.859375 25.53125 \r\nL 39.796875 25.53125 \r\nL 39.796875 49.125 \r\nQ 39.796875 54.390625 40.28125 64.203125 \r\nz\r\n\" id=\"IPAexGothic-52\"/>\r\n      </defs>\r\n      <g transform=\"translate(292.57908 239.130625)scale(0.1 -0.1)\">\r\n       <use xlink:href=\"#IPAexGothic-52\"/>\r\n       <use x=\"62.988281\" xlink:href=\"#IPAexGothic-48\"/>\r\n       <use x=\"125.976562\" xlink:href=\"#IPAexGothic-48\"/>\r\n      </g>\r\n     </g>\r\n    </g>\r\n    <g id=\"xtick_6\">\r\n     <g id=\"line2d_6\">\r\n      <g>\r\n       <use style=\"stroke:#000000;stroke-width:0.8;\" x=\"363.021453\" xlink:href=\"#m8adec81617\" y=\"224.64\"/>\r\n      </g>\r\n     </g>\r\n     <g id=\"text_6\">\r\n      <!-- 500 -->\r\n      <defs>\r\n       <path d=\"M 18.40625 40.671875 \r\nQ 25.53125 46.296875 33.9375 46.296875 \r\nQ 44 46.296875 50.640625 39.5 \r\nQ 56.84375 33.015625 56.84375 23.390625 \r\nQ 56.84375 14.65625 51.515625 8.015625 \r\nQ 44.828125 -0.484375 31.734375 -0.484375 \r\nQ 14.984375 -0.484375 7.328125 12.25 \r\nL 14.65625 16.0625 \r\nQ 20.453125 6.78125 31.453125 6.78125 \r\nQ 38.53125 6.78125 43.265625 11.1875 \r\nQ 48.140625 15.828125 48.140625 23.484375 \r\nQ 48.140625 30.71875 43.84375 35.015625 \r\nQ 39.359375 39.5 32.125 39.5 \r\nQ 21.96875 39.5 16.75 31.6875 \r\nL 9.234375 32.671875 \r\nL 13.8125 72.40625 \r\nL 53.21875 72.40625 \r\nL 53.21875 64.890625 \r\nL 20.953125 64.890625 \r\nL 17.71875 40.671875 \r\nz\r\n\" id=\"IPAexGothic-53\"/>\r\n      </defs>\r\n      <g transform=\"translate(353.573797 239.130625)scale(0.1 -0.1)\">\r\n       <use xlink:href=\"#IPAexGothic-53\"/>\r\n       <use x=\"62.988281\" xlink:href=\"#IPAexGothic-48\"/>\r\n       <use x=\"125.976562\" xlink:href=\"#IPAexGothic-48\"/>\r\n      </g>\r\n     </g>\r\n    </g>\r\n    <g id=\"text_7\">\r\n     <!-- epochs -->\r\n     <defs>\r\n      <path d=\"M 13.484375 24.90625 \r\nQ 13.921875 16.265625 18.890625 11.28125 \r\nQ 23.96875 6.203125 31.203125 6.203125 \r\nQ 40.71875 6.203125 46.296875 15.09375 \r\nL 51.90625 11.375 \r\nQ 44.828125 -0.484375 30.171875 -0.484375 \r\nQ 19.09375 -0.484375 11.96875 6.59375 \r\nQ 4.78125 13.8125 4.78125 25.640625 \r\nQ 4.78125 38.1875 12.3125 45.703125 \r\nQ 19 52.390625 29 52.390625 \r\nQ 38.421875 52.390625 44.78125 46.1875 \r\nQ 51.90625 38.96875 51.90625 26.90625 \r\nL 51.90625 24.90625 \r\nz\r\nM 43.0625 31.203125 \r\nQ 42.328125 37.984375 38.28125 41.890625 \r\nQ 34.28125 45.90625 28.8125 45.90625 \r\nQ 22.46875 45.90625 17.96875 40.484375 \r\nQ 14.890625 36.8125 13.96875 31.203125 \r\nz\r\n\" id=\"IPAexGothic-101\"/>\r\n      <path d=\"M 16.796875 42 \r\nQ 23.828125 52.203125 34.46875 52.203125 \r\nQ 43.265625 52.203125 49.5625 45.90625 \r\nQ 56.890625 38.578125 56.890625 25.6875 \r\nQ 56.890625 13.140625 49.65625 5.8125 \r\nQ 43.359375 -0.484375 34.375 -0.484375 \r\nQ 24.515625 -0.484375 17.28125 7.765625 \r\nL 17.28125 -19 \r\nL 8.796875 -19 \r\nL 8.796875 50.78125 \r\nL 16.796875 50.78125 \r\nz\r\nM 17.28125 30.46875 \r\nL 17.28125 20.171875 \r\nQ 17.28125 14.015625 23.6875 9.375 \r\nQ 27.984375 6.296875 32.90625 6.296875 \r\nQ 38.578125 6.296875 42.578125 10.296875 \r\nQ 47.90625 15.578125 47.90625 25.484375 \r\nQ 47.90625 34.375 43.5 39.984375 \r\nQ 39.109375 45.3125 32.8125 45.3125 \r\nQ 25.875 45.3125 20.90625 38.8125 \r\nQ 17.28125 34.125 17.28125 30.46875 \r\nz\r\n\" id=\"IPAexGothic-112\"/>\r\n      <path d=\"M 29.984375 52.203125 \r\nQ 40.53125 52.203125 47.75 45.125 \r\nQ 55.171875 37.703125 55.171875 25.59375 \r\nQ 55.171875 13.875 47.90625 6.59375 \r\nQ 40.765625 -0.484375 29.984375 -0.484375 \r\nQ 19.1875 -0.484375 12.203125 6.5 \r\nQ 4.890625 13.765625 4.890625 25.875 \r\nQ 4.890625 37.703125 12.3125 45.125 \r\nQ 19.390625 52.203125 29.984375 52.203125 \r\nz\r\nM 29.984375 45.609375 \r\nQ 23.734375 45.609375 19.390625 41.109375 \r\nQ 13.875 35.59375 13.875 25.78125 \r\nQ 13.875 16.109375 19.28125 10.6875 \r\nQ 23.6875 6.296875 29.984375 6.296875 \r\nQ 36.421875 6.296875 40.765625 10.796875 \r\nQ 46.1875 16.21875 46.1875 26.125 \r\nQ 46.1875 35.453125 40.671875 41.109375 \r\nQ 36.1875 45.609375 29.984375 45.609375 \r\nz\r\n\" id=\"IPAexGothic-111\"/>\r\n      <path d=\"M 51.078125 12.25 \r\nQ 44.28125 -0.484375 29.6875 -0.484375 \r\nQ 19.1875 -0.484375 12.3125 6.390625 \r\nQ 4.890625 13.921875 4.890625 25.984375 \r\nQ 4.890625 37.9375 12.3125 45.515625 \r\nQ 19.09375 52.296875 29.390625 52.296875 \r\nQ 43.953125 52.296875 50.09375 39.703125 \r\nL 43.171875 36.078125 \r\nQ 38.8125 45.3125 29.6875 45.3125 \r\nQ 23.6875 45.3125 19.28125 40.921875 \r\nQ 13.765625 35.40625 13.765625 25.78125 \r\nQ 13.765625 16.703125 19.09375 11.375 \r\nQ 23.78125 6.6875 30.5625 6.6875 \r\nQ 39.796875 6.6875 44.484375 15.875 \r\nz\r\n\" id=\"IPAexGothic-99\"/>\r\n      <path d=\"M 52.296875 0.984375 \r\nL 43.703125 0.984375 \r\nL 43.703125 31.890625 \r\nQ 43.703125 44.578125 33.296875 44.578125 \r\nQ 22.609375 44.578125 17.671875 31.890625 \r\nL 17.671875 0.984375 \r\nL 9.078125 0.984375 \r\nL 9.078125 74.90625 \r\nL 17.671875 74.90625 \r\nL 17.671875 42.28125 \r\nQ 24.46875 51.8125 35.109375 51.8125 \r\nQ 52.296875 51.8125 52.296875 32.375 \r\nz\r\n\" id=\"IPAexGothic-104\"/>\r\n      <path d=\"M 34.90625 39.796875 \r\nQ 30.28125 45.796875 23.1875 45.796875 \r\nQ 13.921875 45.796875 13.921875 38.671875 \r\nQ 13.921875 33.640625 23.921875 30.375 \r\nL 27.203125 29.296875 \r\nQ 41.40625 24.65625 41.40625 13.96875 \r\nQ 41.40625 6.78125 35.5 2.6875 \r\nQ 30.8125 -0.484375 23.390625 -0.484375 \r\nQ 11.96875 -0.484375 4 7.859375 \r\nL 9.421875 12.796875 \r\nQ 15.578125 6.203125 23.6875 6.203125 \r\nQ 33.296875 6.203125 33.296875 13.671875 \r\nQ 33.296875 19.34375 22.703125 23.09375 \r\nL 19.28125 24.265625 \r\nQ 5.90625 28.953125 5.90625 37.984375 \r\nQ 5.90625 43.703125 9.8125 47.609375 \r\nQ 14.5 52.296875 22.703125 52.296875 \r\nQ 33.6875 52.296875 40.71875 44.671875 \r\nz\r\n\" id=\"IPAexGothic-115\"/>\r\n     </defs>\r\n     <g transform=\"translate(193.196094 252.52125)scale(0.1 -0.1)\">\r\n      <use xlink:href=\"#IPAexGothic-101\"/>\r\n      <use x=\"56.884766\" xlink:href=\"#IPAexGothic-112\"/>\r\n      <use x=\"118.994141\" xlink:href=\"#IPAexGothic-111\"/>\r\n      <use x=\"179.394531\" xlink:href=\"#IPAexGothic-99\"/>\r\n      <use x=\"233.789062\" xlink:href=\"#IPAexGothic-104\"/>\r\n      <use x=\"294.482422\" xlink:href=\"#IPAexGothic-115\"/>\r\n     </g>\r\n    </g>\r\n   </g>\r\n   <g id=\"matplotlib.axis_2\">\r\n    <g id=\"ytick_1\">\r\n     <g id=\"line2d_7\">\r\n      <defs>\r\n       <path d=\"M 0 0 \r\nL -3.5 0 \r\n\" id=\"m3e65702eb2\" style=\"stroke:#000000;stroke-width:0.8;\"/>\r\n      </defs>\r\n      <g>\r\n       <use style=\"stroke:#000000;stroke-width:0.8;\" x=\"42.829688\" xlink:href=\"#m3e65702eb2\" y=\"216.08857\"/>\r\n      </g>\r\n     </g>\r\n     <g id=\"text_8\">\r\n      <!-- 0.0 -->\r\n      <defs>\r\n       <path d=\"M 18.5 0.984375 \r\nL 7.71875 0.984375 \r\nL 7.71875 11.765625 \r\nL 18.5 11.765625 \r\nz\r\n\" id=\"IPAexGothic-46\"/>\r\n      </defs>\r\n      <g transform=\"translate(20.590625 219.833882)scale(0.1 -0.1)\">\r\n       <use xlink:href=\"#IPAexGothic-48\"/>\r\n       <use x=\"62.988281\" xlink:href=\"#IPAexGothic-46\"/>\r\n       <use x=\"89.404297\" xlink:href=\"#IPAexGothic-48\"/>\r\n      </g>\r\n     </g>\r\n    </g>\r\n    <g id=\"ytick_2\">\r\n     <g id=\"line2d_8\">\r\n      <g>\r\n       <use style=\"stroke:#000000;stroke-width:0.8;\" x=\"42.829688\" xlink:href=\"#m3e65702eb2\" y=\"190.614809\"/>\r\n      </g>\r\n     </g>\r\n     <g id=\"text_9\">\r\n      <!-- 0.2 -->\r\n      <g transform=\"translate(20.590625 194.360122)scale(0.1 -0.1)\">\r\n       <use xlink:href=\"#IPAexGothic-48\"/>\r\n       <use x=\"62.988281\" xlink:href=\"#IPAexGothic-46\"/>\r\n       <use x=\"89.404297\" xlink:href=\"#IPAexGothic-50\"/>\r\n      </g>\r\n     </g>\r\n    </g>\r\n    <g id=\"ytick_3\">\r\n     <g id=\"line2d_9\">\r\n      <g>\r\n       <use style=\"stroke:#000000;stroke-width:0.8;\" x=\"42.829688\" xlink:href=\"#m3e65702eb2\" y=\"165.141049\"/>\r\n      </g>\r\n     </g>\r\n     <g id=\"text_10\">\r\n      <!-- 0.4 -->\r\n      <g transform=\"translate(20.590625 168.886361)scale(0.1 -0.1)\">\r\n       <use xlink:href=\"#IPAexGothic-48\"/>\r\n       <use x=\"62.988281\" xlink:href=\"#IPAexGothic-46\"/>\r\n       <use x=\"89.404297\" xlink:href=\"#IPAexGothic-52\"/>\r\n      </g>\r\n     </g>\r\n    </g>\r\n    <g id=\"ytick_4\">\r\n     <g id=\"line2d_10\">\r\n      <g>\r\n       <use style=\"stroke:#000000;stroke-width:0.8;\" x=\"42.829688\" xlink:href=\"#m3e65702eb2\" y=\"139.667289\"/>\r\n      </g>\r\n     </g>\r\n     <g id=\"text_11\">\r\n      <!-- 0.6 -->\r\n      <defs>\r\n       <path d=\"M 16.5 36.375 \r\nQ 23.578125 46.578125 34.90625 46.578125 \r\nQ 45.40625 46.578125 51.8125 39.265625 \r\nQ 57.421875 32.90625 57.421875 23.78125 \r\nQ 57.421875 13.8125 51.125 6.78125 \r\nQ 44.578125 -0.484375 34.03125 -0.484375 \r\nQ 21.484375 -0.484375 14.40625 9.078125 \r\nQ 7.515625 18.40625 7.515625 34.8125 \r\nQ 7.515625 53.515625 15.828125 64.203125 \r\nQ 23.34375 73.828125 35.5 73.828125 \r\nQ 49.859375 73.828125 56.390625 62.890625 \r\nL 49.21875 58.984375 \r\nQ 45.21875 66.65625 35.9375 66.65625 \r\nQ 17.484375 66.65625 16.109375 36.375 \r\nz\r\nM 33.453125 39.796875 \r\nQ 26.3125 39.796875 21.625 34.46875 \r\nQ 17.4375 29.6875 17.4375 24.078125 \r\nQ 17.4375 18.0625 21.140625 13.1875 \r\nQ 26.125 6.6875 33.734375 6.6875 \r\nQ 41.703125 6.6875 45.953125 13.1875 \r\nQ 48.828125 17.625 48.828125 23.484375 \r\nQ 48.828125 30.375 45.015625 34.8125 \r\nQ 40.625 39.796875 33.453125 39.796875 \r\nz\r\n\" id=\"IPAexGothic-54\"/>\r\n      </defs>\r\n      <g transform=\"translate(20.590625 143.412601)scale(0.1 -0.1)\">\r\n       <use xlink:href=\"#IPAexGothic-48\"/>\r\n       <use x=\"62.988281\" xlink:href=\"#IPAexGothic-46\"/>\r\n       <use x=\"89.404297\" xlink:href=\"#IPAexGothic-54\"/>\r\n      </g>\r\n     </g>\r\n    </g>\r\n    <g id=\"ytick_5\">\r\n     <g id=\"line2d_11\">\r\n      <g>\r\n       <use style=\"stroke:#000000;stroke-width:0.8;\" x=\"42.829688\" xlink:href=\"#m3e65702eb2\" y=\"114.193528\"/>\r\n      </g>\r\n     </g>\r\n     <g id=\"text_12\">\r\n      <!-- 0.8 -->\r\n      <defs>\r\n       <path d=\"M 39.703125 37.890625 \r\nQ 57.8125 31.734375 57.8125 18.703125 \r\nQ 57.8125 8.453125 48.4375 3.078125 \r\nQ 41.609375 -0.875 31.5 -0.875 \r\nQ 21.34375 -0.875 14.5 3.078125 \r\nQ 5.421875 8.296875 5.421875 18.40625 \r\nQ 5.421875 31.0625 22.015625 37.203125 \r\nL 22.015625 37.5 \r\nQ 7.515625 42.71875 7.515625 54.828125 \r\nQ 7.515625 64.0625 15.328125 69.625 \r\nQ 21.96875 74.3125 31.546875 74.3125 \r\nQ 42.234375 74.3125 48.921875 68.796875 \r\nQ 55.515625 63.578125 55.515625 55.71875 \r\nQ 55.515625 42.28125 39.703125 38.1875 \r\nz\r\nM 31.59375 41.015625 \r\nQ 46.828125 44.625 46.828125 55.125 \r\nQ 46.828125 61.1875 41.796875 64.84375 \r\nQ 37.703125 67.921875 31.5 67.921875 \r\nQ 25.09375 67.921875 20.796875 64.5 \r\nQ 16.40625 60.890625 16.40625 55.03125 \r\nQ 16.40625 49.21875 21.09375 45.703125 \r\nQ 23.34375 43.890625 26.90625 42.53125 \r\nQ 31 40.875 31.59375 41.015625 \r\nz\r\nM 30.90625 34.515625 \r\nQ 14.40625 30.171875 14.40625 19 \r\nQ 14.40625 12.109375 20.515625 8.6875 \r\nQ 25.09375 6.109375 31.390625 6.109375 \r\nQ 40.234375 6.109375 45.015625 10.890625 \r\nQ 48.53125 14.40625 48.53125 19.53125 \r\nQ 48.53125 24.90625 43.65625 28.90625 \r\nQ 40.765625 31.15625 36.71875 32.8125 \r\nQ 31.984375 34.71875 30.90625 34.515625 \r\nz\r\n\" id=\"IPAexGothic-56\"/>\r\n      </defs>\r\n      <g transform=\"translate(20.590625 117.938841)scale(0.1 -0.1)\">\r\n       <use xlink:href=\"#IPAexGothic-48\"/>\r\n       <use x=\"62.988281\" xlink:href=\"#IPAexGothic-46\"/>\r\n       <use x=\"89.404297\" xlink:href=\"#IPAexGothic-56\"/>\r\n      </g>\r\n     </g>\r\n    </g>\r\n    <g id=\"ytick_6\">\r\n     <g id=\"line2d_12\">\r\n      <g>\r\n       <use style=\"stroke:#000000;stroke-width:0.8;\" x=\"42.829688\" xlink:href=\"#m3e65702eb2\" y=\"88.719768\"/>\r\n      </g>\r\n     </g>\r\n     <g id=\"text_13\">\r\n      <!-- 1.0 -->\r\n      <g transform=\"translate(20.590625 92.46508)scale(0.1 -0.1)\">\r\n       <use xlink:href=\"#IPAexGothic-49\"/>\r\n       <use x=\"62.988281\" xlink:href=\"#IPAexGothic-46\"/>\r\n       <use x=\"89.404297\" xlink:href=\"#IPAexGothic-48\"/>\r\n      </g>\r\n     </g>\r\n    </g>\r\n    <g id=\"ytick_7\">\r\n     <g id=\"line2d_13\">\r\n      <g>\r\n       <use style=\"stroke:#000000;stroke-width:0.8;\" x=\"42.829688\" xlink:href=\"#m3e65702eb2\" y=\"63.246007\"/>\r\n      </g>\r\n     </g>\r\n     <g id=\"text_14\">\r\n      <!-- 1.2 -->\r\n      <g transform=\"translate(20.590625 66.99132)scale(0.1 -0.1)\">\r\n       <use xlink:href=\"#IPAexGothic-49\"/>\r\n       <use x=\"62.988281\" xlink:href=\"#IPAexGothic-46\"/>\r\n       <use x=\"89.404297\" xlink:href=\"#IPAexGothic-50\"/>\r\n      </g>\r\n     </g>\r\n    </g>\r\n    <g id=\"ytick_8\">\r\n     <g id=\"line2d_14\">\r\n      <g>\r\n       <use style=\"stroke:#000000;stroke-width:0.8;\" x=\"42.829688\" xlink:href=\"#m3e65702eb2\" y=\"37.772247\"/>\r\n      </g>\r\n     </g>\r\n     <g id=\"text_15\">\r\n      <!-- 1.4 -->\r\n      <g transform=\"translate(20.590625 41.517559)scale(0.1 -0.1)\">\r\n       <use xlink:href=\"#IPAexGothic-49\"/>\r\n       <use x=\"62.988281\" xlink:href=\"#IPAexGothic-46\"/>\r\n       <use x=\"89.404297\" xlink:href=\"#IPAexGothic-52\"/>\r\n      </g>\r\n     </g>\r\n    </g>\r\n    <g id=\"ytick_9\">\r\n     <g id=\"line2d_15\">\r\n      <g>\r\n       <use style=\"stroke:#000000;stroke-width:0.8;\" x=\"42.829688\" xlink:href=\"#m3e65702eb2\" y=\"12.298487\"/>\r\n      </g>\r\n     </g>\r\n     <g id=\"text_16\">\r\n      <!-- 1.6 -->\r\n      <g transform=\"translate(20.590625 16.043799)scale(0.1 -0.1)\">\r\n       <use xlink:href=\"#IPAexGothic-49\"/>\r\n       <use x=\"62.988281\" xlink:href=\"#IPAexGothic-46\"/>\r\n       <use x=\"89.404297\" xlink:href=\"#IPAexGothic-54\"/>\r\n      </g>\r\n     </g>\r\n    </g>\r\n    <g id=\"text_17\">\r\n     <!-- crossentropy -->\r\n     <defs>\r\n      <path d=\"M 36.078125 51.8125 \r\nL 34.578125 43.265625 \r\nQ 32.90625 43.609375 31.59375 43.609375 \r\nQ 25.828125 43.609375 22.078125 38.1875 \r\nQ 17.390625 31.34375 17.390625 26.171875 \r\nL 17.390625 0.984375 \r\nL 8.796875 0.984375 \r\nL 8.796875 50.78125 \r\nL 16.890625 50.78125 \r\nL 16.5 35.984375 \r\nL 16.703125 35.984375 \r\nQ 22.21875 52.203125 32.765625 52.203125 \r\nQ 34.46875 52.203125 36.078125 51.8125 \r\nz\r\n\" id=\"IPAexGothic-114\"/>\r\n      <path d=\"M 52 0.984375 \r\nL 43.40625 0.984375 \r\nL 43.40625 31.890625 \r\nQ 43.40625 44.578125 32.90625 44.578125 \r\nQ 22.3125 44.578125 17.390625 31.890625 \r\nL 17.390625 0.984375 \r\nL 8.796875 0.984375 \r\nL 8.796875 50.78125 \r\nL 16.796875 50.78125 \r\nL 16.796875 41.796875 \r\nQ 23.828125 51.8125 34.71875 51.8125 \r\nQ 52 51.8125 52 32.375 \r\nz\r\n\" id=\"IPAexGothic-110\"/>\r\n      <path d=\"M 33.203125 3.765625 \r\nQ 27.640625 -0.09375 21.828125 -0.09375 \r\nQ 10.203125 -0.09375 10.203125 12.984375 \r\nL 10.203125 44.671875 \r\nL 3.421875 44.671875 \r\nL 3.421875 50.78125 \r\nL 10.203125 50.78125 \r\nL 10.203125 61.96875 \r\nL 18.40625 66.0625 \r\nL 18.40625 50.78125 \r\nL 32.234375 50.78125 \r\nL 32.234375 44.671875 \r\nL 18.40625 44.671875 \r\nL 18.40625 14.15625 \r\nQ 18.40625 6.5 23.640625 6.5 \r\nQ 27.15625 6.5 30.328125 9.1875 \r\nz\r\n\" id=\"IPAexGothic-116\"/>\r\n      <path d=\"M 48.78125 50.78125 \r\nL 24.609375 -7.625 \r\nQ 19.96875 -18.796875 8.59375 -18.796875 \r\nL 7.46875 -18.796875 \r\nL 5.375 -10.984375 \r\nL 6.984375 -10.984375 \r\nQ 15.140625 -10.984375 17.96875 -3.71875 \r\nL 21.1875 4.296875 \r\nL 0.59375 50.78125 \r\nL 10.296875 50.78125 \r\nL 21.296875 22.796875 \r\nQ 23.875 16.015625 25.09375 12.203125 \r\nL 25.390625 12.203125 \r\nQ 27.34375 18.265625 29.109375 22.796875 \r\nL 39.5 50.78125 \r\nz\r\n\" id=\"IPAexGothic-121\"/>\r\n     </defs>\r\n     <g transform=\"translate(14.690625 146.162969)rotate(-90)scale(0.1 -0.1)\">\r\n      <use xlink:href=\"#IPAexGothic-99\"/>\r\n      <use x=\"54.394531\" xlink:href=\"#IPAexGothic-114\"/>\r\n      <use x=\"91.40625\" xlink:href=\"#IPAexGothic-111\"/>\r\n      <use x=\"151.806641\" xlink:href=\"#IPAexGothic-115\"/>\r\n      <use x=\"197.998047\" xlink:href=\"#IPAexGothic-115\"/>\r\n      <use x=\"244.189453\" xlink:href=\"#IPAexGothic-101\"/>\r\n      <use x=\"301.074219\" xlink:href=\"#IPAexGothic-110\"/>\r\n      <use x=\"361.474609\" xlink:href=\"#IPAexGothic-116\"/>\r\n      <use x=\"396.09375\" xlink:href=\"#IPAexGothic-114\"/>\r\n      <use x=\"433.105469\" xlink:href=\"#IPAexGothic-111\"/>\r\n      <use x=\"493.505859\" xlink:href=\"#IPAexGothic-112\"/>\r\n      <use x=\"555.615234\" xlink:href=\"#IPAexGothic-121\"/>\r\n     </g>\r\n    </g>\r\n   </g>\r\n   <g id=\"line2d_16\">\r\n    <path clip-path=\"url(#p6608c7fc68)\" d=\"M 58.047869 17.083636 \r\nL 58.657816 51.274742 \r\nL 59.267764 73.948936 \r\nL 59.877711 87.010866 \r\nL 60.487658 95.376869 \r\nL 61.097605 101.812922 \r\nL 62.927447 111.168243 \r\nL 63.537394 115.372174 \r\nL 64.147341 118.371595 \r\nL 65.977182 125.317499 \r\nL 66.58713 126.180618 \r\nL 67.197077 129.628912 \r\nL 67.807024 129.348469 \r\nL 68.416971 133.866428 \r\nL 69.026918 136.42794 \r\nL 69.636865 138.499245 \r\nL 70.246813 139.908261 \r\nL 70.85676 142.039996 \r\nL 72.076654 145.256816 \r\nL 72.686601 148.122417 \r\nL 73.296548 149.810754 \r\nL 73.906496 151.02536 \r\nL 74.516443 153.327602 \r\nL 75.12639 153.636641 \r\nL 75.736337 154.938444 \r\nL 76.956231 159.282009 \r\nL 77.566179 159.663118 \r\nL 78.176126 161.908894 \r\nL 78.786073 162.239363 \r\nL 79.39602 163.431168 \r\nL 80.005967 164.053699 \r\nL 80.615914 165.073657 \r\nL 81.225862 165.736664 \r\nL 82.445756 168.590732 \r\nL 83.055703 169.51665 \r\nL 83.66565 168.688141 \r\nL 84.275598 171.054685 \r\nL 84.885545 171.388346 \r\nL 85.495492 172.631181 \r\nL 86.105439 172.692383 \r\nL 86.715386 171.613371 \r\nL 87.325333 172.222074 \r\nL 87.935281 175.261926 \r\nL 88.545228 175.1367 \r\nL 89.155175 175.82789 \r\nL 89.765122 175.775509 \r\nL 90.375069 176.658866 \r\nL 90.985016 178.018066 \r\nL 91.594964 177.346198 \r\nL 92.204911 179.041898 \r\nL 92.814858 178.780049 \r\nL 93.424805 180.363134 \r\nL 94.034752 180.071071 \r\nL 94.644699 181.358835 \r\nL 95.254647 181.796808 \r\nL 95.864594 182.72856 \r\nL 96.474541 182.365678 \r\nL 97.084488 182.80364 \r\nL 97.694435 183.912605 \r\nL 98.304382 184.488151 \r\nL 98.91433 184.242774 \r\nL 99.524277 184.415754 \r\nL 100.134224 183.216017 \r\nL 100.744171 185.94997 \r\nL 101.354118 185.001703 \r\nL 102.574013 187.334966 \r\nL 103.18396 187.484229 \r\nL 103.793907 186.396223 \r\nL 104.403854 188.119962 \r\nL 105.013801 187.254108 \r\nL 105.623748 188.392581 \r\nL 106.233696 187.748042 \r\nL 106.843643 189.815386 \r\nL 107.45359 189.629118 \r\nL 108.063537 190.265875 \r\nL 108.673484 190.268231 \r\nL 109.283431 189.401679 \r\nL 109.893379 191.23209 \r\nL 110.503326 191.24297 \r\nL 111.113273 190.007528 \r\nL 111.72322 191.067384 \r\nL 112.333167 188.926981 \r\nL 112.943114 191.444968 \r\nL 113.553062 192.78664 \r\nL 114.163009 192.63563 \r\nL 114.772956 192.629642 \r\nL 115.382903 193.051786 \r\nL 115.99285 193.648006 \r\nL 116.602797 193.389073 \r\nL 117.822692 194.560178 \r\nL 118.432639 194.065637 \r\nL 119.042586 194.852999 \r\nL 119.652533 194.410546 \r\nL 120.26248 195.553376 \r\nL 120.872428 195.585161 \r\nL 121.482375 196.214436 \r\nL 122.092322 196.079788 \r\nL 122.702269 196.41508 \r\nL 123.312216 195.197994 \r\nL 123.922163 196.534198 \r\nL 124.532111 197.424517 \r\nL 125.142058 194.747438 \r\nL 125.752005 197.768336 \r\nL 126.361952 195.556652 \r\nL 126.971899 197.333649 \r\nL 127.581846 198.231213 \r\nL 128.191794 197.73942 \r\nL 128.801741 197.666174 \r\nL 129.411688 197.295941 \r\nL 130.021635 197.641174 \r\nL 130.631582 196.989557 \r\nL 131.241529 198.425691 \r\nL 131.851477 198.125107 \r\nL 132.461424 199.080809 \r\nL 133.071371 198.65504 \r\nL 134.291265 199.332478 \r\nL 135.51116 199.017901 \r\nL 136.731054 199.777413 \r\nL 137.341001 200.169582 \r\nL 137.950948 199.715645 \r\nL 138.560895 197.853374 \r\nL 139.170843 199.887174 \r\nL 139.78079 199.221434 \r\nL 141.000684 200.529094 \r\nL 141.610631 200.155245 \r\nL 142.220578 200.81285 \r\nL 142.830526 200.998472 \r\nL 143.440473 200.939788 \r\nL 144.05042 201.149155 \r\nL 144.660367 200.447428 \r\nL 145.270314 201.05276 \r\nL 145.880261 200.104419 \r\nL 146.490209 200.753102 \r\nL 147.100156 199.188685 \r\nL 147.710103 200.921604 \r\nL 148.32005 201.428275 \r\nL 148.929997 201.593355 \r\nL 149.539944 201.632861 \r\nL 150.149892 202.070731 \r\nL 150.759839 201.904026 \r\nL 151.369786 201.509577 \r\nL 151.979733 200.617671 \r\nL 152.58968 202.240876 \r\nL 153.199627 200.665285 \r\nL 153.809575 199.897269 \r\nL 154.419522 200.761717 \r\nL 155.029469 201.177223 \r\nL 155.639416 202.369701 \r\nL 156.249363 202.703086 \r\nL 156.85931 202.61064 \r\nL 157.469258 202.851184 \r\nL 158.079205 202.822261 \r\nL 158.689152 201.867531 \r\nL 159.299099 202.168413 \r\nL 159.909046 201.756045 \r\nL 160.518993 201.966548 \r\nL 161.128941 202.73103 \r\nL 161.738888 201.866782 \r\nL 162.348835 203.312504 \r\nL 163.568729 203.069701 \r\nL 164.178676 201.815589 \r\nL 164.788624 199.754153 \r\nL 165.398571 203.43691 \r\nL 166.008518 203.385435 \r\nL 166.618465 200.49652 \r\nL 167.228412 203.607473 \r\nL 168.448307 203.686333 \r\nL 169.058254 203.700779 \r\nL 169.668201 202.498456 \r\nL 170.278148 203.889092 \r\nL 170.888095 202.939467 \r\nL 171.498042 203.742539 \r\nL 172.10799 202.39408 \r\nL 172.717937 203.727829 \r\nL 173.327884 203.633387 \r\nL 173.937831 204.199836 \r\nL 174.547778 203.756034 \r\nL 175.157725 201.788236 \r\nL 175.767673 204.308544 \r\nL 176.987567 202.530312 \r\nL 178.207461 204.516162 \r\nL 178.817408 204.231286 \r\nL 179.427356 202.505142 \r\nL 180.037303 204.590525 \r\nL 180.64725 204.382866 \r\nL 181.257197 204.617487 \r\nL 181.867144 203.208639 \r\nL 183.087039 204.720377 \r\nL 183.696986 204.318242 \r\nL 184.306933 204.460127 \r\nL 184.91688 203.407537 \r\nL 185.526827 204.965019 \r\nL 186.136774 205.043212 \r\nL 186.746722 204.85412 \r\nL 187.356669 205.121537 \r\nL 187.966616 203.153307 \r\nL 188.576563 204.058792 \r\nL 189.18651 204.703639 \r\nL 189.796457 204.710847 \r\nL 190.406405 204.962096 \r\nL 191.016352 205.084318 \r\nL 191.626299 204.15471 \r\nL 192.236246 205.037682 \r\nL 192.846193 204.267192 \r\nL 193.45614 205.333063 \r\nL 194.066088 202.802641 \r\nL 194.676035 201.485476 \r\nL 195.285982 205.460748 \r\nL 195.895929 205.414629 \r\nL 196.505876 205.151591 \r\nL 197.115823 203.30498 \r\nL 197.725771 204.662858 \r\nL 198.335718 205.30502 \r\nL 198.945665 204.937764 \r\nL 199.555612 204.055385 \r\nL 200.165559 205.153363 \r\nL 200.775506 205.301032 \r\nL 201.995401 205.251735 \r\nL 202.605348 205.754976 \r\nL 203.215295 205.329907 \r\nL 203.825242 205.829462 \r\nL 204.435189 205.202747 \r\nL 205.045137 204.800278 \r\nL 205.655084 205.104772 \r\nL 206.265031 205.852253 \r\nL 206.874978 204.811828 \r\nL 207.484925 206.093184 \r\nL 208.094872 205.423168 \r\nL 208.70482 203.457148 \r\nL 209.314767 206.020033 \r\nL 210.534661 204.743213 \r\nL 211.144608 204.520641 \r\nL 211.754555 205.436098 \r\nL 212.364503 204.845459 \r\nL 212.97445 205.166491 \r\nL 213.584397 205.883356 \r\nL 214.194344 205.804811 \r\nL 214.804291 206.218048 \r\nL 215.414238 205.955946 \r\nL 216.024186 205.480858 \r\nL 216.634133 205.750752 \r\nL 217.24408 205.744736 \r\nL 217.854027 204.937599 \r\nL 218.463974 205.489967 \r\nL 219.073921 205.509051 \r\nL 219.683869 206.253759 \r\nL 220.293816 206.260693 \r\nL 220.903763 206.149385 \r\nL 221.51371 206.440229 \r\nL 222.123657 205.949423 \r\nL 222.733604 204.49965 \r\nL 223.343552 206.507757 \r\nL 223.953499 206.423581 \r\nL 224.563446 205.537543 \r\nL 225.78334 206.082316 \r\nL 226.393287 205.913377 \r\nL 227.003235 206.501936 \r\nL 227.613182 206.525066 \r\nL 228.833076 206.258776 \r\nL 229.443023 203.759809 \r\nL 230.05297 206.42658 \r\nL 230.662918 206.05017 \r\nL 231.272865 206.242952 \r\nL 231.882812 206.961569 \r\nL 233.102706 206.924216 \r\nL 233.712653 206.223281 \r\nL 234.322601 205.141612 \r\nL 234.932548 204.470217 \r\nL 235.542495 205.964942 \r\nL 236.152442 205.606667 \r\nL 236.762389 207.002563 \r\nL 237.372336 205.912914 \r\nL 237.982284 207.12836 \r\nL 238.592231 207.151327 \r\nL 239.202178 205.914668 \r\nL 239.812125 205.402707 \r\nL 240.422072 207.215226 \r\nL 241.032019 206.120305 \r\nL 241.641967 207.123421 \r\nL 242.251914 206.889226 \r\nL 242.861861 207.212366 \r\nL 243.471808 204.863359 \r\nL 244.081755 207.215255 \r\nL 244.691702 206.995279 \r\nL 245.30165 207.290231 \r\nL 245.911597 206.416351 \r\nL 246.521544 206.522051 \r\nL 247.131491 204.996415 \r\nL 248.351385 207.206144 \r\nL 248.961333 206.732395 \r\nL 249.57128 207.417681 \r\nL 250.181227 207.163302 \r\nL 250.791174 206.212345 \r\nL 251.401121 207.413127 \r\nL 252.011068 206.218948 \r\nL 252.621016 206.592805 \r\nL 253.230963 207.156116 \r\nL 253.84091 205.718503 \r\nL 254.450857 206.1109 \r\nL 255.060804 207.038983 \r\nL 255.670751 207.493704 \r\nL 256.280699 207.206869 \r\nL 256.890646 205.753176 \r\nL 257.500593 207.331012 \r\nL 258.11054 205.69419 \r\nL 258.720487 206.445649 \r\nL 259.330434 207.531422 \r\nL 259.940382 207.56564 \r\nL 260.550329 206.327188 \r\nL 261.160276 206.849997 \r\nL 261.770223 207.094565 \r\nL 262.38017 207.580947 \r\nL 263.600065 206.185656 \r\nL 264.210012 207.795551 \r\nL 264.819959 207.523122 \r\nL 265.429906 205.462328 \r\nL 266.039853 207.496977 \r\nL 266.6498 206.684635 \r\nL 267.869695 207.605763 \r\nL 268.479642 207.633947 \r\nL 269.089589 206.792496 \r\nL 269.699536 207.444721 \r\nL 270.309483 206.764904 \r\nL 271.529378 206.769157 \r\nL 272.139325 207.822492 \r\nL 272.749272 207.670835 \r\nL 273.359219 208.012259 \r\nL 273.969166 206.343623 \r\nL 274.579114 207.125968 \r\nL 275.189061 205.525353 \r\nL 275.799008 207.406098 \r\nL 276.408955 206.266714 \r\nL 277.018902 207.531089 \r\nL 277.628849 205.351119 \r\nL 278.238797 208.030101 \r\nL 278.848744 207.930816 \r\nL 280.068638 208.164442 \r\nL 280.678585 208.16265 \r\nL 281.288532 207.907552 \r\nL 281.89848 206.897809 \r\nL 282.508427 205.547297 \r\nL 283.118374 206.234063 \r\nL 283.728321 207.241461 \r\nL 284.338268 207.037769 \r\nL 284.948215 207.247497 \r\nL 285.558163 208.096728 \r\nL 286.16811 207.757468 \r\nL 286.778057 206.612918 \r\nL 287.388004 206.801675 \r\nL 287.997951 206.820046 \r\nL 288.607898 207.839609 \r\nL 289.217846 207.717575 \r\nL 289.827793 208.103958 \r\nL 290.43774 207.526459 \r\nL 291.047687 206.260646 \r\nL 292.267581 207.996221 \r\nL 292.877529 208.195842 \r\nL 293.487476 208.211166 \r\nL 294.097423 207.98817 \r\nL 294.70737 206.810676 \r\nL 295.317317 208.399682 \r\nL 295.927264 208.311162 \r\nL 296.537212 205.251218 \r\nL 297.147159 208.380208 \r\nL 297.757106 208.493025 \r\nL 298.367053 208.067811 \r\nL 298.977 207.2886 \r\nL 299.586947 207.610344 \r\nL 300.196895 207.56917 \r\nL 300.806842 207.935059 \r\nL 301.416789 206.738814 \r\nL 302.026736 207.93018 \r\nL 302.636683 208.38785 \r\nL 303.24663 207.752074 \r\nL 303.856578 208.49697 \r\nL 304.466525 207.816906 \r\nL 305.076472 206.395355 \r\nL 305.686419 208.35561 \r\nL 306.296366 206.967277 \r\nL 306.906313 208.226638 \r\nL 307.516261 206.17929 \r\nL 308.126208 208.612735 \r\nL 308.736155 208.306845 \r\nL 309.346102 207.579574 \r\nL 309.956049 208.688167 \r\nL 310.565996 208.385772 \r\nL 311.175944 208.399948 \r\nL 311.785891 208.014251 \r\nL 312.395838 206.943404 \r\nL 313.005785 207.494536 \r\nL 314.225679 208.402402 \r\nL 314.835627 208.152786 \r\nL 315.445574 208.388765 \r\nL 316.055521 207.971061 \r\nL 316.665468 208.628391 \r\nL 317.275415 208.156989 \r\nL 317.885362 206.940644 \r\nL 318.49531 208.381981 \r\nL 319.105257 208.343738 \r\nL 319.715204 206.974725 \r\nL 320.325151 208.770495 \r\nL 320.935098 207.930864 \r\nL 321.545045 208.64506 \r\nL 322.154993 208.452195 \r\nL 322.76494 206.631215 \r\nL 323.984834 208.626943 \r\nL 324.594781 208.50815 \r\nL 325.204728 207.613849 \r\nL 325.814676 208.725222 \r\nL 326.424623 207.70895 \r\nL 327.03457 208.368282 \r\nL 327.644517 207.815536 \r\nL 328.254464 208.594183 \r\nL 328.864411 208.395175 \r\nL 329.474359 208.747169 \r\nL 330.084306 207.97016 \r\nL 330.694253 208.982279 \r\nL 331.914147 208.97463 \r\nL 332.524094 208.360225 \r\nL 333.134042 206.136782 \r\nL 333.743989 208.782285 \r\nL 334.353936 207.581123 \r\nL 334.963883 208.032583 \r\nL 335.57383 207.673447 \r\nL 336.183777 208.69208 \r\nL 336.793725 209.066851 \r\nL 337.403672 207.918335 \r\nL 338.013619 208.851131 \r\nL 338.623566 208.881031 \r\nL 339.233513 208.034157 \r\nL 339.843461 208.731932 \r\nL 340.453408 205.668211 \r\nL 341.063355 208.839441 \r\nL 341.673302 208.997422 \r\nL 342.893196 206.689243 \r\nL 343.503144 208.246422 \r\nL 344.113091 207.352266 \r\nL 344.723038 208.774972 \r\nL 345.332985 208.416419 \r\nL 345.942932 209.07825 \r\nL 346.552879 209.190947 \r\nL 347.162827 207.626328 \r\nL 347.772774 207.717361 \r\nL 348.382721 209.226409 \r\nL 348.992668 208.679395 \r\nL 349.602615 206.708506 \r\nL 350.212562 207.710526 \r\nL 350.82251 209.305558 \r\nL 352.652351 208.968468 \r\nL 353.262298 209.019697 \r\nL 353.872245 209.322542 \r\nL 354.482193 208.859707 \r\nL 355.702087 208.280797 \r\nL 356.312034 208.563095 \r\nL 356.921981 206.08198 \r\nL 357.531928 209.376804 \r\nL 358.141876 207.955403 \r\nL 358.751823 208.532477 \r\nL 359.36177 208.435383 \r\nL 359.971717 209.34624 \r\nL 360.581664 208.20176 \r\nL 361.191611 206.183362 \r\nL 361.801559 208.211527 \r\nL 362.411506 209.090103 \r\nL 362.411506 209.090103 \r\n\" style=\"fill:none;stroke:#1f77b4;stroke-linecap:square;stroke-width:1.5;\"/>\r\n   </g>\r\n   <g id=\"line2d_17\">\r\n    <path clip-path=\"url(#p6608c7fc68)\" d=\"M 58.047869 75.309449 \r\nL 58.657816 93.72081 \r\nL 59.267764 100.336318 \r\nL 59.877711 105.086459 \r\nL 61.707552 110.411997 \r\nL 62.927447 117.343224 \r\nL 63.537394 118.602274 \r\nL 64.147341 123.774275 \r\nL 64.757288 124.501521 \r\nL 65.367235 128.03165 \r\nL 66.58713 133.692318 \r\nL 67.807024 137.953337 \r\nL 69.026918 144.298494 \r\nL 69.636865 145.86618 \r\nL 70.246813 146.333317 \r\nL 70.85676 150.310487 \r\nL 71.466707 149.67066 \r\nL 72.076654 154.368798 \r\nL 72.686601 155.061061 \r\nL 73.906496 160.025518 \r\nL 74.516443 160.832926 \r\nL 75.12639 163.118915 \r\nL 75.736337 164.17153 \r\nL 76.346284 165.800792 \r\nL 76.956231 165.738745 \r\nL 77.566179 167.787084 \r\nL 78.176126 167.868836 \r\nL 78.786073 170.107646 \r\nL 79.39602 170.860401 \r\nL 80.005967 172.165408 \r\nL 80.615914 172.151469 \r\nL 81.225862 173.316077 \r\nL 81.835809 173.304003 \r\nL 82.445756 175.848207 \r\nL 83.055703 173.245424 \r\nL 83.66565 177.678515 \r\nL 84.885545 179.24311 \r\nL 85.495492 179.655981 \r\nL 86.105439 176.636225 \r\nL 86.715386 178.513454 \r\nL 87.325333 181.915536 \r\nL 87.935281 182.140582 \r\nL 88.545228 183.800535 \r\nL 89.155175 184.093596 \r\nL 89.765122 184.91171 \r\nL 90.375069 184.827882 \r\nL 90.985016 185.30954 \r\nL 91.594964 186.320918 \r\nL 92.204911 186.0151 \r\nL 92.814858 187.459091 \r\nL 93.424805 186.818655 \r\nL 94.034752 188.178239 \r\nL 94.644699 187.953498 \r\nL 95.254647 188.359424 \r\nL 95.864594 189.104991 \r\nL 96.474541 190.392805 \r\nL 97.084488 190.368205 \r\nL 97.694435 191.085956 \r\nL 98.304382 192.023379 \r\nL 98.91433 190.943922 \r\nL 99.524277 193.060022 \r\nL 100.134224 192.945872 \r\nL 100.744171 190.674839 \r\nL 101.354118 192.557428 \r\nL 101.964065 193.937599 \r\nL 102.574013 193.111944 \r\nL 103.18396 195.132082 \r\nL 103.793907 195.230253 \r\nL 104.403854 194.443421 \r\nL 105.013801 195.3474 \r\nL 105.623748 192.492472 \r\nL 106.233696 196.41635 \r\nL 106.843643 196.883958 \r\nL 107.45359 196.455224 \r\nL 108.063537 196.780564 \r\nL 108.673484 195.230895 \r\nL 109.283431 197.740243 \r\nL 110.503326 198.051775 \r\nL 111.113273 198.512809 \r\nL 111.72322 198.796526 \r\nL 112.333167 198.373716 \r\nL 112.943114 199.570661 \r\nL 113.553062 199.643937 \r\nL 114.163009 199.847212 \r\nL 114.772956 199.732186 \r\nL 115.382903 200.433931 \r\nL 115.99285 200.224885 \r\nL 116.602797 200.697675 \r\nL 117.212745 200.805953 \r\nL 117.822692 201.400992 \r\nL 118.432639 200.366034 \r\nL 119.042586 201.731562 \r\nL 119.652533 201.762918 \r\nL 120.26248 202.378713 \r\nL 120.872428 202.322802 \r\nL 121.482375 202.590395 \r\nL 122.092322 201.739965 \r\nL 122.702269 203.408211 \r\nL 123.312216 203.140042 \r\nL 123.922163 204.043197 \r\nL 124.532111 200.054491 \r\nL 125.142058 203.576629 \r\nL 126.361952 204.160171 \r\nL 126.971899 204.754509 \r\nL 127.581846 204.451087 \r\nL 128.191794 204.832998 \r\nL 128.801741 204.77554 \r\nL 129.411688 204.989343 \r\nL 130.021635 201.463852 \r\nL 130.631582 205.435986 \r\nL 131.241529 203.618769 \r\nL 131.851477 205.174517 \r\nL 133.071371 205.86987 \r\nL 133.681318 206.024865 \r\nL 134.291265 206.061055 \r\nL 135.51116 206.359899 \r\nL 136.121107 205.761123 \r\nL 136.731054 206.510413 \r\nL 137.341001 206.701762 \r\nL 137.950948 204.86299 \r\nL 138.560895 206.050119 \r\nL 139.170843 206.412653 \r\nL 139.78079 207.093375 \r\nL 141.000684 207.326774 \r\nL 141.610631 207.328502 \r\nL 142.220578 207.523255 \r\nL 142.830526 206.133606 \r\nL 143.440473 207.733813 \r\nL 144.05042 206.943451 \r\nL 144.660367 207.922822 \r\nL 145.880261 207.307154 \r\nL 146.490209 205.594032 \r\nL 147.100156 206.324655 \r\nL 147.710103 207.73574 \r\nL 148.32005 207.355399 \r\nL 148.929997 207.186136 \r\nL 149.539944 208.472333 \r\nL 150.149892 207.034058 \r\nL 150.759839 208.711537 \r\nL 151.369786 208.161625 \r\nL 151.979733 208.385235 \r\nL 152.58968 207.107205 \r\nL 153.199627 205.380715 \r\nL 154.419522 206.834154 \r\nL 155.029469 208.948239 \r\nL 155.639416 208.985306 \r\nL 156.249363 209.287844 \r\nL 156.85931 209.29481 \r\nL 157.469258 208.818118 \r\nL 158.689152 209.367102 \r\nL 159.299099 206.746712 \r\nL 159.909046 209.098681 \r\nL 160.518993 209.695408 \r\nL 161.128941 206.589684 \r\nL 161.738888 209.52696 \r\nL 162.348835 209.843574 \r\nL 162.958782 208.784372 \r\nL 163.568729 208.992874 \r\nL 164.178676 206.322421 \r\nL 164.788624 209.699295 \r\nL 165.398571 209.827643 \r\nL 166.008518 209.080435 \r\nL 166.618465 210.088131 \r\nL 167.228412 210.053414 \r\nL 167.838359 210.251513 \r\nL 168.448307 209.898073 \r\nL 169.058254 209.806956 \r\nL 169.668201 210.212186 \r\nL 170.278148 209.996266 \r\nL 170.888095 210.074188 \r\nL 171.498042 209.923813 \r\nL 172.10799 210.550091 \r\nL 172.717937 210.568142 \r\nL 173.327884 210.435151 \r\nL 173.937831 210.752021 \r\nL 174.547778 209.758893 \r\nL 175.157725 210.194357 \r\nL 175.767673 210.845318 \r\nL 176.37762 206.903176 \r\nL 176.987567 210.752089 \r\nL 177.597514 210.870766 \r\nL 178.207461 210.424368 \r\nL 178.817408 209.166255 \r\nL 179.427356 210.692725 \r\nL 180.037303 211.066873 \r\nL 180.64725 210.755909 \r\nL 181.257197 210.765034 \r\nL 181.867144 210.942316 \r\nL 182.477091 210.10943 \r\nL 183.087039 211.27301 \r\nL 183.696986 211.222903 \r\nL 184.306933 207.813871 \r\nL 184.91688 210.87598 \r\nL 185.526827 211.072645 \r\nL 186.136774 211.420773 \r\nL 186.746722 211.141397 \r\nL 187.356669 211.490551 \r\nL 187.966616 211.531957 \r\nL 188.576563 208.937833 \r\nL 189.18651 211.457933 \r\nL 189.796457 210.459233 \r\nL 190.406405 210.175694 \r\nL 191.016352 211.739221 \r\nL 191.626299 210.949348 \r\nL 192.236246 208.616273 \r\nL 192.846193 211.729111 \r\nL 193.45614 208.62016 \r\nL 194.066088 207.917756 \r\nL 194.676035 211.460344 \r\nL 195.285982 211.76915 \r\nL 195.895929 211.666467 \r\nL 196.505876 211.353 \r\nL 197.115823 211.926354 \r\nL 197.725771 211.885559 \r\nL 198.945665 209.355098 \r\nL 199.555612 210.338542 \r\nL 200.165559 211.094671 \r\nL 200.775506 212.14355 \r\nL 201.385454 212.146822 \r\nL 201.995401 212.019012 \r\nL 202.605348 212.14787 \r\nL 203.215295 212.139288 \r\nL 203.825242 211.921032 \r\nL 205.045137 209.968161 \r\nL 205.655084 212.316777 \r\nL 206.265031 209.269354 \r\nL 206.874978 211.989353 \r\nL 207.484925 211.82871 \r\nL 208.094872 211.785285 \r\nL 208.70482 212.285032 \r\nL 209.314767 212.451822 \r\nL 209.924714 212.247432 \r\nL 210.534661 212.248808 \r\nL 211.144608 212.546031 \r\nL 211.754555 212.448276 \r\nL 212.97445 212.597384 \r\nL 213.584397 210.885276 \r\nL 214.194344 211.88402 \r\nL 214.804291 212.641839 \r\nL 215.414238 210.608719 \r\nL 216.024186 210.820132 \r\nL 216.634133 212.612422 \r\nL 217.24408 211.877411 \r\nL 217.854027 209.90771 \r\nL 218.463974 211.841994 \r\nL 219.073921 211.575343 \r\nL 219.683869 212.228166 \r\nL 220.293816 212.264901 \r\nL 220.903763 212.016163 \r\nL 221.51371 211.03997 \r\nL 222.123657 210.997109 \r\nL 222.733604 212.269444 \r\nL 223.343552 211.122801 \r\nL 223.953499 212.924867 \r\nL 224.563446 212.357948 \r\nL 225.173393 212.917117 \r\nL 225.78334 210.943564 \r\nL 226.393287 211.806421 \r\nL 227.003235 213.012938 \r\nL 227.613182 212.782346 \r\nL 228.223129 213.0455 \r\nL 228.833076 212.691303 \r\nL 229.443023 212.090854 \r\nL 230.05297 213.11038 \r\nL 230.662918 213.099668 \r\nL 231.272865 212.50228 \r\nL 232.492759 212.650562 \r\nL 233.102706 212.666659 \r\nL 233.712653 213.084776 \r\nL 234.322601 213.089458 \r\nL 234.932548 213.285297 \r\nL 236.152442 213.099391 \r\nL 236.762389 213.324802 \r\nL 237.372336 213.014687 \r\nL 237.982284 212.352133 \r\nL 238.592231 213.190923 \r\nL 239.202178 212.998681 \r\nL 239.812125 213.232833 \r\nL 240.422072 211.508919 \r\nL 241.032019 213.364109 \r\nL 241.641967 211.637643 \r\nL 242.251914 213.425748 \r\nL 242.861861 211.407342 \r\nL 243.471808 213.389722 \r\nL 244.081755 212.379096 \r\nL 244.691702 213.06931 \r\nL 245.30165 213.534819 \r\nL 245.911597 210.430538 \r\nL 246.521544 213.569751 \r\nL 247.131491 211.605937 \r\nL 247.741438 213.505247 \r\nL 248.351385 211.289315 \r\nL 248.961333 213.258032 \r\nL 249.57128 213.580358 \r\nL 250.181227 211.656315 \r\nL 250.791174 212.996861 \r\nL 251.401121 211.317629 \r\nL 252.011068 213.495697 \r\nL 252.621016 213.207465 \r\nL 253.84091 213.672248 \r\nL 254.450857 213.68769 \r\nL 255.060804 212.804847 \r\nL 255.670751 212.261754 \r\nL 256.280699 213.18827 \r\nL 256.890646 212.257408 \r\nL 257.500593 213.64602 \r\nL 258.11054 213.662258 \r\nL 258.720487 213.372727 \r\nL 259.330434 213.701646 \r\nL 259.940382 211.265005 \r\nL 260.550329 213.705503 \r\nL 261.160276 213.812896 \r\nL 261.770223 212.486879 \r\nL 262.38017 213.436921 \r\nL 262.990117 211.57428 \r\nL 263.600065 213.564685 \r\nL 264.210012 213.791652 \r\nL 264.819959 210.349315 \r\nL 265.429906 212.902777 \r\nL 266.039853 211.521143 \r\nL 266.6498 211.444173 \r\nL 267.259748 213.874732 \r\nL 267.869695 213.430073 \r\nL 268.479642 211.430623 \r\nL 269.089589 212.861314 \r\nL 269.699536 211.688644 \r\nL 270.309483 213.415239 \r\nL 270.919431 213.968575 \r\nL 271.529378 213.089999 \r\nL 272.139325 213.948388 \r\nL 272.749272 213.481683 \r\nL 273.359219 213.899505 \r\nL 273.969166 212.561777 \r\nL 274.579114 213.330328 \r\nL 275.189061 213.918234 \r\nL 275.799008 214.047722 \r\nL 276.408955 213.950481 \r\nL 277.018902 210.529022 \r\nL 277.628849 213.178171 \r\nL 278.238797 213.672513 \r\nL 278.848744 213.111161 \r\nL 279.458691 213.39092 \r\nL 280.068638 213.873542 \r\nL 280.678585 212.692565 \r\nL 281.288532 214.012232 \r\nL 281.89848 211.812495 \r\nL 282.508427 210.899254 \r\nL 283.118374 213.958777 \r\nL 284.338268 214.160755 \r\nL 284.948215 214.034373 \r\nL 286.16811 211.704303 \r\nL 286.778057 210.929511 \r\nL 287.388004 213.24721 \r\nL 287.997951 212.162105 \r\nL 288.607898 214.086581 \r\nL 289.217846 214.009551 \r\nL 289.827793 211.683209 \r\nL 290.43774 214.222415 \r\nL 291.047687 214.213053 \r\nL 291.657634 213.354782 \r\nL 292.267581 213.685286 \r\nL 292.877529 213.554155 \r\nL 294.097423 214.190456 \r\nL 295.317317 213.751046 \r\nL 295.927264 211.239214 \r\nL 296.537212 213.208458 \r\nL 297.147159 213.967919 \r\nL 297.757106 213.14463 \r\nL 298.367053 214.046274 \r\nL 298.977 212.322338 \r\nL 299.586947 212.471047 \r\nL 300.196895 214.11838 \r\nL 301.416789 214.297286 \r\nL 302.636683 213.904822 \r\nL 303.24663 213.565116 \r\nL 303.856578 213.423479 \r\nL 304.466525 214.34672 \r\nL 305.076472 213.795141 \r\nL 305.686419 212.220867 \r\nL 306.296366 213.932616 \r\nL 306.906313 210.968595 \r\nL 307.516261 214.0556 \r\nL 308.126208 214.168587 \r\nL 308.736155 212.78873 \r\nL 309.346102 214.009129 \r\nL 309.956049 213.171144 \r\nL 310.565996 214.098859 \r\nL 311.175944 214.44868 \r\nL 311.785891 211.824903 \r\nL 312.395838 212.276515 \r\nL 313.005785 211.574788 \r\nL 313.615732 214.161021 \r\nL 314.225679 214.354048 \r\nL 314.835627 213.915848 \r\nL 315.445574 214.126413 \r\nL 316.055521 212.74928 \r\nL 316.665468 214.252004 \r\nL 317.275415 214.445148 \r\nL 317.885362 214.503011 \r\nL 318.49531 213.120061 \r\nL 319.105257 212.226839 \r\nL 319.715204 214.056153 \r\nL 320.325151 213.518977 \r\nL 320.935098 213.174709 \r\nL 321.545045 214.52161 \r\nL 322.154993 211.131171 \r\nL 322.76494 213.326438 \r\nL 323.374887 214.409719 \r\nL 323.984834 213.855647 \r\nL 324.594781 214.531518 \r\nL 325.204728 213.964542 \r\nL 325.814676 212.128765 \r\nL 326.424623 213.044541 \r\nL 327.03457 214.531322 \r\nL 327.644517 214.563656 \r\nL 328.254464 212.335276 \r\nL 328.864411 213.913441 \r\nL 329.474359 211.800873 \r\nL 330.084306 214.044886 \r\nL 331.3042 214.019481 \r\nL 331.914147 213.726781 \r\nL 332.524094 211.254328 \r\nL 333.134042 214.005908 \r\nL 333.743989 212.196728 \r\nL 334.353936 212.898824 \r\nL 334.963883 211.601467 \r\nL 335.57383 214.285868 \r\nL 336.183777 213.729023 \r\nL 336.793725 214.682081 \r\nL 337.403672 212.820675 \r\nL 338.013619 214.408568 \r\nL 338.623566 211.165274 \r\nL 339.233513 214.588395 \r\nL 339.843461 212.472799 \r\nL 341.063355 213.906416 \r\nL 341.673302 214.181072 \r\nL 342.283249 214.716553 \r\nL 342.893196 214.145031 \r\nL 343.503144 210.738561 \r\nL 344.113091 214.563849 \r\nL 344.723038 214.180464 \r\nL 345.332985 214.316652 \r\nL 345.942932 213.834177 \r\nL 346.552879 214.0525 \r\nL 347.162827 214.749119 \r\nL 347.772774 214.053615 \r\nL 348.382721 214.176705 \r\nL 348.992668 210.973236 \r\nL 349.602615 211.489238 \r\nL 350.212562 214.032926 \r\nL 350.82251 214.120753 \r\nL 351.432457 213.214823 \r\nL 352.042404 214.121545 \r\nL 352.652351 214.626508 \r\nL 353.262298 214.077253 \r\nL 353.872245 211.864565 \r\nL 354.482193 214.726847 \r\nL 355.09214 210.873543 \r\nL 355.702087 214.756364 \r\nL 356.312034 214.522428 \r\nL 356.921981 214.143158 \r\nL 357.531928 213.941327 \r\nL 358.141876 213.291202 \r\nL 358.751823 212.12445 \r\nL 359.36177 214.015649 \r\nL 359.971717 214.440485 \r\nL 360.581664 211.024062 \r\nL 361.801559 214.078117 \r\nL 362.411506 214.486558 \r\nL 362.411506 214.486558 \r\n\" style=\"fill:none;stroke:#ff7f0e;stroke-linecap:square;stroke-width:1.5;\"/>\r\n   </g>\r\n   <g id=\"patch_3\">\r\n    <path d=\"M 42.829688 224.64 \r\nL 42.829688 7.2 \r\n\" style=\"fill:none;stroke:#000000;stroke-linecap:square;stroke-linejoin:miter;stroke-width:0.8;\"/>\r\n   </g>\r\n   <g id=\"patch_4\">\r\n    <path d=\"M 377.629688 224.64 \r\nL 377.629688 7.2 \r\n\" style=\"fill:none;stroke:#000000;stroke-linecap:square;stroke-linejoin:miter;stroke-width:0.8;\"/>\r\n   </g>\r\n   <g id=\"patch_5\">\r\n    <path d=\"M 42.829688 224.64 \r\nL 377.629688 224.64 \r\n\" style=\"fill:none;stroke:#000000;stroke-linecap:square;stroke-linejoin:miter;stroke-width:0.8;\"/>\r\n   </g>\r\n   <g id=\"patch_6\">\r\n    <path d=\"M 42.829688 7.2 \r\nL 377.629688 7.2 \r\n\" style=\"fill:none;stroke:#000000;stroke-linecap:square;stroke-linejoin:miter;stroke-width:0.8;\"/>\r\n   </g>\r\n   <g id=\"legend_1\">\r\n    <g id=\"line2d_18\">\r\n     <path d=\"M 304.595313 20.190625 \r\nL 324.595313 20.190625 \r\n\" style=\"fill:none;stroke:#1f77b4;stroke-linecap:square;stroke-width:1.5;\"/>\r\n    </g>\r\n    <g id=\"line2d_19\"/>\r\n    <g id=\"text_18\">\r\n     <!-- loss -->\r\n     <defs>\r\n      <path d=\"M 17.671875 0.984375 \r\nL 9.078125 0.984375 \r\nL 9.078125 74.90625 \r\nL 17.671875 74.90625 \r\nz\r\n\" id=\"IPAexGothic-108\"/>\r\n     </defs>\r\n     <g transform=\"translate(332.595313 23.690625)scale(0.1 -0.1)\">\r\n      <use xlink:href=\"#IPAexGothic-108\"/>\r\n      <use x=\"27.001953\" xlink:href=\"#IPAexGothic-111\"/>\r\n      <use x=\"87.402344\" xlink:href=\"#IPAexGothic-115\"/>\r\n      <use x=\"133.59375\" xlink:href=\"#IPAexGothic-115\"/>\r\n     </g>\r\n    </g>\r\n    <g id=\"line2d_20\">\r\n     <path d=\"M 304.595313 34.58125 \r\nL 324.595313 34.58125 \r\n\" style=\"fill:none;stroke:#ff7f0e;stroke-linecap:square;stroke-width:1.5;\"/>\r\n    </g>\r\n    <g id=\"line2d_21\"/>\r\n    <g id=\"text_19\">\r\n     <!-- val_loss -->\r\n     <defs>\r\n      <path d=\"M 48.484375 50.78125 \r\nL 27.296875 0.09375 \r\nL 21.484375 0.09375 \r\nL 0.390625 50.78125 \r\nL 9.8125 50.78125 \r\nL 20.90625 21.6875 \r\nL 23.78125 13.1875 \r\nL 24.515625 10.984375 \r\nL 24.8125 10.984375 \r\nQ 25.640625 13.8125 28.46875 21.6875 \r\nL 39.3125 50.78125 \r\nz\r\n\" id=\"IPAexGothic-118\"/>\r\n      <path d=\"M 49.3125 0.984375 \r\nL 41.75 0.984375 \r\nQ 39.984375 4.734375 39.546875 8.6875 \r\nL 39.203125 8.6875 \r\nQ 33.546875 -0.390625 22.3125 -0.390625 \r\nQ 14.59375 -0.390625 9.71875 4.5 \r\nQ 5.421875 8.796875 5.421875 14.984375 \r\nQ 5.421875 30.421875 32.03125 31.203125 \r\nL 38.71875 31.390625 \r\nL 38.71875 33.984375 \r\nQ 38.71875 39.203125 35.75 42.1875 \r\nQ 32.625 45.3125 27.734375 45.3125 \r\nQ 19.34375 45.3125 15.140625 37.15625 \r\nL 7.71875 40.578125 \r\nQ 14.65625 52 27.9375 52 \r\nQ 37.109375 52 42.046875 46.875 \r\nQ 46.625 42.28125 46.625 33.890625 \r\nL 46.625 15.578125 \r\nQ 46.625 6.25 49.3125 0.984375 \r\nz\r\nM 38.921875 25.390625 \r\nL 33.453125 25.296875 \r\nQ 14.109375 24.859375 14.109375 14.890625 \r\nQ 14.109375 11.375 16.40625 9.078125 \r\nQ 19.234375 6.296875 23.828125 6.296875 \r\nQ 30.21875 6.296875 34.90625 10.984375 \r\nQ 38.921875 15.140625 38.921875 21 \r\nz\r\n\" id=\"IPAexGothic-97\"/>\r\n      <path d=\"M 50 -11.71875 \r\nL 0 -11.71875 \r\nL 0 -6.734375 \r\nL 50 -6.734375 \r\nz\r\n\" id=\"IPAexGothic-95\"/>\r\n     </defs>\r\n     <g transform=\"translate(332.595313 38.08125)scale(0.1 -0.1)\">\r\n      <use xlink:href=\"#IPAexGothic-118\"/>\r\n      <use x=\"48.583984\" xlink:href=\"#IPAexGothic-97\"/>\r\n      <use x=\"103.564453\" xlink:href=\"#IPAexGothic-108\"/>\r\n      <use x=\"130.566406\" xlink:href=\"#IPAexGothic-95\"/>\r\n      <use x=\"180.566406\" xlink:href=\"#IPAexGothic-108\"/>\r\n      <use x=\"207.568359\" xlink:href=\"#IPAexGothic-111\"/>\r\n      <use x=\"267.96875\" xlink:href=\"#IPAexGothic-115\"/>\r\n      <use x=\"314.160156\" xlink:href=\"#IPAexGothic-115\"/>\r\n     </g>\r\n    </g>\r\n   </g>\r\n  </g>\r\n </g>\r\n <defs>\r\n  <clipPath id=\"p6608c7fc68\">\r\n   <rect height=\"217.44\" width=\"334.8\" x=\"42.829688\" y=\"7.2\"/>\r\n  </clipPath>\r\n </defs>\r\n</svg>\r\n",
      "image/png": "[encoded data removed]"
     },
     "metadata": {
      "needs_background": "light"
     }
    }
   ],
   "source": [
    "# グラフ表示\n",
    "plt.plot(log.history['loss'], label='loss')\n",
    "plt.plot(log.history['val_loss'], label='val_loss')\n",
    "plt.legend(frameon=False) # 凡例の表示\n",
    "plt.xlabel(\"epochs\")\n",
    "plt.ylabel(\"crossentropy\")\n",
    "plt.show()"
   ]
  },
  {
   "cell_type": "code",
   "execution_count": 46,
   "metadata": {},
   "outputs": [],
   "source": [
    "# predictで予測を行う\n",
    "Y_pred_0 = model.predict(X_test)\n",
    "\n",
    "# 多クラス分類は予測結果の各リストにおける\n",
    "# 最大値のインデックスを取得するようにする\n",
    "Y_pred = np.argmax(Y_pred_0, axis=1)"
   ]
  },
  {
   "cell_type": "code",
   "execution_count": 47,
   "metadata": {},
   "outputs": [],
   "source": [
    "# カテゴリー変数の復元\n",
    "Y_test_ = np.argmax(Y_test, axis=1)"
   ]
  },
  {
   "cell_type": "code",
   "execution_count": 48,
   "metadata": {},
   "outputs": [
    {
     "output_type": "stream",
     "name": "stdout",
     "text": [
      "              precision    recall  f1-score   support\n\n           0       1.00      1.00      1.00        16\n           1       1.00      0.94      0.97        18\n           2       0.92      1.00      0.96        11\n\n    accuracy                           0.98        45\n   macro avg       0.97      0.98      0.98        45\nweighted avg       0.98      0.98      0.98        45\n\n"
     ]
    }
   ],
   "source": [
    "# モデルの評価\n",
    "from sklearn.metrics import classification_report\n",
    "\n",
    "print(classification_report(Y_test_, Y_pred))"
   ]
  }
 ]
}