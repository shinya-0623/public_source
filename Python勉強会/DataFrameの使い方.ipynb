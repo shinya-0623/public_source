{
 "metadata": {
  "language_info": {
   "codemirror_mode": {
    "name": "ipython",
    "version": 3
   },
   "file_extension": ".py",
   "mimetype": "text/x-python",
   "name": "python",
   "nbconvert_exporter": "python",
   "pygments_lexer": "ipython3",
   "version": "3.7.3-final"
  },
  "orig_nbformat": 2,
  "kernelspec": {
   "name": "python3",
   "display_name": "Python 3.7.3 64-bit ('test3': conda)",
   "metadata": {
    "interpreter": {
     "hash": "a29c3b94c6321d7b98d5bed2ef5e4ecf59a55548a69f735368a30792f7f3d2c9"
    }
   }
  }
 },
 "nbformat": 4,
 "nbformat_minor": 2,
 "cells": [
  {
   "cell_type": "code",
   "execution_count": 39,
   "metadata": {},
   "outputs": [],
   "source": [
    "import pandas as pd\n",
    "import numpy as np"
   ]
  },
  {
   "cell_type": "code",
   "execution_count": 40,
   "metadata": {},
   "outputs": [],
   "source": [
    "## 最初の5行を表示\n",
    "taitanic_df = pd.read_csv('C:/Users/s2441/Documents/Python Scripts/data/titanic_train.csv')\n"
   ]
  },
  {
   "cell_type": "code",
   "execution_count": 41,
   "metadata": {},
   "outputs": [
    {
     "output_type": "execute_result",
     "data": {
      "text/plain": [
       "   Survived  PassengerId  Pclass  \\\n",
       "0         0            1       3   \n",
       "1         1            2       1   \n",
       "2         1            3       3   \n",
       "3         1            4       1   \n",
       "4         0            5       3   \n",
       "\n",
       "                                                Name     Sex   Age  SibSp  \\\n",
       "0                            Braund, Mr. Owen Harris    male  22.0      1   \n",
       "1  Cumings, Mrs. John Bradley (Florence Briggs Th...  female  38.0      1   \n",
       "2                             Heikkinen, Miss. Laina  female  26.0      0   \n",
       "3       Futrelle, Mrs. Jacques Heath (Lily May Peel)  female  35.0      1   \n",
       "4                           Allen, Mr. William Henry    male  35.0      0   \n",
       "\n",
       "   Parch            Ticket     Fare Cabin Embarked  \n",
       "0      0         A/5 21171   7.2500   NaN        S  \n",
       "1      0          PC 17599  71.2833   C85        C  \n",
       "2      0  STON/O2. 3101282   7.9250   NaN        S  \n",
       "3      0            113803  53.1000  C123        S  \n",
       "4      0            373450   8.0500   NaN        S  "
      ],
      "text/html": "<div>\n<style scoped>\n    .dataframe tbody tr th:only-of-type {\n        vertical-align: middle;\n    }\n\n    .dataframe tbody tr th {\n        vertical-align: top;\n    }\n\n    .dataframe thead th {\n        text-align: right;\n    }\n</style>\n<table border=\"1\" class=\"dataframe\">\n  <thead>\n    <tr style=\"text-align: right;\">\n      <th></th>\n      <th>Survived</th>\n      <th>PassengerId</th>\n      <th>Pclass</th>\n      <th>Name</th>\n      <th>Sex</th>\n      <th>Age</th>\n      <th>SibSp</th>\n      <th>Parch</th>\n      <th>Ticket</th>\n      <th>Fare</th>\n      <th>Cabin</th>\n      <th>Embarked</th>\n    </tr>\n  </thead>\n  <tbody>\n    <tr>\n      <th>0</th>\n      <td>0</td>\n      <td>1</td>\n      <td>3</td>\n      <td>Braund, Mr. Owen Harris</td>\n      <td>male</td>\n      <td>22.0</td>\n      <td>1</td>\n      <td>0</td>\n      <td>A/5 21171</td>\n      <td>7.2500</td>\n      <td>NaN</td>\n      <td>S</td>\n    </tr>\n    <tr>\n      <th>1</th>\n      <td>1</td>\n      <td>2</td>\n      <td>1</td>\n      <td>Cumings, Mrs. John Bradley (Florence Briggs Th...</td>\n      <td>female</td>\n      <td>38.0</td>\n      <td>1</td>\n      <td>0</td>\n      <td>PC 17599</td>\n      <td>71.2833</td>\n      <td>C85</td>\n      <td>C</td>\n    </tr>\n    <tr>\n      <th>2</th>\n      <td>1</td>\n      <td>3</td>\n      <td>3</td>\n      <td>Heikkinen, Miss. Laina</td>\n      <td>female</td>\n      <td>26.0</td>\n      <td>0</td>\n      <td>0</td>\n      <td>STON/O2. 3101282</td>\n      <td>7.9250</td>\n      <td>NaN</td>\n      <td>S</td>\n    </tr>\n    <tr>\n      <th>3</th>\n      <td>1</td>\n      <td>4</td>\n      <td>1</td>\n      <td>Futrelle, Mrs. Jacques Heath (Lily May Peel)</td>\n      <td>female</td>\n      <td>35.0</td>\n      <td>1</td>\n      <td>0</td>\n      <td>113803</td>\n      <td>53.1000</td>\n      <td>C123</td>\n      <td>S</td>\n    </tr>\n    <tr>\n      <th>4</th>\n      <td>0</td>\n      <td>5</td>\n      <td>3</td>\n      <td>Allen, Mr. William Henry</td>\n      <td>male</td>\n      <td>35.0</td>\n      <td>0</td>\n      <td>0</td>\n      <td>373450</td>\n      <td>8.0500</td>\n      <td>NaN</td>\n      <td>S</td>\n    </tr>\n  </tbody>\n</table>\n</div>"
     },
     "metadata": {},
     "execution_count": 41
    }
   ],
   "source": [
    "# 最初の5行を表示\n",
    "taitanic_df.head()"
   ]
  },
  {
   "cell_type": "code",
   "execution_count": 42,
   "metadata": {},
   "outputs": [
    {
     "output_type": "execute_result",
     "data": {
      "text/plain": [
       "                                                Name   Age\n",
       "0                            Braund, Mr. Owen Harris  22.0\n",
       "1  Cumings, Mrs. John Bradley (Florence Briggs Th...  38.0\n",
       "2                             Heikkinen, Miss. Laina  26.0\n",
       "3       Futrelle, Mrs. Jacques Heath (Lily May Peel)  35.0\n",
       "4                           Allen, Mr. William Henry  35.0\n",
       "5                                   Moran, Mr. James   NaN"
      ],
      "text/html": "<div>\n<style scoped>\n    .dataframe tbody tr th:only-of-type {\n        vertical-align: middle;\n    }\n\n    .dataframe tbody tr th {\n        vertical-align: top;\n    }\n\n    .dataframe thead th {\n        text-align: right;\n    }\n</style>\n<table border=\"1\" class=\"dataframe\">\n  <thead>\n    <tr style=\"text-align: right;\">\n      <th></th>\n      <th>Name</th>\n      <th>Age</th>\n    </tr>\n  </thead>\n  <tbody>\n    <tr>\n      <th>0</th>\n      <td>Braund, Mr. Owen Harris</td>\n      <td>22.0</td>\n    </tr>\n    <tr>\n      <th>1</th>\n      <td>Cumings, Mrs. John Bradley (Florence Briggs Th...</td>\n      <td>38.0</td>\n    </tr>\n    <tr>\n      <th>2</th>\n      <td>Heikkinen, Miss. Laina</td>\n      <td>26.0</td>\n    </tr>\n    <tr>\n      <th>3</th>\n      <td>Futrelle, Mrs. Jacques Heath (Lily May Peel)</td>\n      <td>35.0</td>\n    </tr>\n    <tr>\n      <th>4</th>\n      <td>Allen, Mr. William Henry</td>\n      <td>35.0</td>\n    </tr>\n    <tr>\n      <th>5</th>\n      <td>Moran, Mr. James</td>\n      <td>NaN</td>\n    </tr>\n  </tbody>\n</table>\n</div>"
     },
     "metadata": {},
     "execution_count": 42
    }
   ],
   "source": [
    "#以下の条件でDataFrameを抽出してみる\n",
    "#行：5行まで\n",
    "#列：Name、Age\n",
    "taitanic_df.loc[:5,['Name','Age']]\n"
   ]
  },
  {
   "cell_type": "code",
   "execution_count": 43,
   "metadata": {},
   "outputs": [
    {
     "output_type": "execute_result",
     "data": {
      "text/plain": [
       "      Sex   Age  SibSp\n",
       "0    male  22.0      1\n",
       "1  female  38.0      1\n",
       "2  female  26.0      0\n",
       "3  female  35.0      1\n",
       "4    male  35.0      0\n",
       "5    male   NaN      0\n",
       "6    male  54.0      0\n",
       "7    male   2.0      3\n",
       "8  female  27.0      0\n",
       "9  female  14.0      1"
      ],
      "text/html": "<div>\n<style scoped>\n    .dataframe tbody tr th:only-of-type {\n        vertical-align: middle;\n    }\n\n    .dataframe tbody tr th {\n        vertical-align: top;\n    }\n\n    .dataframe thead th {\n        text-align: right;\n    }\n</style>\n<table border=\"1\" class=\"dataframe\">\n  <thead>\n    <tr style=\"text-align: right;\">\n      <th></th>\n      <th>Sex</th>\n      <th>Age</th>\n      <th>SibSp</th>\n    </tr>\n  </thead>\n  <tbody>\n    <tr>\n      <th>0</th>\n      <td>male</td>\n      <td>22.0</td>\n      <td>1</td>\n    </tr>\n    <tr>\n      <th>1</th>\n      <td>female</td>\n      <td>38.0</td>\n      <td>1</td>\n    </tr>\n    <tr>\n      <th>2</th>\n      <td>female</td>\n      <td>26.0</td>\n      <td>0</td>\n    </tr>\n    <tr>\n      <th>3</th>\n      <td>female</td>\n      <td>35.0</td>\n      <td>1</td>\n    </tr>\n    <tr>\n      <th>4</th>\n      <td>male</td>\n      <td>35.0</td>\n      <td>0</td>\n    </tr>\n    <tr>\n      <th>5</th>\n      <td>male</td>\n      <td>NaN</td>\n      <td>0</td>\n    </tr>\n    <tr>\n      <th>6</th>\n      <td>male</td>\n      <td>54.0</td>\n      <td>0</td>\n    </tr>\n    <tr>\n      <th>7</th>\n      <td>male</td>\n      <td>2.0</td>\n      <td>3</td>\n    </tr>\n    <tr>\n      <th>8</th>\n      <td>female</td>\n      <td>27.0</td>\n      <td>0</td>\n    </tr>\n    <tr>\n      <th>9</th>\n      <td>female</td>\n      <td>14.0</td>\n      <td>1</td>\n    </tr>\n  </tbody>\n</table>\n</div>"
     },
     "metadata": {},
     "execution_count": 43
    }
   ],
   "source": [
    "#以下の条件でDataFrameを抽出してみる\n",
    "#行：10行まで\n",
    "#列：5,6,7番目の列\n",
    "taitanic_df.iloc[:10,[4,5,6]]"
   ]
  },
  {
   "cell_type": "code",
   "execution_count": 44,
   "metadata": {},
   "outputs": [
    {
     "output_type": "execute_result",
     "data": {
      "text/plain": [
       "     Survived  PassengerId  Pclass                                  Name  \\\n",
       "96          0           97       1             Goldschmidt, Mr. George B   \n",
       "116         0          117       3                  Connors, Mr. Patrick   \n",
       "493         0          494       1               Artagaveytia, Mr. Ramon   \n",
       "630         1          631       1  Barkworth, Mr. Algernon Henry Wilson   \n",
       "851         0          852       3                   Svensson, Mr. Johan   \n",
       "\n",
       "      Sex   Age  SibSp  Parch    Ticket     Fare Cabin Embarked  \n",
       "96   male  71.0      0      0  PC 17754  34.6542    A5        C  \n",
       "116  male  70.5      0      0    370369   7.7500   NaN        Q  \n",
       "493  male  71.0      0      0  PC 17609  49.5042   NaN        C  \n",
       "630  male  80.0      0      0     27042  30.0000   A23        S  \n",
       "851  male  74.0      0      0    347060   7.7750   NaN        S  "
      ],
      "text/html": "<div>\n<style scoped>\n    .dataframe tbody tr th:only-of-type {\n        vertical-align: middle;\n    }\n\n    .dataframe tbody tr th {\n        vertical-align: top;\n    }\n\n    .dataframe thead th {\n        text-align: right;\n    }\n</style>\n<table border=\"1\" class=\"dataframe\">\n  <thead>\n    <tr style=\"text-align: right;\">\n      <th></th>\n      <th>Survived</th>\n      <th>PassengerId</th>\n      <th>Pclass</th>\n      <th>Name</th>\n      <th>Sex</th>\n      <th>Age</th>\n      <th>SibSp</th>\n      <th>Parch</th>\n      <th>Ticket</th>\n      <th>Fare</th>\n      <th>Cabin</th>\n      <th>Embarked</th>\n    </tr>\n  </thead>\n  <tbody>\n    <tr>\n      <th>96</th>\n      <td>0</td>\n      <td>97</td>\n      <td>1</td>\n      <td>Goldschmidt, Mr. George B</td>\n      <td>male</td>\n      <td>71.0</td>\n      <td>0</td>\n      <td>0</td>\n      <td>PC 17754</td>\n      <td>34.6542</td>\n      <td>A5</td>\n      <td>C</td>\n    </tr>\n    <tr>\n      <th>116</th>\n      <td>0</td>\n      <td>117</td>\n      <td>3</td>\n      <td>Connors, Mr. Patrick</td>\n      <td>male</td>\n      <td>70.5</td>\n      <td>0</td>\n      <td>0</td>\n      <td>370369</td>\n      <td>7.7500</td>\n      <td>NaN</td>\n      <td>Q</td>\n    </tr>\n    <tr>\n      <th>493</th>\n      <td>0</td>\n      <td>494</td>\n      <td>1</td>\n      <td>Artagaveytia, Mr. Ramon</td>\n      <td>male</td>\n      <td>71.0</td>\n      <td>0</td>\n      <td>0</td>\n      <td>PC 17609</td>\n      <td>49.5042</td>\n      <td>NaN</td>\n      <td>C</td>\n    </tr>\n    <tr>\n      <th>630</th>\n      <td>1</td>\n      <td>631</td>\n      <td>1</td>\n      <td>Barkworth, Mr. Algernon Henry Wilson</td>\n      <td>male</td>\n      <td>80.0</td>\n      <td>0</td>\n      <td>0</td>\n      <td>27042</td>\n      <td>30.0000</td>\n      <td>A23</td>\n      <td>S</td>\n    </tr>\n    <tr>\n      <th>851</th>\n      <td>0</td>\n      <td>852</td>\n      <td>3</td>\n      <td>Svensson, Mr. Johan</td>\n      <td>male</td>\n      <td>74.0</td>\n      <td>0</td>\n      <td>0</td>\n      <td>347060</td>\n      <td>7.7750</td>\n      <td>NaN</td>\n      <td>S</td>\n    </tr>\n  </tbody>\n</table>\n</div>"
     },
     "metadata": {},
     "execution_count": 44
    }
   ],
   "source": [
    "#以下の条件でDataFrameを抽出してみる\n",
    "#70歳以上の男性\n",
    "taitanic_df.query(\"Age > 70 and Sex == 'male' \")"
   ]
  },
  {
   "cell_type": "code",
   "execution_count": 45,
   "metadata": {},
   "outputs": [
    {
     "output_type": "execute_result",
     "data": {
      "text/plain": [
       "     Survived  PassengerId  Pclass                                  Name  \\\n",
       "96          0           97       1             Goldschmidt, Mr. George B   \n",
       "116         0          117       3                  Connors, Mr. Patrick   \n",
       "493         0          494       1               Artagaveytia, Mr. Ramon   \n",
       "630         1          631       1  Barkworth, Mr. Algernon Henry Wilson   \n",
       "851         0          852       3                   Svensson, Mr. Johan   \n",
       "\n",
       "      Sex   Age  SibSp  Parch    Ticket     Fare Cabin Embarked  \n",
       "96   male  71.0      0      0  PC 17754  34.6542    A5        C  \n",
       "116  male  70.5      0      0    370369   7.7500   NaN        Q  \n",
       "493  male  71.0      0      0  PC 17609  49.5042   NaN        C  \n",
       "630  male  80.0      0      0     27042  30.0000   A23        S  \n",
       "851  male  74.0      0      0    347060   7.7750   NaN        S  "
      ],
      "text/html": "<div>\n<style scoped>\n    .dataframe tbody tr th:only-of-type {\n        vertical-align: middle;\n    }\n\n    .dataframe tbody tr th {\n        vertical-align: top;\n    }\n\n    .dataframe thead th {\n        text-align: right;\n    }\n</style>\n<table border=\"1\" class=\"dataframe\">\n  <thead>\n    <tr style=\"text-align: right;\">\n      <th></th>\n      <th>Survived</th>\n      <th>PassengerId</th>\n      <th>Pclass</th>\n      <th>Name</th>\n      <th>Sex</th>\n      <th>Age</th>\n      <th>SibSp</th>\n      <th>Parch</th>\n      <th>Ticket</th>\n      <th>Fare</th>\n      <th>Cabin</th>\n      <th>Embarked</th>\n    </tr>\n  </thead>\n  <tbody>\n    <tr>\n      <th>96</th>\n      <td>0</td>\n      <td>97</td>\n      <td>1</td>\n      <td>Goldschmidt, Mr. George B</td>\n      <td>male</td>\n      <td>71.0</td>\n      <td>0</td>\n      <td>0</td>\n      <td>PC 17754</td>\n      <td>34.6542</td>\n      <td>A5</td>\n      <td>C</td>\n    </tr>\n    <tr>\n      <th>116</th>\n      <td>0</td>\n      <td>117</td>\n      <td>3</td>\n      <td>Connors, Mr. Patrick</td>\n      <td>male</td>\n      <td>70.5</td>\n      <td>0</td>\n      <td>0</td>\n      <td>370369</td>\n      <td>7.7500</td>\n      <td>NaN</td>\n      <td>Q</td>\n    </tr>\n    <tr>\n      <th>493</th>\n      <td>0</td>\n      <td>494</td>\n      <td>1</td>\n      <td>Artagaveytia, Mr. Ramon</td>\n      <td>male</td>\n      <td>71.0</td>\n      <td>0</td>\n      <td>0</td>\n      <td>PC 17609</td>\n      <td>49.5042</td>\n      <td>NaN</td>\n      <td>C</td>\n    </tr>\n    <tr>\n      <th>630</th>\n      <td>1</td>\n      <td>631</td>\n      <td>1</td>\n      <td>Barkworth, Mr. Algernon Henry Wilson</td>\n      <td>male</td>\n      <td>80.0</td>\n      <td>0</td>\n      <td>0</td>\n      <td>27042</td>\n      <td>30.0000</td>\n      <td>A23</td>\n      <td>S</td>\n    </tr>\n    <tr>\n      <th>851</th>\n      <td>0</td>\n      <td>852</td>\n      <td>3</td>\n      <td>Svensson, Mr. Johan</td>\n      <td>male</td>\n      <td>74.0</td>\n      <td>0</td>\n      <td>0</td>\n      <td>347060</td>\n      <td>7.7750</td>\n      <td>NaN</td>\n      <td>S</td>\n    </tr>\n  </tbody>\n</table>\n</div>"
     },
     "metadata": {},
     "execution_count": 45
    }
   ],
   "source": [
    "#この書き方でも一緒\n",
    "taitanic_df[(taitanic_df['Age']>70) & (taitanic_df['Sex']=='male')]"
   ]
  },
  {
   "cell_type": "code",
   "execution_count": 46,
   "metadata": {},
   "outputs": [
    {
     "output_type": "execute_result",
     "data": {
      "text/plain": [
       "   Survived  PassengerId  Pclass  \\\n",
       "0         0            1       3   \n",
       "1         1            2       1   \n",
       "2         1            3       3   \n",
       "3         1            4       1   \n",
       "4         0            5       3   \n",
       "\n",
       "                                                Name     Sex   Age  SibSp  \\\n",
       "0                            Braund, Mr. Owen Harris    male  22.0      1   \n",
       "1  Cumings, Mrs. John Bradley (Florence Briggs Th...  female  38.0      1   \n",
       "2                             Heikkinen, Miss. Laina  female  26.0      0   \n",
       "3       Futrelle, Mrs. Jacques Heath (Lily May Peel)  female  35.0      1   \n",
       "4                           Allen, Mr. William Henry    male  35.0      0   \n",
       "\n",
       "   Parch            Ticket     Fare Cabin Embarked person  \n",
       "0      0         A/5 21171   7.2500   NaN        S    man  \n",
       "1      0          PC 17599  71.2833   C85        C    man  \n",
       "2      0  STON/O2. 3101282   7.9250   NaN        S    man  \n",
       "3      0            113803  53.1000  C123        S    man  \n",
       "4      0            373450   8.0500   NaN        S    man  "
      ],
      "text/html": "<div>\n<style scoped>\n    .dataframe tbody tr th:only-of-type {\n        vertical-align: middle;\n    }\n\n    .dataframe tbody tr th {\n        vertical-align: top;\n    }\n\n    .dataframe thead th {\n        text-align: right;\n    }\n</style>\n<table border=\"1\" class=\"dataframe\">\n  <thead>\n    <tr style=\"text-align: right;\">\n      <th></th>\n      <th>Survived</th>\n      <th>PassengerId</th>\n      <th>Pclass</th>\n      <th>Name</th>\n      <th>Sex</th>\n      <th>Age</th>\n      <th>SibSp</th>\n      <th>Parch</th>\n      <th>Ticket</th>\n      <th>Fare</th>\n      <th>Cabin</th>\n      <th>Embarked</th>\n      <th>person</th>\n    </tr>\n  </thead>\n  <tbody>\n    <tr>\n      <th>0</th>\n      <td>0</td>\n      <td>1</td>\n      <td>3</td>\n      <td>Braund, Mr. Owen Harris</td>\n      <td>male</td>\n      <td>22.0</td>\n      <td>1</td>\n      <td>0</td>\n      <td>A/5 21171</td>\n      <td>7.2500</td>\n      <td>NaN</td>\n      <td>S</td>\n      <td>man</td>\n    </tr>\n    <tr>\n      <th>1</th>\n      <td>1</td>\n      <td>2</td>\n      <td>1</td>\n      <td>Cumings, Mrs. John Bradley (Florence Briggs Th...</td>\n      <td>female</td>\n      <td>38.0</td>\n      <td>1</td>\n      <td>0</td>\n      <td>PC 17599</td>\n      <td>71.2833</td>\n      <td>C85</td>\n      <td>C</td>\n      <td>man</td>\n    </tr>\n    <tr>\n      <th>2</th>\n      <td>1</td>\n      <td>3</td>\n      <td>3</td>\n      <td>Heikkinen, Miss. Laina</td>\n      <td>female</td>\n      <td>26.0</td>\n      <td>0</td>\n      <td>0</td>\n      <td>STON/O2. 3101282</td>\n      <td>7.9250</td>\n      <td>NaN</td>\n      <td>S</td>\n      <td>man</td>\n    </tr>\n    <tr>\n      <th>3</th>\n      <td>1</td>\n      <td>4</td>\n      <td>1</td>\n      <td>Futrelle, Mrs. Jacques Heath (Lily May Peel)</td>\n      <td>female</td>\n      <td>35.0</td>\n      <td>1</td>\n      <td>0</td>\n      <td>113803</td>\n      <td>53.1000</td>\n      <td>C123</td>\n      <td>S</td>\n      <td>man</td>\n    </tr>\n    <tr>\n      <th>4</th>\n      <td>0</td>\n      <td>5</td>\n      <td>3</td>\n      <td>Allen, Mr. William Henry</td>\n      <td>male</td>\n      <td>35.0</td>\n      <td>0</td>\n      <td>0</td>\n      <td>373450</td>\n      <td>8.0500</td>\n      <td>NaN</td>\n      <td>S</td>\n      <td>man</td>\n    </tr>\n  </tbody>\n</table>\n</div>"
     },
     "metadata": {},
     "execution_count": 46
    }
   ],
   "source": [
    "#新しい列を追加\n",
    "taitanic_df['person'] = 'man'\n",
    "taitanic_df.head()"
   ]
  },
  {
   "cell_type": "code",
   "execution_count": 47,
   "metadata": {},
   "outputs": [
    {
     "output_type": "execute_result",
     "data": {
      "text/plain": [
       "   Survived  Pclass     Sex   Age  SibSp  Parch            Ticket     Fare  \\\n",
       "0         0       3    male  22.0      1      0         A/5 21171   7.2500   \n",
       "1         1       1  female  38.0      1      0          PC 17599  71.2833   \n",
       "2         1       3  female  26.0      0      0  STON/O2. 3101282   7.9250   \n",
       "3         1       1  female  35.0      1      0            113803  53.1000   \n",
       "4         0       3    male  35.0      0      0            373450   8.0500   \n",
       "\n",
       "  Cabin Embarked person  \n",
       "0   NaN        S    man  \n",
       "1   C85        C    man  \n",
       "2   NaN        S    man  \n",
       "3  C123        S    man  \n",
       "4   NaN        S    man  "
      ],
      "text/html": "<div>\n<style scoped>\n    .dataframe tbody tr th:only-of-type {\n        vertical-align: middle;\n    }\n\n    .dataframe tbody tr th {\n        vertical-align: top;\n    }\n\n    .dataframe thead th {\n        text-align: right;\n    }\n</style>\n<table border=\"1\" class=\"dataframe\">\n  <thead>\n    <tr style=\"text-align: right;\">\n      <th></th>\n      <th>Survived</th>\n      <th>Pclass</th>\n      <th>Sex</th>\n      <th>Age</th>\n      <th>SibSp</th>\n      <th>Parch</th>\n      <th>Ticket</th>\n      <th>Fare</th>\n      <th>Cabin</th>\n      <th>Embarked</th>\n      <th>person</th>\n    </tr>\n  </thead>\n  <tbody>\n    <tr>\n      <th>0</th>\n      <td>0</td>\n      <td>3</td>\n      <td>male</td>\n      <td>22.0</td>\n      <td>1</td>\n      <td>0</td>\n      <td>A/5 21171</td>\n      <td>7.2500</td>\n      <td>NaN</td>\n      <td>S</td>\n      <td>man</td>\n    </tr>\n    <tr>\n      <th>1</th>\n      <td>1</td>\n      <td>1</td>\n      <td>female</td>\n      <td>38.0</td>\n      <td>1</td>\n      <td>0</td>\n      <td>PC 17599</td>\n      <td>71.2833</td>\n      <td>C85</td>\n      <td>C</td>\n      <td>man</td>\n    </tr>\n    <tr>\n      <th>2</th>\n      <td>1</td>\n      <td>3</td>\n      <td>female</td>\n      <td>26.0</td>\n      <td>0</td>\n      <td>0</td>\n      <td>STON/O2. 3101282</td>\n      <td>7.9250</td>\n      <td>NaN</td>\n      <td>S</td>\n      <td>man</td>\n    </tr>\n    <tr>\n      <th>3</th>\n      <td>1</td>\n      <td>1</td>\n      <td>female</td>\n      <td>35.0</td>\n      <td>1</td>\n      <td>0</td>\n      <td>113803</td>\n      <td>53.1000</td>\n      <td>C123</td>\n      <td>S</td>\n      <td>man</td>\n    </tr>\n    <tr>\n      <th>4</th>\n      <td>0</td>\n      <td>3</td>\n      <td>male</td>\n      <td>35.0</td>\n      <td>0</td>\n      <td>0</td>\n      <td>373450</td>\n      <td>8.0500</td>\n      <td>NaN</td>\n      <td>S</td>\n      <td>man</td>\n    </tr>\n  </tbody>\n</table>\n</div>"
     },
     "metadata": {},
     "execution_count": 47
    }
   ],
   "source": [
    "#列削除\n",
    "taitanic_df = taitanic_df.drop([\"PassengerId\",\"Name\"],axis=1)\n",
    "taitanic_df.head()\n"
   ]
  },
  {
   "cell_type": "code",
   "execution_count": 48,
   "metadata": {},
   "outputs": [],
   "source": [
    "#関数を使って条件抽出\n",
    "def male_female_child(df):\n",
    "    #age, sex = passenger\n",
    "\n",
    "    if df['Age'] < 16:\n",
    "        return 'child'\n",
    "    else:\n",
    "       return 'adult' "
   ]
  },
  {
   "cell_type": "code",
   "execution_count": 49,
   "metadata": {},
   "outputs": [
    {
     "output_type": "execute_result",
     "data": {
      "text/plain": [
       "   Survived  Pclass     Sex   Age  SibSp  Parch            Ticket     Fare  \\\n",
       "0         0       3    male  22.0      1      0         A/5 21171   7.2500   \n",
       "1         1       1  female  38.0      1      0          PC 17599  71.2833   \n",
       "2         1       3  female  26.0      0      0  STON/O2. 3101282   7.9250   \n",
       "3         1       1  female  35.0      1      0            113803  53.1000   \n",
       "4         0       3    male  35.0      0      0            373450   8.0500   \n",
       "5         0       3    male   NaN      0      0            330877   8.4583   \n",
       "6         0       1    male  54.0      0      0             17463  51.8625   \n",
       "7         0       3    male   2.0      3      1            349909  21.0750   \n",
       "8         1       3  female  27.0      0      2            347742  11.1333   \n",
       "9         1       2  female  14.0      1      0            237736  30.0708   \n",
       "\n",
       "  Cabin Embarked person  \n",
       "0   NaN        S  adult  \n",
       "1   C85        C  adult  \n",
       "2   NaN        S  adult  \n",
       "3  C123        S  adult  \n",
       "4   NaN        S  adult  \n",
       "5   NaN        Q  adult  \n",
       "6   E46        S  adult  \n",
       "7   NaN        S  child  \n",
       "8   NaN        S  adult  \n",
       "9   NaN        C  child  "
      ],
      "text/html": "<div>\n<style scoped>\n    .dataframe tbody tr th:only-of-type {\n        vertical-align: middle;\n    }\n\n    .dataframe tbody tr th {\n        vertical-align: top;\n    }\n\n    .dataframe thead th {\n        text-align: right;\n    }\n</style>\n<table border=\"1\" class=\"dataframe\">\n  <thead>\n    <tr style=\"text-align: right;\">\n      <th></th>\n      <th>Survived</th>\n      <th>Pclass</th>\n      <th>Sex</th>\n      <th>Age</th>\n      <th>SibSp</th>\n      <th>Parch</th>\n      <th>Ticket</th>\n      <th>Fare</th>\n      <th>Cabin</th>\n      <th>Embarked</th>\n      <th>person</th>\n    </tr>\n  </thead>\n  <tbody>\n    <tr>\n      <th>0</th>\n      <td>0</td>\n      <td>3</td>\n      <td>male</td>\n      <td>22.0</td>\n      <td>1</td>\n      <td>0</td>\n      <td>A/5 21171</td>\n      <td>7.2500</td>\n      <td>NaN</td>\n      <td>S</td>\n      <td>adult</td>\n    </tr>\n    <tr>\n      <th>1</th>\n      <td>1</td>\n      <td>1</td>\n      <td>female</td>\n      <td>38.0</td>\n      <td>1</td>\n      <td>0</td>\n      <td>PC 17599</td>\n      <td>71.2833</td>\n      <td>C85</td>\n      <td>C</td>\n      <td>adult</td>\n    </tr>\n    <tr>\n      <th>2</th>\n      <td>1</td>\n      <td>3</td>\n      <td>female</td>\n      <td>26.0</td>\n      <td>0</td>\n      <td>0</td>\n      <td>STON/O2. 3101282</td>\n      <td>7.9250</td>\n      <td>NaN</td>\n      <td>S</td>\n      <td>adult</td>\n    </tr>\n    <tr>\n      <th>3</th>\n      <td>1</td>\n      <td>1</td>\n      <td>female</td>\n      <td>35.0</td>\n      <td>1</td>\n      <td>0</td>\n      <td>113803</td>\n      <td>53.1000</td>\n      <td>C123</td>\n      <td>S</td>\n      <td>adult</td>\n    </tr>\n    <tr>\n      <th>4</th>\n      <td>0</td>\n      <td>3</td>\n      <td>male</td>\n      <td>35.0</td>\n      <td>0</td>\n      <td>0</td>\n      <td>373450</td>\n      <td>8.0500</td>\n      <td>NaN</td>\n      <td>S</td>\n      <td>adult</td>\n    </tr>\n    <tr>\n      <th>5</th>\n      <td>0</td>\n      <td>3</td>\n      <td>male</td>\n      <td>NaN</td>\n      <td>0</td>\n      <td>0</td>\n      <td>330877</td>\n      <td>8.4583</td>\n      <td>NaN</td>\n      <td>Q</td>\n      <td>adult</td>\n    </tr>\n    <tr>\n      <th>6</th>\n      <td>0</td>\n      <td>1</td>\n      <td>male</td>\n      <td>54.0</td>\n      <td>0</td>\n      <td>0</td>\n      <td>17463</td>\n      <td>51.8625</td>\n      <td>E46</td>\n      <td>S</td>\n      <td>adult</td>\n    </tr>\n    <tr>\n      <th>7</th>\n      <td>0</td>\n      <td>3</td>\n      <td>male</td>\n      <td>2.0</td>\n      <td>3</td>\n      <td>1</td>\n      <td>349909</td>\n      <td>21.0750</td>\n      <td>NaN</td>\n      <td>S</td>\n      <td>child</td>\n    </tr>\n    <tr>\n      <th>8</th>\n      <td>1</td>\n      <td>3</td>\n      <td>female</td>\n      <td>27.0</td>\n      <td>0</td>\n      <td>2</td>\n      <td>347742</td>\n      <td>11.1333</td>\n      <td>NaN</td>\n      <td>S</td>\n      <td>adult</td>\n    </tr>\n    <tr>\n      <th>9</th>\n      <td>1</td>\n      <td>2</td>\n      <td>female</td>\n      <td>14.0</td>\n      <td>1</td>\n      <td>0</td>\n      <td>237736</td>\n      <td>30.0708</td>\n      <td>NaN</td>\n      <td>C</td>\n      <td>child</td>\n    </tr>\n  </tbody>\n</table>\n</div>"
     },
     "metadata": {},
     "execution_count": 49
    }
   ],
   "source": [
    "taitanic_df['person'] = taitanic_df.apply(male_female_child,axis=1)\n",
    "taitanic_df.head(10)"
   ]
  },
  {
   "source": [
    "# 外れ値の除外\n",
    "### ageが平均から標準偏差の2つ分以上離れている値を外れ値として除外する\n",
    "### ※注意点　この方法の場合、本来はデータが正規分布に従っていることが前提となる"
   ],
   "cell_type": "markdown",
   "metadata": {}
  },
  {
   "cell_type": "code",
   "execution_count": 50,
   "metadata": {},
   "outputs": [
    {
     "output_type": "stream",
     "name": "stdout",
     "text": [
      "0.646122982390736 58.752112311726904\n"
     ]
    }
   ],
   "source": [
    "#Ageの平均を求める\n",
    "age_mean = taitanic_df['Age'].mean()\n",
    "#Ageの標準偏差を求める\n",
    "age_std = taitanic_df['Age'].std()\n",
    "\n",
    "#外れ値の閾値\n",
    "upper_threshold = age_mean + age_std*2 #上限\n",
    "lower_threshold = age_mean - age_std*2 #下限\n",
    "\n",
    "print(lower_threshold,upper_threshold)"
   ]
  },
  {
   "cell_type": "code",
   "execution_count": 51,
   "metadata": {},
   "outputs": [],
   "source": [
    "taitanic_df_outlier = taitanic_df[(taitanic_df['Age']<upper_threshold) & (taitanic_df['Age']>lower_threshold)]"
   ]
  },
  {
   "cell_type": "code",
   "execution_count": 52,
   "metadata": {},
   "outputs": [
    {
     "output_type": "execute_result",
     "data": {
      "text/plain": [
       "<matplotlib.axes._subplots.AxesSubplot at 0x22a0b798320>"
      ]
     },
     "metadata": {},
     "execution_count": 52
    },
    {
     "output_type": "display_data",
     "data": {
      "text/plain": "<Figure size 432x288 with 1 Axes>",
      "image/svg+xml": "<?xml version=\"1.0\" encoding=\"utf-8\" standalone=\"no\"?>\r\n<!DOCTYPE svg PUBLIC \"-//W3C//DTD SVG 1.1//EN\"\r\n  \"http://www.w3.org/Graphics/SVG/1.1/DTD/svg11.dtd\">\r\n<!-- Created with matplotlib (https://matplotlib.org/) -->\r\n<svg height=\"248.230625pt\" version=\"1.1\" viewBox=\"0 0 376.793522 248.230625\" width=\"376.793522pt\" xmlns=\"http://www.w3.org/2000/svg\" xmlns:xlink=\"http://www.w3.org/1999/xlink\">\r\n <defs>\r\n  <style type=\"text/css\">\r\n*{stroke-linecap:butt;stroke-linejoin:round;white-space:pre;}\r\n  </style>\r\n </defs>\r\n <g id=\"figure_1\">\r\n  <g id=\"patch_1\">\r\n   <path d=\"M 0 248.230625 \r\nL 376.793522 248.230625 \r\nL 376.793522 0 \r\nL 0 0 \r\nz\r\n\" style=\"fill:none;\"/>\r\n  </g>\r\n  <g id=\"axes_1\">\r\n   <g id=\"patch_2\">\r\n    <path d=\"M 33.095312 224.64 \r\nL 367.895312 224.64 \r\nL 367.895312 7.2 \r\nL 33.095312 7.2 \r\nz\r\n\" style=\"fill:#ffffff;\"/>\r\n   </g>\r\n   <g id=\"patch_3\">\r\n    <path clip-path=\"url(#p6e55fa8761)\" d=\"M 48.313494 224.64 \r\nL 78.749858 224.64 \r\nL 78.749858 155.10757 \r\nL 48.313494 155.10757 \r\nz\r\n\" style=\"fill:#1f77b4;\"/>\r\n   </g>\r\n   <g id=\"patch_4\">\r\n    <path clip-path=\"url(#p6e55fa8761)\" d=\"M 78.749858 224.64 \r\nL 109.186222 224.64 \r\nL 109.186222 191.38536 \r\nL 78.749858 191.38536 \r\nz\r\n\" style=\"fill:#1f77b4;\"/>\r\n   </g>\r\n   <g id=\"patch_5\">\r\n    <path clip-path=\"url(#p6e55fa8761)\" d=\"M 109.186222 224.64 \r\nL 139.622585 224.64 \r\nL 139.622585 158.130719 \r\nL 109.186222 158.130719 \r\nz\r\n\" style=\"fill:#1f77b4;\"/>\r\n   </g>\r\n   <g id=\"patch_6\">\r\n    <path clip-path=\"url(#p6e55fa8761)\" d=\"M 139.622585 224.64 \r\nL 170.058949 224.64 \r\nL 170.058949 22.089009 \r\nL 139.622585 22.089009 \r\nz\r\n\" style=\"fill:#1f77b4;\"/>\r\n   </g>\r\n   <g id=\"patch_7\">\r\n    <path clip-path=\"url(#p6e55fa8761)\" d=\"M 170.058949 224.64 \r\nL 200.495313 224.64 \r\nL 200.495313 17.554286 \r\nL 170.058949 17.554286 \r\nz\r\n\" style=\"fill:#1f77b4;\"/>\r\n   </g>\r\n   <g id=\"patch_8\">\r\n    <path clip-path=\"url(#p6e55fa8761)\" d=\"M 200.495313 224.64 \r\nL 230.931676 224.64 \r\nL 230.931676 53.832075 \r\nL 200.495313 53.832075 \r\nz\r\n\" style=\"fill:#1f77b4;\"/>\r\n   </g>\r\n   <g id=\"patch_9\">\r\n    <path clip-path=\"url(#p6e55fa8761)\" d=\"M 230.931676 224.64 \r\nL 261.36804 224.64 \r\nL 261.36804 120.341356 \r\nL 230.931676 120.341356 \r\nz\r\n\" style=\"fill:#1f77b4;\"/>\r\n   </g>\r\n   <g id=\"patch_10\">\r\n    <path clip-path=\"url(#p6e55fa8761)\" d=\"M 261.36804 224.64 \r\nL 291.804403 224.64 \r\nL 291.804403 149.061272 \r\nL 261.36804 149.061272 \r\nz\r\n\" style=\"fill:#1f77b4;\"/>\r\n   </g>\r\n   <g id=\"patch_11\">\r\n    <path clip-path=\"url(#p6e55fa8761)\" d=\"M 291.804403 224.64 \r\nL 322.240767 224.64 \r\nL 322.240767 153.595996 \r\nL 291.804403 153.595996 \r\nz\r\n\" style=\"fill:#1f77b4;\"/>\r\n   </g>\r\n   <g id=\"patch_12\">\r\n    <path clip-path=\"url(#p6e55fa8761)\" d=\"M 322.240767 224.64 \r\nL 352.677131 224.64 \r\nL 352.677131 189.873785 \r\nL 322.240767 189.873785 \r\nz\r\n\" style=\"fill:#1f77b4;\"/>\r\n   </g>\r\n   <g id=\"matplotlib.axis_1\">\r\n    <g id=\"xtick_1\">\r\n     <g id=\"line2d_1\">\r\n      <path clip-path=\"url(#p6e55fa8761)\" d=\"M 44.75648 224.64 \r\nL 44.75648 7.2 \r\n\" style=\"fill:none;stroke:#b0b0b0;stroke-linecap:square;stroke-width:0.8;\"/>\r\n     </g>\r\n     <g id=\"line2d_2\">\r\n      <defs>\r\n       <path d=\"M 0 0 \r\nL 0 3.5 \r\n\" id=\"m28a8ac8919\" style=\"stroke:#000000;stroke-width:0.8;\"/>\r\n      </defs>\r\n      <g>\r\n       <use style=\"stroke:#000000;stroke-width:0.8;\" x=\"44.75648\" xlink:href=\"#m28a8ac8919\" y=\"224.64\"/>\r\n      </g>\r\n     </g>\r\n     <g id=\"text_1\">\r\n      <!-- 0 -->\r\n      <defs>\r\n       <path d=\"M 31.84375 73.828125 \r\nQ 45.015625 73.828125 52.09375 61.625 \r\nQ 57.71875 51.953125 57.71875 36.625 \r\nQ 57.71875 21.4375 52.09375 11.578125 \r\nQ 45.125 -0.484375 31.5 -0.484375 \r\nQ 17.921875 -0.484375 10.9375 11.578125 \r\nQ 5.328125 21.4375 5.328125 36.71875 \r\nQ 5.328125 58.015625 15.625 67.71875 \r\nQ 22.171875 73.828125 31.84375 73.828125 \r\nz\r\nM 31.5 66.65625 \r\nQ 23.6875 66.65625 19.1875 58.734375 \r\nQ 14.59375 50.734375 14.59375 36.625 \r\nQ 14.59375 22.75 19.09375 14.796875 \r\nQ 23.640625 6.984375 31.5 6.984375 \r\nQ 40.921875 6.984375 45.453125 18.015625 \r\nQ 48.4375 25.34375 48.4375 37.109375 \r\nQ 48.4375 50.875 43.84375 58.734375 \r\nQ 39.203125 66.65625 31.5 66.65625 \r\nz\r\n\" id=\"IPAexGothic-48\"/>\r\n      </defs>\r\n      <g transform=\"translate(41.607261 239.130625)scale(0.1 -0.1)\">\r\n       <use xlink:href=\"#IPAexGothic-48\"/>\r\n      </g>\r\n     </g>\r\n    </g>\r\n    <g id=\"xtick_2\">\r\n     <g id=\"line2d_3\">\r\n      <path clip-path=\"url(#p6e55fa8761)\" d=\"M 97.846247 224.64 \r\nL 97.846247 7.2 \r\n\" style=\"fill:none;stroke:#b0b0b0;stroke-linecap:square;stroke-width:0.8;\"/>\r\n     </g>\r\n     <g id=\"line2d_4\">\r\n      <g>\r\n       <use style=\"stroke:#000000;stroke-width:0.8;\" x=\"97.846247\" xlink:href=\"#m28a8ac8919\" y=\"224.64\"/>\r\n      </g>\r\n     </g>\r\n     <g id=\"text_2\">\r\n      <!-- 10 -->\r\n      <defs>\r\n       <path d=\"M 38.484375 0.984375 \r\nL 29.6875 0.984375 \r\nL 29.6875 64.109375 \r\nQ 21.4375 61.28125 12.3125 59.328125 \r\nL 10.6875 66.109375 \r\nQ 23.734375 69.390625 32.90625 73.921875 \r\nL 38.484375 73.921875 \r\nz\r\n\" id=\"IPAexGothic-49\"/>\r\n      </defs>\r\n      <g transform=\"translate(91.54781 239.130625)scale(0.1 -0.1)\">\r\n       <use xlink:href=\"#IPAexGothic-49\"/>\r\n       <use x=\"62.988281\" xlink:href=\"#IPAexGothic-48\"/>\r\n      </g>\r\n     </g>\r\n    </g>\r\n    <g id=\"xtick_3\">\r\n     <g id=\"line2d_5\">\r\n      <path clip-path=\"url(#p6e55fa8761)\" d=\"M 150.936015 224.64 \r\nL 150.936015 7.2 \r\n\" style=\"fill:none;stroke:#b0b0b0;stroke-linecap:square;stroke-width:0.8;\"/>\r\n     </g>\r\n     <g id=\"line2d_6\">\r\n      <g>\r\n       <use style=\"stroke:#000000;stroke-width:0.8;\" x=\"150.936015\" xlink:href=\"#m28a8ac8919\" y=\"224.64\"/>\r\n      </g>\r\n     </g>\r\n     <g id=\"text_3\">\r\n      <!-- 20 -->\r\n      <defs>\r\n       <path d=\"M 57.171875 0.984375 \r\nL 6.984375 0.984375 \r\nL 6.984375 9.28125 \r\nQ 12.890625 23.046875 29.59375 34.421875 \r\nL 32.375 36.28125 \r\nQ 40.921875 42.140625 43.609375 45.40625 \r\nQ 46.6875 49.265625 46.6875 53.8125 \r\nQ 46.6875 58.9375 43.0625 62.546875 \r\nQ 39.0625 66.546875 32.5625 66.546875 \r\nQ 19.53125 66.546875 15.484375 52 \r\nL 7.765625 54.78125 \r\nQ 13.328125 73.828125 33.0625 73.828125 \r\nQ 43.84375 73.828125 50.25 67.4375 \r\nQ 55.859375 61.671875 55.859375 53.515625 \r\nQ 55.859375 47.46875 52.25 42.53125 \r\nQ 48.921875 37.75 36.96875 30.28125 \r\nL 34.859375 29 \r\nQ 19.625 19.578125 15.28125 8.890625 \r\nL 57.171875 8.890625 \r\nz\r\n\" id=\"IPAexGothic-50\"/>\r\n      </defs>\r\n      <g transform=\"translate(144.637577 239.130625)scale(0.1 -0.1)\">\r\n       <use xlink:href=\"#IPAexGothic-50\"/>\r\n       <use x=\"62.988281\" xlink:href=\"#IPAexGothic-48\"/>\r\n      </g>\r\n     </g>\r\n    </g>\r\n    <g id=\"xtick_4\">\r\n     <g id=\"line2d_7\">\r\n      <path clip-path=\"url(#p6e55fa8761)\" d=\"M 204.025782 224.64 \r\nL 204.025782 7.2 \r\n\" style=\"fill:none;stroke:#b0b0b0;stroke-linecap:square;stroke-width:0.8;\"/>\r\n     </g>\r\n     <g id=\"line2d_8\">\r\n      <g>\r\n       <use style=\"stroke:#000000;stroke-width:0.8;\" x=\"204.025782\" xlink:href=\"#m28a8ac8919\" y=\"224.64\"/>\r\n      </g>\r\n     </g>\r\n     <g id=\"text_4\">\r\n      <!-- 30 -->\r\n      <defs>\r\n       <path d=\"M 37.203125 37.796875 \r\nQ 54.78125 34.625 54.78125 19.96875 \r\nQ 54.78125 11.1875 48.875 5.5625 \r\nQ 42.328125 -0.484375 30.375 -0.484375 \r\nQ 12.453125 -0.484375 4.5 13.765625 \r\nL 11.8125 17.671875 \r\nQ 17.328125 6.890625 30.28125 6.890625 \r\nQ 37.890625 6.890625 42.09375 10.796875 \r\nQ 46.09375 14.5 46.09375 20.171875 \r\nQ 46.09375 26.859375 40.09375 30.90625 \r\nQ 34.625 34.578125 25.6875 34.578125 \r\nL 21.296875 34.578125 \r\nL 21.296875 41.703125 \r\nL 25.875 41.703125 \r\nQ 34.859375 41.703125 39.59375 45.125 \r\nQ 44.671875 48.734375 44.671875 54.828125 \r\nQ 44.671875 61.46875 38.96875 64.65625 \r\nQ 35.296875 66.84375 30.171875 66.84375 \r\nQ 19.34375 66.84375 14.109375 55.90625 \r\nL 6.78125 59.421875 \r\nQ 14.015625 73.828125 30.28125 73.828125 \r\nQ 40.578125 73.828125 46.96875 68.65625 \r\nQ 53.375 63.578125 53.375 55.21875 \r\nQ 53.375 47.3125 47.171875 42.28125 \r\nQ 43.171875 39.0625 37.203125 38.1875 \r\nz\r\n\" id=\"IPAexGothic-51\"/>\r\n      </defs>\r\n      <g transform=\"translate(197.727345 239.130625)scale(0.1 -0.1)\">\r\n       <use xlink:href=\"#IPAexGothic-51\"/>\r\n       <use x=\"62.988281\" xlink:href=\"#IPAexGothic-48\"/>\r\n      </g>\r\n     </g>\r\n    </g>\r\n    <g id=\"xtick_5\">\r\n     <g id=\"line2d_9\">\r\n      <path clip-path=\"url(#p6e55fa8761)\" d=\"M 257.115549 224.64 \r\nL 257.115549 7.2 \r\n\" style=\"fill:none;stroke:#b0b0b0;stroke-linecap:square;stroke-width:0.8;\"/>\r\n     </g>\r\n     <g id=\"line2d_10\">\r\n      <g>\r\n       <use style=\"stroke:#000000;stroke-width:0.8;\" x=\"257.115549\" xlink:href=\"#m28a8ac8919\" y=\"224.64\"/>\r\n      </g>\r\n     </g>\r\n     <g id=\"text_5\">\r\n      <!-- 40 -->\r\n      <defs>\r\n       <path d=\"M 59.578125 18.109375 \r\nL 47.796875 18.109375 \r\nL 47.796875 0.984375 \r\nL 39.796875 0.984375 \r\nL 39.796875 18.109375 \r\nL 3.078125 18.109375 \r\nL 3.078125 26.125 \r\nL 38.375 73.09375 \r\nL 47.796875 73.09375 \r\nL 47.796875 25.53125 \r\nL 59.578125 25.53125 \r\nz\r\nM 40.28125 64.203125 \r\nL 39.984375 64.203125 \r\nQ 35.59375 57.125 31.296875 51.3125 \r\nL 11.859375 25.53125 \r\nL 39.796875 25.53125 \r\nL 39.796875 49.125 \r\nQ 39.796875 54.390625 40.28125 64.203125 \r\nz\r\n\" id=\"IPAexGothic-52\"/>\r\n      </defs>\r\n      <g transform=\"translate(250.817112 239.130625)scale(0.1 -0.1)\">\r\n       <use xlink:href=\"#IPAexGothic-52\"/>\r\n       <use x=\"62.988281\" xlink:href=\"#IPAexGothic-48\"/>\r\n      </g>\r\n     </g>\r\n    </g>\r\n    <g id=\"xtick_6\">\r\n     <g id=\"line2d_11\">\r\n      <path clip-path=\"url(#p6e55fa8761)\" d=\"M 310.205317 224.64 \r\nL 310.205317 7.2 \r\n\" style=\"fill:none;stroke:#b0b0b0;stroke-linecap:square;stroke-width:0.8;\"/>\r\n     </g>\r\n     <g id=\"line2d_12\">\r\n      <g>\r\n       <use style=\"stroke:#000000;stroke-width:0.8;\" x=\"310.205317\" xlink:href=\"#m28a8ac8919\" y=\"224.64\"/>\r\n      </g>\r\n     </g>\r\n     <g id=\"text_6\">\r\n      <!-- 50 -->\r\n      <defs>\r\n       <path d=\"M 18.40625 40.671875 \r\nQ 25.53125 46.296875 33.9375 46.296875 \r\nQ 44 46.296875 50.640625 39.5 \r\nQ 56.84375 33.015625 56.84375 23.390625 \r\nQ 56.84375 14.65625 51.515625 8.015625 \r\nQ 44.828125 -0.484375 31.734375 -0.484375 \r\nQ 14.984375 -0.484375 7.328125 12.25 \r\nL 14.65625 16.0625 \r\nQ 20.453125 6.78125 31.453125 6.78125 \r\nQ 38.53125 6.78125 43.265625 11.1875 \r\nQ 48.140625 15.828125 48.140625 23.484375 \r\nQ 48.140625 30.71875 43.84375 35.015625 \r\nQ 39.359375 39.5 32.125 39.5 \r\nQ 21.96875 39.5 16.75 31.6875 \r\nL 9.234375 32.671875 \r\nL 13.8125 72.40625 \r\nL 53.21875 72.40625 \r\nL 53.21875 64.890625 \r\nL 20.953125 64.890625 \r\nL 17.71875 40.671875 \r\nz\r\n\" id=\"IPAexGothic-53\"/>\r\n      </defs>\r\n      <g transform=\"translate(303.906879 239.130625)scale(0.1 -0.1)\">\r\n       <use xlink:href=\"#IPAexGothic-53\"/>\r\n       <use x=\"62.988281\" xlink:href=\"#IPAexGothic-48\"/>\r\n      </g>\r\n     </g>\r\n    </g>\r\n    <g id=\"xtick_7\">\r\n     <g id=\"line2d_13\">\r\n      <path clip-path=\"url(#p6e55fa8761)\" d=\"M 363.295084 224.64 \r\nL 363.295084 7.2 \r\n\" style=\"fill:none;stroke:#b0b0b0;stroke-linecap:square;stroke-width:0.8;\"/>\r\n     </g>\r\n     <g id=\"line2d_14\">\r\n      <g>\r\n       <use style=\"stroke:#000000;stroke-width:0.8;\" x=\"363.295084\" xlink:href=\"#m28a8ac8919\" y=\"224.64\"/>\r\n      </g>\r\n     </g>\r\n     <g id=\"text_7\">\r\n      <!-- 60 -->\r\n      <defs>\r\n       <path d=\"M 16.5 36.375 \r\nQ 23.578125 46.578125 34.90625 46.578125 \r\nQ 45.40625 46.578125 51.8125 39.265625 \r\nQ 57.421875 32.90625 57.421875 23.78125 \r\nQ 57.421875 13.8125 51.125 6.78125 \r\nQ 44.578125 -0.484375 34.03125 -0.484375 \r\nQ 21.484375 -0.484375 14.40625 9.078125 \r\nQ 7.515625 18.40625 7.515625 34.8125 \r\nQ 7.515625 53.515625 15.828125 64.203125 \r\nQ 23.34375 73.828125 35.5 73.828125 \r\nQ 49.859375 73.828125 56.390625 62.890625 \r\nL 49.21875 58.984375 \r\nQ 45.21875 66.65625 35.9375 66.65625 \r\nQ 17.484375 66.65625 16.109375 36.375 \r\nz\r\nM 33.453125 39.796875 \r\nQ 26.3125 39.796875 21.625 34.46875 \r\nQ 17.4375 29.6875 17.4375 24.078125 \r\nQ 17.4375 18.0625 21.140625 13.1875 \r\nQ 26.125 6.6875 33.734375 6.6875 \r\nQ 41.703125 6.6875 45.953125 13.1875 \r\nQ 48.828125 17.625 48.828125 23.484375 \r\nQ 48.828125 30.375 45.015625 34.8125 \r\nQ 40.625 39.796875 33.453125 39.796875 \r\nz\r\n\" id=\"IPAexGothic-54\"/>\r\n      </defs>\r\n      <g transform=\"translate(356.996647 239.130625)scale(0.1 -0.1)\">\r\n       <use xlink:href=\"#IPAexGothic-54\"/>\r\n       <use x=\"62.988281\" xlink:href=\"#IPAexGothic-48\"/>\r\n      </g>\r\n     </g>\r\n    </g>\r\n   </g>\r\n   <g id=\"matplotlib.axis_2\">\r\n    <g id=\"ytick_1\">\r\n     <g id=\"line2d_15\">\r\n      <path clip-path=\"url(#p6e55fa8761)\" d=\"M 33.095312 224.64 \r\nL 367.895312 224.64 \r\n\" style=\"fill:none;stroke:#b0b0b0;stroke-linecap:square;stroke-width:0.8;\"/>\r\n     </g>\r\n     <g id=\"line2d_16\">\r\n      <defs>\r\n       <path d=\"M 0 0 \r\nL -3.5 0 \r\n\" id=\"mfbff1e9887\" style=\"stroke:#000000;stroke-width:0.8;\"/>\r\n      </defs>\r\n      <g>\r\n       <use style=\"stroke:#000000;stroke-width:0.8;\" x=\"33.095312\" xlink:href=\"#mfbff1e9887\" y=\"224.64\"/>\r\n      </g>\r\n     </g>\r\n     <g id=\"text_8\">\r\n      <!-- 0 -->\r\n      <g transform=\"translate(19.796875 228.385312)scale(0.1 -0.1)\">\r\n       <use xlink:href=\"#IPAexGothic-48\"/>\r\n      </g>\r\n     </g>\r\n    </g>\r\n    <g id=\"ytick_2\">\r\n     <g id=\"line2d_17\">\r\n      <path clip-path=\"url(#p6e55fa8761)\" d=\"M 33.095312 194.408509 \r\nL 367.895312 194.408509 \r\n\" style=\"fill:none;stroke:#b0b0b0;stroke-linecap:square;stroke-width:0.8;\"/>\r\n     </g>\r\n     <g id=\"line2d_18\">\r\n      <g>\r\n       <use style=\"stroke:#000000;stroke-width:0.8;\" x=\"33.095312\" xlink:href=\"#mfbff1e9887\" y=\"194.408509\"/>\r\n      </g>\r\n     </g>\r\n     <g id=\"text_9\">\r\n      <!-- 20 -->\r\n      <g transform=\"translate(13.498437 198.153821)scale(0.1 -0.1)\">\r\n       <use xlink:href=\"#IPAexGothic-50\"/>\r\n       <use x=\"62.988281\" xlink:href=\"#IPAexGothic-48\"/>\r\n      </g>\r\n     </g>\r\n    </g>\r\n    <g id=\"ytick_3\">\r\n     <g id=\"line2d_19\">\r\n      <path clip-path=\"url(#p6e55fa8761)\" d=\"M 33.095312 164.177018 \r\nL 367.895312 164.177018 \r\n\" style=\"fill:none;stroke:#b0b0b0;stroke-linecap:square;stroke-width:0.8;\"/>\r\n     </g>\r\n     <g id=\"line2d_20\">\r\n      <g>\r\n       <use style=\"stroke:#000000;stroke-width:0.8;\" x=\"33.095312\" xlink:href=\"#mfbff1e9887\" y=\"164.177018\"/>\r\n      </g>\r\n     </g>\r\n     <g id=\"text_10\">\r\n      <!-- 40 -->\r\n      <g transform=\"translate(13.498437 167.92233)scale(0.1 -0.1)\">\r\n       <use xlink:href=\"#IPAexGothic-52\"/>\r\n       <use x=\"62.988281\" xlink:href=\"#IPAexGothic-48\"/>\r\n      </g>\r\n     </g>\r\n    </g>\r\n    <g id=\"ytick_4\">\r\n     <g id=\"line2d_21\">\r\n      <path clip-path=\"url(#p6e55fa8761)\" d=\"M 33.095312 133.945527 \r\nL 367.895312 133.945527 \r\n\" style=\"fill:none;stroke:#b0b0b0;stroke-linecap:square;stroke-width:0.8;\"/>\r\n     </g>\r\n     <g id=\"line2d_22\">\r\n      <g>\r\n       <use style=\"stroke:#000000;stroke-width:0.8;\" x=\"33.095312\" xlink:href=\"#mfbff1e9887\" y=\"133.945527\"/>\r\n      </g>\r\n     </g>\r\n     <g id=\"text_11\">\r\n      <!-- 60 -->\r\n      <g transform=\"translate(13.498437 137.690839)scale(0.1 -0.1)\">\r\n       <use xlink:href=\"#IPAexGothic-54\"/>\r\n       <use x=\"62.988281\" xlink:href=\"#IPAexGothic-48\"/>\r\n      </g>\r\n     </g>\r\n    </g>\r\n    <g id=\"ytick_5\">\r\n     <g id=\"line2d_23\">\r\n      <path clip-path=\"url(#p6e55fa8761)\" d=\"M 33.095312 103.714035 \r\nL 367.895312 103.714035 \r\n\" style=\"fill:none;stroke:#b0b0b0;stroke-linecap:square;stroke-width:0.8;\"/>\r\n     </g>\r\n     <g id=\"line2d_24\">\r\n      <g>\r\n       <use style=\"stroke:#000000;stroke-width:0.8;\" x=\"33.095312\" xlink:href=\"#mfbff1e9887\" y=\"103.714035\"/>\r\n      </g>\r\n     </g>\r\n     <g id=\"text_12\">\r\n      <!-- 80 -->\r\n      <defs>\r\n       <path d=\"M 39.703125 37.890625 \r\nQ 57.8125 31.734375 57.8125 18.703125 \r\nQ 57.8125 8.453125 48.4375 3.078125 \r\nQ 41.609375 -0.875 31.5 -0.875 \r\nQ 21.34375 -0.875 14.5 3.078125 \r\nQ 5.421875 8.296875 5.421875 18.40625 \r\nQ 5.421875 31.0625 22.015625 37.203125 \r\nL 22.015625 37.5 \r\nQ 7.515625 42.71875 7.515625 54.828125 \r\nQ 7.515625 64.0625 15.328125 69.625 \r\nQ 21.96875 74.3125 31.546875 74.3125 \r\nQ 42.234375 74.3125 48.921875 68.796875 \r\nQ 55.515625 63.578125 55.515625 55.71875 \r\nQ 55.515625 42.28125 39.703125 38.1875 \r\nz\r\nM 31.59375 41.015625 \r\nQ 46.828125 44.625 46.828125 55.125 \r\nQ 46.828125 61.1875 41.796875 64.84375 \r\nQ 37.703125 67.921875 31.5 67.921875 \r\nQ 25.09375 67.921875 20.796875 64.5 \r\nQ 16.40625 60.890625 16.40625 55.03125 \r\nQ 16.40625 49.21875 21.09375 45.703125 \r\nQ 23.34375 43.890625 26.90625 42.53125 \r\nQ 31 40.875 31.59375 41.015625 \r\nz\r\nM 30.90625 34.515625 \r\nQ 14.40625 30.171875 14.40625 19 \r\nQ 14.40625 12.109375 20.515625 8.6875 \r\nQ 25.09375 6.109375 31.390625 6.109375 \r\nQ 40.234375 6.109375 45.015625 10.890625 \r\nQ 48.53125 14.40625 48.53125 19.53125 \r\nQ 48.53125 24.90625 43.65625 28.90625 \r\nQ 40.765625 31.15625 36.71875 32.8125 \r\nQ 31.984375 34.71875 30.90625 34.515625 \r\nz\r\n\" id=\"IPAexGothic-56\"/>\r\n      </defs>\r\n      <g transform=\"translate(13.498437 107.459348)scale(0.1 -0.1)\">\r\n       <use xlink:href=\"#IPAexGothic-56\"/>\r\n       <use x=\"62.988281\" xlink:href=\"#IPAexGothic-48\"/>\r\n      </g>\r\n     </g>\r\n    </g>\r\n    <g id=\"ytick_6\">\r\n     <g id=\"line2d_25\">\r\n      <path clip-path=\"url(#p6e55fa8761)\" d=\"M 33.095312 73.482544 \r\nL 367.895312 73.482544 \r\n\" style=\"fill:none;stroke:#b0b0b0;stroke-linecap:square;stroke-width:0.8;\"/>\r\n     </g>\r\n     <g id=\"line2d_26\">\r\n      <g>\r\n       <use style=\"stroke:#000000;stroke-width:0.8;\" x=\"33.095312\" xlink:href=\"#mfbff1e9887\" y=\"73.482544\"/>\r\n      </g>\r\n     </g>\r\n     <g id=\"text_13\">\r\n      <!-- 100 -->\r\n      <g transform=\"translate(7.2 77.227857)scale(0.1 -0.1)\">\r\n       <use xlink:href=\"#IPAexGothic-49\"/>\r\n       <use x=\"62.988281\" xlink:href=\"#IPAexGothic-48\"/>\r\n       <use x=\"125.976562\" xlink:href=\"#IPAexGothic-48\"/>\r\n      </g>\r\n     </g>\r\n    </g>\r\n    <g id=\"ytick_7\">\r\n     <g id=\"line2d_27\">\r\n      <path clip-path=\"url(#p6e55fa8761)\" d=\"M 33.095312 43.251053 \r\nL 367.895312 43.251053 \r\n\" style=\"fill:none;stroke:#b0b0b0;stroke-linecap:square;stroke-width:0.8;\"/>\r\n     </g>\r\n     <g id=\"line2d_28\">\r\n      <g>\r\n       <use style=\"stroke:#000000;stroke-width:0.8;\" x=\"33.095312\" xlink:href=\"#mfbff1e9887\" y=\"43.251053\"/>\r\n      </g>\r\n     </g>\r\n     <g id=\"text_14\">\r\n      <!-- 120 -->\r\n      <g transform=\"translate(7.2 46.996366)scale(0.1 -0.1)\">\r\n       <use xlink:href=\"#IPAexGothic-49\"/>\r\n       <use x=\"62.988281\" xlink:href=\"#IPAexGothic-50\"/>\r\n       <use x=\"125.976562\" xlink:href=\"#IPAexGothic-48\"/>\r\n      </g>\r\n     </g>\r\n    </g>\r\n    <g id=\"ytick_8\">\r\n     <g id=\"line2d_29\">\r\n      <path clip-path=\"url(#p6e55fa8761)\" d=\"M 33.095312 13.019562 \r\nL 367.895312 13.019562 \r\n\" style=\"fill:none;stroke:#b0b0b0;stroke-linecap:square;stroke-width:0.8;\"/>\r\n     </g>\r\n     <g id=\"line2d_30\">\r\n      <g>\r\n       <use style=\"stroke:#000000;stroke-width:0.8;\" x=\"33.095312\" xlink:href=\"#mfbff1e9887\" y=\"13.019562\"/>\r\n      </g>\r\n     </g>\r\n     <g id=\"text_15\">\r\n      <!-- 140 -->\r\n      <g transform=\"translate(7.2 16.764875)scale(0.1 -0.1)\">\r\n       <use xlink:href=\"#IPAexGothic-49\"/>\r\n       <use x=\"62.988281\" xlink:href=\"#IPAexGothic-52\"/>\r\n       <use x=\"125.976562\" xlink:href=\"#IPAexGothic-48\"/>\r\n      </g>\r\n     </g>\r\n    </g>\r\n   </g>\r\n   <g id=\"patch_13\">\r\n    <path d=\"M 33.095312 224.64 \r\nL 33.095312 7.2 \r\n\" style=\"fill:none;stroke:#000000;stroke-linecap:square;stroke-linejoin:miter;stroke-width:0.8;\"/>\r\n   </g>\r\n   <g id=\"patch_14\">\r\n    <path d=\"M 367.895312 224.64 \r\nL 367.895312 7.2 \r\n\" style=\"fill:none;stroke:#000000;stroke-linecap:square;stroke-linejoin:miter;stroke-width:0.8;\"/>\r\n   </g>\r\n   <g id=\"patch_15\">\r\n    <path d=\"M 33.095312 224.64 \r\nL 367.895313 224.64 \r\n\" style=\"fill:none;stroke:#000000;stroke-linecap:square;stroke-linejoin:miter;stroke-width:0.8;\"/>\r\n   </g>\r\n   <g id=\"patch_16\">\r\n    <path d=\"M 33.095312 7.2 \r\nL 367.895313 7.2 \r\n\" style=\"fill:none;stroke:#000000;stroke-linecap:square;stroke-linejoin:miter;stroke-width:0.8;\"/>\r\n   </g>\r\n  </g>\r\n </g>\r\n <defs>\r\n  <clipPath id=\"p6e55fa8761\">\r\n   <rect height=\"217.44\" width=\"334.8\" x=\"33.095312\" y=\"7.2\"/>\r\n  </clipPath>\r\n </defs>\r\n</svg>\r\n",
      "image/png": "[encoded data removed]"
     },
     "metadata": {
      "needs_background": "light"
     }
    }
   ],
   "source": [
    "taitanic_df_outlier['Age'].hist()"
   ]
  },
  {
   "cell_type": "code",
   "execution_count": 53,
   "metadata": {},
   "outputs": [
    {
     "output_type": "execute_result",
     "data": {
      "text/plain": [
       "   Pclass    Plass_name\n",
       "0       1    high_class\n",
       "1       2  middle_class\n",
       "2       3     low_class"
      ],
      "text/html": "<div>\n<style scoped>\n    .dataframe tbody tr th:only-of-type {\n        vertical-align: middle;\n    }\n\n    .dataframe tbody tr th {\n        vertical-align: top;\n    }\n\n    .dataframe thead th {\n        text-align: right;\n    }\n</style>\n<table border=\"1\" class=\"dataframe\">\n  <thead>\n    <tr style=\"text-align: right;\">\n      <th></th>\n      <th>Pclass</th>\n      <th>Plass_name</th>\n    </tr>\n  </thead>\n  <tbody>\n    <tr>\n      <th>0</th>\n      <td>1</td>\n      <td>high_class</td>\n    </tr>\n    <tr>\n      <th>1</th>\n      <td>2</td>\n      <td>middle_class</td>\n    </tr>\n    <tr>\n      <th>2</th>\n      <td>3</td>\n      <td>low_class</td>\n    </tr>\n  </tbody>\n</table>\n</div>"
     },
     "metadata": {},
     "execution_count": 53
    }
   ],
   "source": [
    "#DataFrame作成\n",
    "Pclass_df = pd.DataFrame({  'Pclass' : [1,2,3],\n",
    "                        'Plass_name' : ['high_class','middle_class','low_class'] })\n",
    "\n",
    "Pclass_df"
   ]
  },
  {
   "cell_type": "code",
   "execution_count": 54,
   "metadata": {},
   "outputs": [
    {
     "output_type": "execute_result",
     "data": {
      "text/plain": [
       "   Survived  Pclass     Sex   Age  SibSp  Parch            Ticket     Fare  \\\n",
       "0         0       3    male  22.0      1      0         A/5 21171   7.2500   \n",
       "1         1       3  female  26.0      0      0  STON/O2. 3101282   7.9250   \n",
       "2         0       3    male  35.0      0      0            373450   8.0500   \n",
       "3         0       3    male   NaN      0      0            330877   8.4583   \n",
       "4         0       3    male   2.0      3      1            349909  21.0750   \n",
       "\n",
       "  Cabin Embarked person Plass_name  \n",
       "0   NaN        S  adult  low_class  \n",
       "1   NaN        S  adult  low_class  \n",
       "2   NaN        S  adult  low_class  \n",
       "3   NaN        Q  adult  low_class  \n",
       "4   NaN        S  child  low_class  "
      ],
      "text/html": "<div>\n<style scoped>\n    .dataframe tbody tr th:only-of-type {\n        vertical-align: middle;\n    }\n\n    .dataframe tbody tr th {\n        vertical-align: top;\n    }\n\n    .dataframe thead th {\n        text-align: right;\n    }\n</style>\n<table border=\"1\" class=\"dataframe\">\n  <thead>\n    <tr style=\"text-align: right;\">\n      <th></th>\n      <th>Survived</th>\n      <th>Pclass</th>\n      <th>Sex</th>\n      <th>Age</th>\n      <th>SibSp</th>\n      <th>Parch</th>\n      <th>Ticket</th>\n      <th>Fare</th>\n      <th>Cabin</th>\n      <th>Embarked</th>\n      <th>person</th>\n      <th>Plass_name</th>\n    </tr>\n  </thead>\n  <tbody>\n    <tr>\n      <th>0</th>\n      <td>0</td>\n      <td>3</td>\n      <td>male</td>\n      <td>22.0</td>\n      <td>1</td>\n      <td>0</td>\n      <td>A/5 21171</td>\n      <td>7.2500</td>\n      <td>NaN</td>\n      <td>S</td>\n      <td>adult</td>\n      <td>low_class</td>\n    </tr>\n    <tr>\n      <th>1</th>\n      <td>1</td>\n      <td>3</td>\n      <td>female</td>\n      <td>26.0</td>\n      <td>0</td>\n      <td>0</td>\n      <td>STON/O2. 3101282</td>\n      <td>7.9250</td>\n      <td>NaN</td>\n      <td>S</td>\n      <td>adult</td>\n      <td>low_class</td>\n    </tr>\n    <tr>\n      <th>2</th>\n      <td>0</td>\n      <td>3</td>\n      <td>male</td>\n      <td>35.0</td>\n      <td>0</td>\n      <td>0</td>\n      <td>373450</td>\n      <td>8.0500</td>\n      <td>NaN</td>\n      <td>S</td>\n      <td>adult</td>\n      <td>low_class</td>\n    </tr>\n    <tr>\n      <th>3</th>\n      <td>0</td>\n      <td>3</td>\n      <td>male</td>\n      <td>NaN</td>\n      <td>0</td>\n      <td>0</td>\n      <td>330877</td>\n      <td>8.4583</td>\n      <td>NaN</td>\n      <td>Q</td>\n      <td>adult</td>\n      <td>low_class</td>\n    </tr>\n    <tr>\n      <th>4</th>\n      <td>0</td>\n      <td>3</td>\n      <td>male</td>\n      <td>2.0</td>\n      <td>3</td>\n      <td>1</td>\n      <td>349909</td>\n      <td>21.0750</td>\n      <td>NaN</td>\n      <td>S</td>\n      <td>child</td>\n      <td>low_class</td>\n    </tr>\n  </tbody>\n</table>\n</div>"
     },
     "metadata": {},
     "execution_count": 54
    }
   ],
   "source": [
    "#DataFrameの結合\n",
    "taitanic_df2 = pd.merge(taitanic_df, Pclass_df, how = 'outer', on = 'Pclass')\n",
    "taitanic_df2.head()"
   ]
  },
  {
   "cell_type": "code",
   "execution_count": null,
   "metadata": {},
   "outputs": [],
   "source": []
  }
 ]
}